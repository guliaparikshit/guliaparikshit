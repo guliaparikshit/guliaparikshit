{
  "nbformat": 4,
  "nbformat_minor": 0,
  "metadata": {
    "colab": {
      "provenance": []
    },
    "kernelspec": {
      "name": "python3",
      "display_name": "Python 3"
    },
    "language_info": {
      "name": "python"
    }
  },
  "cells": [
    {
      "cell_type": "code",
      "source": [],
      "metadata": {
        "id": "8t9F7OxEv9Yv"
      },
      "execution_count": null,
      "outputs": []
    },
    {
      "cell_type": "markdown",
      "source": [
        "Q1. What is Statistics?"
      ],
      "metadata": {
        "id": "FUgAQR6lwiqN"
      }
    },
    {
      "cell_type": "code",
      "source": [],
      "metadata": {
        "id": "yDyMRC0kwjdp"
      },
      "execution_count": null,
      "outputs": []
    },
    {
      "cell_type": "markdown",
      "source": [
        "Statistics is the branch of mathematics that involves collecting, analyzing, interpreting, presenting, and organizing data. It helps to summarize data in meaningful ways and make inferences or predictions based on the data."
      ],
      "metadata": {
        "id": "gAjkh0FzwnLg"
      }
    },
    {
      "cell_type": "code",
      "source": [],
      "metadata": {
        "id": "ZZ9fR2d3wn2N"
      },
      "execution_count": null,
      "outputs": []
    },
    {
      "cell_type": "markdown",
      "source": [
        "Q2. Define the different types of statistics and give an example of when each type might be used."
      ],
      "metadata": {
        "id": "I6PqHm2zwqxx"
      }
    },
    {
      "cell_type": "code",
      "source": [],
      "metadata": {
        "id": "W0s5JZHNwtUs"
      },
      "execution_count": null,
      "outputs": []
    },
    {
      "cell_type": "markdown",
      "source": [
        "There are two main types of statistics:\n",
        "\n",
        "Descriptive Statistics: Involves summarizing or describing the main features of a dataset. It includes measures like mean, median, mode, variance, and standard deviation.\n",
        "Example: Describing the average salary of employees in a company.\n",
        "\n",
        "Inferential Statistics: Uses sample data to make generalizations or predictions about a population. It involves hypothesis testing, confidence intervals, and regression analysis.\n",
        "Example: Predicting the election outcome based on a poll sample."
      ],
      "metadata": {
        "id": "gtAVf2sFwwQ2"
      }
    },
    {
      "cell_type": "code",
      "source": [],
      "metadata": {
        "id": "IoMvaMRdww1o"
      },
      "execution_count": null,
      "outputs": []
    },
    {
      "cell_type": "markdown",
      "source": [
        "Q3. What are the different types of data and how do they differ from each other? Provide an example of\n",
        "each type of data."
      ],
      "metadata": {
        "id": "QPD6ivb2wzJC"
      }
    },
    {
      "cell_type": "code",
      "source": [],
      "metadata": {
        "id": "Bu2Q6KjPwzqR"
      },
      "execution_count": null,
      "outputs": []
    },
    {
      "cell_type": "markdown",
      "source": [
        "Quantitative Data: Numerical data that can be measured. It includes continuous and discrete data.\n",
        "Example: Height of students (continuous), number of cars (discrete).\n",
        "\n",
        "Qualitative Data: Categorical data that can describe qualities or characteristics. It includes nominal and ordinal data.\n",
        "Example: Gender (nominal), education level (ordinal)."
      ],
      "metadata": {
        "id": "NbJbaUl3w202"
      }
    },
    {
      "cell_type": "code",
      "source": [],
      "metadata": {
        "id": "cbBvaAEjw3ar"
      },
      "execution_count": null,
      "outputs": []
    },
    {
      "cell_type": "markdown",
      "source": [
        "Q4. Categorise the following datasets with respect to quantitative and qualitative data types:\n",
        "\n",
        "(i) Grading in exam: A+, A, B+, B, C+, C, D, E\n",
        "\n",
        "(ii) Colour of mangoes: yellow, green, orange, red\n",
        "\n",
        "(iii) Height data of a class: [178.9, 179, 179.5, 176, 177.2, 178.3, 175.8,...]\n",
        "\n",
        "(iv) Number of mangoes exported by a farm: [500, 600, 478, 672, ...]"
      ],
      "metadata": {
        "id": "qNARR2bMw6MC"
      }
    },
    {
      "cell_type": "code",
      "source": [],
      "metadata": {
        "id": "sI1e_DEgw6to"
      },
      "execution_count": null,
      "outputs": []
    },
    {
      "cell_type": "markdown",
      "source": [
        "(i) Grading in exam: A+, A, B+, B, C+, C, D, E → Qualitative (Ordinal)\n",
        "\n",
        "(ii) Colour of mangoes: yellow, green, orange, red → Qualitative (Nominal)\n",
        "\n",
        "(iii) Height data of a class: [178.9, 179, 179.5, 176, 177.2, 178.3, 175.8,...] → Quantitative (Continuous)\n",
        "\n",
        "(iv) Number of mangoes exported by a farm: [500, 600, 478, 672, ...] → Quantitative (Discrete)\n",
        "\n"
      ],
      "metadata": {
        "id": "e8sYP6lFxC6v"
      }
    },
    {
      "cell_type": "code",
      "source": [],
      "metadata": {
        "id": "LjK0_YAKxFRu"
      },
      "execution_count": null,
      "outputs": []
    },
    {
      "cell_type": "markdown",
      "source": [
        "Q5. Explain the concept of levels of measurement and give an example of a variable for each level."
      ],
      "metadata": {
        "id": "Vyom9ABVxHnf"
      }
    },
    {
      "cell_type": "code",
      "source": [],
      "metadata": {
        "id": "_UDo4PkLxINt"
      },
      "execution_count": null,
      "outputs": []
    },
    {
      "cell_type": "markdown",
      "source": [
        "The levels of measurement describe the way variables are measured and classified:\n",
        "\n",
        "Nominal: Categories without a natural order or ranking.\n",
        "Example: Gender (Male, Female, Other).\n",
        "\n",
        "Ordinal: Categories with a meaningful order but no consistent difference between them.\n",
        "Example: Survey ratings (Excellent, Good, Fair, Poor).\n",
        "\n",
        "Interval: Numerical data with consistent intervals but no true zero.\n",
        "Example: Temperature in Celsius (0°C is not the absence of temperature).\n",
        "\n",
        "Ratio: Numerical data with consistent intervals and a true zero point.\n",
        "Example: Weight (0 kg represents no weight)."
      ],
      "metadata": {
        "id": "Qamb3ek3xMnn"
      }
    },
    {
      "cell_type": "code",
      "source": [],
      "metadata": {
        "id": "txLfiN4CxNQE"
      },
      "execution_count": null,
      "outputs": []
    },
    {
      "cell_type": "markdown",
      "source": [
        "Q6. Why is it important to understand the level of measurement when analyzing data? Provide an\n",
        "example to illustrate your answer."
      ],
      "metadata": {
        "id": "fFMHRjxvxQHu"
      }
    },
    {
      "cell_type": "code",
      "source": [],
      "metadata": {
        "id": "yRPPgFRIxQmU"
      },
      "execution_count": null,
      "outputs": []
    },
    {
      "cell_type": "markdown",
      "source": [
        "Understanding the level of measurement is crucial because it dictates which statistical methods and tests are appropriate. For instance, you can calculate the mean of interval and ratio data, but not of nominal or ordinal data.\n",
        "Example: You cannot compute the mean of a survey with ordinal ratings (e.g., \"Strongly agree\" to \"Strongly disagree\") because the intervals between the categories are not uniform."
      ],
      "metadata": {
        "id": "PGoqIcRHxTIy"
      }
    },
    {
      "cell_type": "code",
      "source": [],
      "metadata": {
        "id": "cIp7yK8ZxTjF"
      },
      "execution_count": null,
      "outputs": []
    },
    {
      "cell_type": "markdown",
      "source": [
        "Q7. How nominal data type is different from ordinal data type."
      ],
      "metadata": {
        "id": "77uJt7-5xWA-"
      }
    },
    {
      "cell_type": "code",
      "source": [],
      "metadata": {
        "id": "CA27Lz_6xWkJ"
      },
      "execution_count": null,
      "outputs": []
    },
    {
      "cell_type": "markdown",
      "source": [
        "Nominal Data: Categories that do not have any inherent order or ranking.\n",
        "Example: Eye color (blue, brown, green).\n",
        "\n",
        "Ordinal Data: Categories with a meaningful order or ranking, but no consistent difference between them.\n",
        "Example: Likert scale responses (Strongly agree, Agree, Neutral, Disagree, Strongly disagree).\n",
        "\n"
      ],
      "metadata": {
        "id": "K_Akg5P-xZiQ"
      }
    },
    {
      "cell_type": "code",
      "source": [],
      "metadata": {
        "id": "MRPqgwBfxaAP"
      },
      "execution_count": null,
      "outputs": []
    },
    {
      "cell_type": "markdown",
      "source": [
        "Q8. Which type of plot can be used to display data in terms of range?"
      ],
      "metadata": {
        "id": "zUSJukA0xcJL"
      }
    },
    {
      "cell_type": "code",
      "source": [],
      "metadata": {
        "id": "u4HwTaKBxcnL"
      },
      "execution_count": null,
      "outputs": []
    },
    {
      "cell_type": "markdown",
      "source": [
        "A box plot (also called a box-and-whisker plot) is commonly used to display the range of a dataset. It shows the minimum, first quartile, median, third quartile, and maximum values.\n",
        "\n"
      ],
      "metadata": {
        "id": "p4BsbHOlxfZb"
      }
    },
    {
      "cell_type": "code",
      "source": [],
      "metadata": {
        "id": "l8ry5jngxf-m"
      },
      "execution_count": null,
      "outputs": []
    },
    {
      "cell_type": "markdown",
      "source": [
        "Q9. Describe the difference between descriptive and inferential statistics. Give an example of each\n",
        "type of statistics and explain how they are used."
      ],
      "metadata": {
        "id": "6IFJqhRSxifR"
      }
    },
    {
      "cell_type": "code",
      "source": [],
      "metadata": {
        "id": "qbvEsc4_xjA-"
      },
      "execution_count": null,
      "outputs": []
    },
    {
      "cell_type": "markdown",
      "source": [
        "Descriptive Statistics: Summarizes and describes the features of a dataset.\n",
        "Example: Calculating the mean and standard deviation of test scores for a class.\n",
        "\n",
        "Inferential Statistics: Makes predictions or inferences about a population based on a sample.\n",
        "Example: Using a sample of 100 people to estimate the average income of an entire city.\n",
        "\n"
      ],
      "metadata": {
        "id": "pHeGvZvuxlT4"
      }
    },
    {
      "cell_type": "code",
      "source": [],
      "metadata": {
        "id": "YoFZA86xxlz0"
      },
      "execution_count": null,
      "outputs": []
    },
    {
      "cell_type": "markdown",
      "source": [
        "Q10. What are some common measures of central tendency and variability used in statistics? Explain\n",
        "how each measure can be used to describe a dataset."
      ],
      "metadata": {
        "id": "iFfH8ZFKxoJX"
      }
    },
    {
      "cell_type": "code",
      "source": [],
      "metadata": {
        "id": "KrC0M-V0xolt"
      },
      "execution_count": null,
      "outputs": []
    },
    {
      "cell_type": "markdown",
      "source": [
        "Measures of Central Tendency:\n",
        "\n",
        "Mean: The average value, calculated by summing all values and dividing by the number of values.\n",
        "\n",
        "Median: The middle value when the data is arranged in ascending order.\n",
        "\n",
        "Mode: The most frequent value.\n",
        "\n",
        "\n",
        "Measures of Variability:\n",
        "\n",
        "Range: The difference between the maximum and minimum values.\n",
        "\n",
        "Variance: The average of the squared differences from the mean.\n",
        "\n",
        "Standard Deviation: The square root of the variance, indicating how spread out the data is."
      ],
      "metadata": {
        "id": "0_jYlaq1xsNB"
      }
    },
    {
      "cell_type": "code",
      "source": [],
      "metadata": {
        "id": "pjuTO-zzxsx5"
      },
      "execution_count": null,
      "outputs": []
    }
  ]
}