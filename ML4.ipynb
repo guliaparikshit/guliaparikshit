{
  "nbformat": 4,
  "nbformat_minor": 0,
  "metadata": {
    "colab": {
      "provenance": []
    },
    "kernelspec": {
      "name": "python3",
      "display_name": "Python 3"
    },
    "language_info": {
      "name": "python"
    }
  },
  "cells": [
    {
      "cell_type": "code",
      "source": [],
      "metadata": {
        "id": "kYiwzbKwnp6a"
      },
      "execution_count": null,
      "outputs": []
    },
    {
      "cell_type": "markdown",
      "source": [
        "Q1. What is the Filter method in feature selection, and how does it work?"
      ],
      "metadata": {
        "id": "DZtOBdIlosow"
      }
    },
    {
      "cell_type": "code",
      "source": [],
      "metadata": {
        "id": "IXSGWpeios-o"
      },
      "execution_count": null,
      "outputs": []
    },
    {
      "cell_type": "markdown",
      "source": [
        "The Filter method selects features based on their statistical properties, independent of the machine learning model. It evaluates each feature individually to determine its importance and removes irrelevant or redundant features before training the model.\n",
        "\n",
        "How it works:\n",
        "\n",
        "Correlation-based methods: Features are evaluated based on correlation with the target variable (e.g., Pearson correlation for numerical data).\n",
        "Statistical tests: Use tests like chi-square, ANOVA, or mutual information to evaluate the relationship between each feature and the target."
      ],
      "metadata": {
        "id": "ZCcfZtCbovyp"
      }
    },
    {
      "cell_type": "code",
      "source": [],
      "metadata": {
        "id": "OCM604QMoySk"
      },
      "execution_count": null,
      "outputs": []
    },
    {
      "cell_type": "markdown",
      "source": [
        "Q2. How does the Wrapper method differ from the Filter method in feature selection?"
      ],
      "metadata": {
        "id": "pJb0KYXvoyBs"
      }
    },
    {
      "cell_type": "code",
      "source": [],
      "metadata": {
        "id": "uFqXJ6xPo1kh"
      },
      "execution_count": null,
      "outputs": []
    },
    {
      "cell_type": "markdown",
      "source": [
        "The Wrapper method differs from the Filter method because it evaluates subsets of features by actually training and testing a model. The selection process depends on the model's performance, making it more computationally expensive.\n",
        "\n",
        "Key differences:\n",
        "\n",
        "Filter method: Selects features based on statistical tests (e.g., correlation, mutual information).\n",
        "\n",
        "Wrapper method: Selects features by testing different combinations of features using a specific machine learning algorithm. It iterates through subsets and evaluates model performance using metrics like accuracy or F1-score."
      ],
      "metadata": {
        "id": "XAjQXcQxo4rw"
      }
    },
    {
      "cell_type": "code",
      "source": [],
      "metadata": {
        "id": "n_JvnEeKo6am"
      },
      "execution_count": null,
      "outputs": []
    },
    {
      "cell_type": "markdown",
      "source": [
        "Q3. What are some common techniques used in Embedded feature selection methods?"
      ],
      "metadata": {
        "id": "m8tVZY8mo8wf"
      }
    },
    {
      "cell_type": "code",
      "source": [],
      "metadata": {
        "id": "20v8fxDJo9Bu"
      },
      "execution_count": null,
      "outputs": []
    },
    {
      "cell_type": "markdown",
      "source": [
        "Embedded methods combine feature selection and model training into a single process. They are usually part of the learning algorithm itself.\n",
        "\n",
        "Common techniques include:\n",
        "\n",
        "Lasso (L1 regularization): Penalizes the absolute values of coefficients, driving some of them to zero, thus performing feature selection.\n",
        "\n",
        "Decision Trees/Random Forests: Feature importance is determined by how useful each feature is in splitting data at each decision node.\n",
        "\n",
        "Gradient Boosting: Similar to decision trees, it evaluates feature importance based on how much each feature contributes to reducing error during training."
      ],
      "metadata": {
        "id": "hdgAHTSKpAaz"
      }
    },
    {
      "cell_type": "code",
      "source": [],
      "metadata": {
        "id": "sOl1UAMHpDVD"
      },
      "execution_count": null,
      "outputs": []
    },
    {
      "cell_type": "markdown",
      "source": [
        "Q4. What are some drawbacks of using the Filter method for feature selection?"
      ],
      "metadata": {
        "id": "fBuW9H6GpFOe"
      }
    },
    {
      "cell_type": "code",
      "source": [],
      "metadata": {
        "id": "m4mJt9-opFhc"
      },
      "execution_count": null,
      "outputs": []
    },
    {
      "cell_type": "markdown",
      "source": [
        "Drawbacks:\n",
        "\n",
        "Independence from the model: The Filter method does not consider the interaction between features and the model. A feature that seems irrelevant in isolation could be important when combined with others.\n",
        "\n",
        "Simplistic assumptions: Assumes that feature importance can be measured independently of the machine learning algorithm.\n",
        "\n",
        "Does not account for feature redundancy: Even if two features are highly correlated with the target, the Filter method might select both, ignoring redundancy."
      ],
      "metadata": {
        "id": "D-ih3cHwpIe0"
      }
    },
    {
      "cell_type": "code",
      "source": [],
      "metadata": {
        "id": "O2IO9aeJpKPB"
      },
      "execution_count": null,
      "outputs": []
    },
    {
      "cell_type": "markdown",
      "source": [
        "Q5. In which situations would you prefer using the Filter method over the Wrapper method for feature\n",
        "selection?"
      ],
      "metadata": {
        "id": "SPtElJALpMHW"
      }
    },
    {
      "cell_type": "code",
      "source": [],
      "metadata": {
        "id": "xww-6gu3pMWu"
      },
      "execution_count": null,
      "outputs": []
    },
    {
      "cell_type": "markdown",
      "source": [
        "You have a large dataset: It's faster and computationally efficient since it does not require training models.\n",
        "\n",
        "You need quick feature selection: It provides an initial, quick selection of important features before applying a model.\n",
        "\n",
        "When computational resources are limited: The Filter method does not require model training for each feature subset, making it less resource-intensive."
      ],
      "metadata": {
        "id": "MoSz9egSpOr5"
      }
    },
    {
      "cell_type": "code",
      "source": [],
      "metadata": {
        "id": "yg9axXqBpP4E"
      },
      "execution_count": null,
      "outputs": []
    },
    {
      "cell_type": "markdown",
      "source": [
        "Q6. In a telecom company, you are working on a project to develop a predictive model for customer churn.\n",
        "You are unsure of which features to include in the model because the dataset contains several different\n",
        "ones. Describe how you would choose the most pertinent attributes for the model using the Filter Method."
      ],
      "metadata": {
        "id": "egoZ9v2OpSUl"
      }
    },
    {
      "cell_type": "code",
      "source": [],
      "metadata": {
        "id": "qtZsILqbpSmo"
      },
      "execution_count": null,
      "outputs": []
    },
    {
      "cell_type": "markdown",
      "source": [
        "Use correlation analysis to check how each feature correlates with customer churn (the target variable). Features with low correlation can be discarded.\n",
        "\n",
        "Use statistical tests, such as chi-square (for categorical variables) or ANOVA (for numerical variables), to evaluate which features have significant relationships with the target variable (churn)."
      ],
      "metadata": {
        "id": "AUGgwVmspU4B"
      }
    },
    {
      "cell_type": "code",
      "source": [],
      "metadata": {
        "id": "alOOnfnWpVgn"
      },
      "execution_count": null,
      "outputs": []
    },
    {
      "cell_type": "markdown",
      "source": [
        "Q7. You are working on a project to predict the outcome of a soccer match. You have a large dataset with\n",
        "many features, including player statistics and team rankings. Explain how you would use the Embedded\n",
        "method to select the most relevant features for the model."
      ],
      "metadata": {
        "id": "v1729RwzpYRE"
      }
    },
    {
      "cell_type": "code",
      "source": [],
      "metadata": {
        "id": "8aW3L9qRpYgz"
      },
      "execution_count": null,
      "outputs": []
    },
    {
      "cell_type": "markdown",
      "source": [
        "Use a Decision Tree-based model like Random Forest or Gradient Boosting to train the model on your data.\n",
        "\n",
        "The model will assign feature importance scores to each feature, indicating how valuable each feature is for predicting the outcome of a soccer match.\n",
        "\n",
        "Select the top N features based on these importance scores, and discard the less important ones."
      ],
      "metadata": {
        "id": "H2lLFelupa2D"
      }
    },
    {
      "cell_type": "code",
      "source": [],
      "metadata": {
        "id": "MVYqV2uepcHA"
      },
      "execution_count": null,
      "outputs": []
    },
    {
      "cell_type": "markdown",
      "source": [
        "Q8. You are working on a project to predict the price of a house based on its features, such as size, location,\n",
        "and age. You have a limited number of features, and you want to ensure that you select the most important\n",
        "ones for the model. Explain how you would use the Wrapper method to select the best set of features for the\n",
        "predictor."
      ],
      "metadata": {
        "id": "8rxdn_7zpd1u"
      }
    },
    {
      "cell_type": "code",
      "source": [],
      "metadata": {
        "id": "IBsZwS6MpeHC"
      },
      "execution_count": null,
      "outputs": []
    },
    {
      "cell_type": "markdown",
      "source": [
        "Choose a machine learning algorithm (e.g., linear regression or random forest) to evaluate the performance of different feature subsets.\n",
        "\n",
        "Use Recursive Feature Elimination (RFE): This method starts by using all features and recursively removes the least important ones, based on the model’s performance (e.g., accuracy or RMSE).\n",
        "\n",
        "Evaluate subsets of features: In each iteration, the model is trained on a subset of features, and the performance is measured. Features that improve performance are retained."
      ],
      "metadata": {
        "id": "4BwCvk2Upghd"
      }
    },
    {
      "cell_type": "code",
      "source": [],
      "metadata": {
        "id": "Zflz4n73piFl"
      },
      "execution_count": null,
      "outputs": []
    }
  ]
}