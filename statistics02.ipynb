{
  "nbformat": 4,
  "nbformat_minor": 0,
  "metadata": {
    "colab": {
      "provenance": []
    },
    "kernelspec": {
      "name": "python3",
      "display_name": "Python 3"
    },
    "language_info": {
      "name": "python"
    }
  },
  "cells": [
    {
      "cell_type": "code",
      "source": [],
      "metadata": {
        "id": "dMGejqJ9yIc2"
      },
      "execution_count": null,
      "outputs": []
    },
    {
      "cell_type": "markdown",
      "source": [
        "Q1. What are the three measures of central tendency?"
      ],
      "metadata": {
        "id": "TFhq1BRvybEz"
      }
    },
    {
      "cell_type": "code",
      "source": [],
      "metadata": {
        "id": "Z1MB2Czrybqo"
      },
      "execution_count": null,
      "outputs": []
    },
    {
      "cell_type": "markdown",
      "source": [
        "The three measures of central tendency are:\n",
        "\n",
        "Mean: The average of all data points.\n",
        "\n",
        "Median: The middle value when data is sorted in ascending or descending order.\n",
        "\n",
        "Mode: The most frequently occurring value in the dataset."
      ],
      "metadata": {
        "id": "_XE3EHqlydZd"
      }
    },
    {
      "cell_type": "code",
      "source": [],
      "metadata": {
        "id": "Pt6we39CyfDu"
      },
      "execution_count": null,
      "outputs": []
    },
    {
      "cell_type": "markdown",
      "source": [
        "Q2. What is the difference between the mean, median, and mode? How are they used to measure the\n",
        "central tendency of a dataset?"
      ],
      "metadata": {
        "id": "CDUOQORqyg9-"
      }
    },
    {
      "cell_type": "code",
      "source": [],
      "metadata": {
        "id": "5SMzQdKwyhde"
      },
      "execution_count": null,
      "outputs": []
    },
    {
      "cell_type": "markdown",
      "source": [
        "Mean: Calculated by adding all data values and dividing by the number of values. It is best used for symmetric data with no outliers.\n",
        "\n",
        "Median: The middle value of a dataset when it is ordered. It is useful when data contains outliers or is skewed.\n",
        "\n",
        "Mode: The most frequent value. It is used for categorical data or when you want to identify the most common value in a dataset."
      ],
      "metadata": {
        "id": "2QaN316aykMY"
      }
    },
    {
      "cell_type": "code",
      "source": [],
      "metadata": {
        "id": "PfqIHFbmykpc"
      },
      "execution_count": null,
      "outputs": []
    },
    {
      "cell_type": "markdown",
      "source": [
        "Q3. Measure the three measures of central tendency for the given height data:\n",
        "[178,177,176,177,178.2,178,175,179,180,175,178.9,176.2,177,172.5,178,176.5]"
      ],
      "metadata": {
        "id": "q84FUcZFym4l"
      }
    },
    {
      "cell_type": "code",
      "source": [],
      "metadata": {
        "id": "fTDDAyL6ynZa"
      },
      "execution_count": null,
      "outputs": []
    },
    {
      "cell_type": "markdown",
      "source": [
        "Mean:\n",
        "\n",
        "Mean\n",
        "=\n",
        "(178\n",
        "+\n",
        "177\n",
        "+\n",
        "176\n",
        "+\n",
        "177\n",
        "+\n",
        "178.2\n",
        "+\n",
        "178\n",
        "+\n",
        "175\n",
        "+\n",
        "179\n",
        "+\n",
        "180\n",
        "+\n",
        "175\n",
        "+\n",
        "178.9\n",
        "+\n",
        "176.2\n",
        "+\n",
        "177\n",
        "+\n",
        "172.5\n",
        "+\n",
        "178\n",
        "+\n",
        "176.5)/16\n",
        "\n",
        "=\n",
        "\n",
        "177.19\n",
        "\n",
        "Median:\n",
        "After sorting the data:\n",
        "[172.5, 175, 175, 176, 176, 176.2, 176.5, 177, 177, 177, 177, 178, 178, 178, 178.2, 178.9, 179, 180]\n",
        "\n",
        "Median (middle values are 177 and 177, so median = 177).\n",
        "\n",
        "Mode:\n",
        "\n",
        "Mode = 178 (it occurs most frequently)."
      ],
      "metadata": {
        "id": "Z6ld8ILbyq_Q"
      }
    },
    {
      "cell_type": "code",
      "source": [],
      "metadata": {
        "id": "qQz0jnfOyr08"
      },
      "execution_count": null,
      "outputs": []
    },
    {
      "cell_type": "markdown",
      "source": [
        "Q4. Find the standard deviation for the given data:\n",
        "[178,177,176,177,178.2,178,175,179,180,175,178.9,176.2,177,172.5,178,176.5]"
      ],
      "metadata": {
        "id": "gANSy_UVzSMl"
      }
    },
    {
      "cell_type": "code",
      "source": [],
      "metadata": {
        "id": "OcaKvIzszSz-"
      },
      "execution_count": null,
      "outputs": []
    },
    {
      "cell_type": "markdown",
      "source": [
        "Step 1: Find the mean (already calculated as 177.19).\n",
        "\n",
        "Step 2: Subtract the mean from each data point and square the result.\n",
        "\n",
        "Step 3: Find the average of these squared differences (variance).\n",
        "\n",
        "Step 4: Take the square root of the variance to get the standard deviation.\n",
        "\n",
        "Standard deviation\n",
        "σ = 1.76 (rounded)."
      ],
      "metadata": {
        "id": "19dCvAK3zWqm"
      }
    },
    {
      "cell_type": "code",
      "source": [],
      "metadata": {
        "id": "yE_5pr9BzZnJ"
      },
      "execution_count": null,
      "outputs": []
    },
    {
      "cell_type": "markdown",
      "source": [
        "Q5. How are measures of dispersion such as range, variance, and standard deviation used to describe\n",
        "the spread of a dataset? Provide an example."
      ],
      "metadata": {
        "id": "K8qw2sKezdDB"
      }
    },
    {
      "cell_type": "code",
      "source": [],
      "metadata": {
        "id": "DwsI4v-8zdkd"
      },
      "execution_count": null,
      "outputs": []
    },
    {
      "cell_type": "markdown",
      "source": [
        "Range: The difference between the maximum and minimum values. It gives an idea of how spread out the data is.\n",
        "\n",
        "Example: Data = [2, 5, 8, 10]. Range = 10 - 2 = 8.\n",
        "\n",
        "Variance: Measures the average squared deviation from the mean. It is useful to understand the spread of data in a squared unit.\n",
        "\n",
        "Example: Variance of [1, 2, 3] = 0.67.\n",
        "\n",
        "Standard Deviation: The square root of variance. It tells us how much individual data points deviate from the mean, in the original unit of measurement.\n",
        "\n",
        "Example: Standard deviation of [1, 2, 3] = 0.82."
      ],
      "metadata": {
        "id": "6vhTP4YozgWp"
      }
    },
    {
      "cell_type": "code",
      "source": [],
      "metadata": {
        "id": "50MicuqGzg2w"
      },
      "execution_count": null,
      "outputs": []
    },
    {
      "cell_type": "markdown",
      "source": [
        "Q6. What is a Venn diagram?"
      ],
      "metadata": {
        "id": "ynN-aFkYznyw"
      }
    },
    {
      "cell_type": "code",
      "source": [],
      "metadata": {
        "id": "QgHTGtB3zoMZ"
      },
      "execution_count": null,
      "outputs": []
    },
    {
      "cell_type": "markdown",
      "source": [
        "A Venn diagram is a visual representation of sets and their relationships to each other. Circles are used to represent sets, and overlapping areas show the intersection between sets. It helps to visualize unions, intersections, and complements of sets."
      ],
      "metadata": {
        "id": "b25ectkqzqLr"
      }
    },
    {
      "cell_type": "code",
      "source": [],
      "metadata": {
        "id": "jNLVDZXhzqk9"
      },
      "execution_count": null,
      "outputs": []
    },
    {
      "cell_type": "markdown",
      "source": [
        "Q7. For the two given sets A = (2,3,4,5,6,7) & B = (0,2,6,8,10). Find:\n",
        "(i) A B\n",
        "(ii) A ⋃ B"
      ],
      "metadata": {
        "id": "uDY2OIEfzs1X"
      }
    },
    {
      "cell_type": "code",
      "source": [],
      "metadata": {
        "id": "9M5gdngyztZ4"
      },
      "execution_count": null,
      "outputs": []
    },
    {
      "cell_type": "markdown",
      "source": [
        "(i) A ∩ B (Intersection of A and B):\n",
        "𝐴\n",
        "∩\n",
        "𝐵\n",
        "=\n",
        "{\n",
        "2\n",
        ",\n",
        "6\n",
        "}\n",
        "A∩B={2,6}\n",
        "\n",
        "(ii) A ∪ B (Union of A and B):\n",
        "𝐴\n",
        "∪\n",
        "𝐵\n",
        "=\n",
        "{\n",
        "0\n",
        ",\n",
        "2\n",
        ",\n",
        "3\n",
        ",\n",
        "4\n",
        ",\n",
        "5\n",
        ",\n",
        "6\n",
        ",\n",
        "7\n",
        ",\n",
        "8\n",
        ",\n",
        "10\n",
        "}\n",
        "A∪B={0,2,3,4,5,6,7,8,10}"
      ],
      "metadata": {
        "id": "AyU5BSEwzxRY"
      }
    },
    {
      "cell_type": "code",
      "source": [],
      "metadata": {
        "id": "_OCW8exfzx0W"
      },
      "execution_count": null,
      "outputs": []
    },
    {
      "cell_type": "markdown",
      "source": [
        "Q8. What do you understand about skewness in data?"
      ],
      "metadata": {
        "id": "crCpGIN4z0pW"
      }
    },
    {
      "cell_type": "code",
      "source": [],
      "metadata": {
        "id": "l4efSz0oz1B6"
      },
      "execution_count": null,
      "outputs": []
    },
    {
      "cell_type": "markdown",
      "source": [
        "Skewness refers to the asymmetry or lopsidedness in the distribution of data. A positive (right) skew means the right tail is longer, and a negative (left) skew means the left tail is longer.\n",
        "\n"
      ],
      "metadata": {
        "id": "jdyprzP8z3WZ"
      }
    },
    {
      "cell_type": "code",
      "source": [],
      "metadata": {
        "id": "wyG8T3_6z3vg"
      },
      "execution_count": null,
      "outputs": []
    },
    {
      "cell_type": "markdown",
      "source": [
        "Q9. If a data is right skewed then what will be the position of median with respect to mean?"
      ],
      "metadata": {
        "id": "JzX9g3Zaz54g"
      }
    },
    {
      "cell_type": "code",
      "source": [],
      "metadata": {
        "id": "e16S-Tziz6QP"
      },
      "execution_count": null,
      "outputs": []
    },
    {
      "cell_type": "markdown",
      "source": [
        "In a right-skewed distribution, the mean is greater than the median. The mean is pulled towards the right tail, while the median is less affected by outliers."
      ],
      "metadata": {
        "id": "bk0jQTaAz8zR"
      }
    },
    {
      "cell_type": "code",
      "source": [],
      "metadata": {
        "id": "iUZMYlttz9LY"
      },
      "execution_count": null,
      "outputs": []
    },
    {
      "cell_type": "markdown",
      "source": [
        "Q10. Explain the difference between covariance and correlation. How are these measures used in\n",
        "statistical analysis?"
      ],
      "metadata": {
        "id": "TDhZNq7mz-yF"
      }
    },
    {
      "cell_type": "code",
      "source": [],
      "metadata": {
        "id": "CO0DHdHKz_LA"
      },
      "execution_count": null,
      "outputs": []
    },
    {
      "cell_type": "markdown",
      "source": [
        "Covariance: Measures the directional relationship between two variables. A positive covariance indicates both variables move in the same direction, while a negative covariance indicates they move in opposite directions.\n",
        "\n",
        "Correlation: Measures both the strength and direction of the relationship between two variables. It is normalized, meaning it has a value between -1 and 1."
      ],
      "metadata": {
        "id": "X_n7H33O0BvH"
      }
    },
    {
      "cell_type": "code",
      "source": [],
      "metadata": {
        "id": "7ZKkik7D0CI4"
      },
      "execution_count": null,
      "outputs": []
    },
    {
      "cell_type": "markdown",
      "source": [
        "Q11. What is the formula for calculating the sample mean? Provide an example calculation for a\n",
        "dataset."
      ],
      "metadata": {
        "id": "gN7uNz-p0EJA"
      }
    },
    {
      "cell_type": "code",
      "source": [],
      "metadata": {
        "id": "oJFCNdCQ0EmQ"
      },
      "execution_count": null,
      "outputs": []
    },
    {
      "cell_type": "code",
      "source": [],
      "metadata": {
        "id": "b8LdEK8B0Ji4"
      },
      "execution_count": null,
      "outputs": []
    },
    {
      "cell_type": "markdown",
      "source": [
        "Q12. For a normal distribution data what is the relationship between its measure of central tendency?"
      ],
      "metadata": {
        "id": "ZpcHT9hQ0QOs"
      }
    },
    {
      "cell_type": "code",
      "source": [],
      "metadata": {
        "id": "iJe0QasX0Qna"
      },
      "execution_count": null,
      "outputs": []
    },
    {
      "cell_type": "markdown",
      "source": [
        "In a normal distribution, the mean, median, and mode are all equal and lie at the center of the distribution."
      ],
      "metadata": {
        "id": "bUKk0GNT0Tk8"
      }
    },
    {
      "cell_type": "code",
      "source": [],
      "metadata": {
        "id": "z5vW7YDy0T8P"
      },
      "execution_count": null,
      "outputs": []
    },
    {
      "cell_type": "markdown",
      "source": [
        "Q13. How is covariance different from correlation?"
      ],
      "metadata": {
        "id": "muIZEUQ90V-y"
      }
    },
    {
      "cell_type": "code",
      "source": [],
      "metadata": {
        "id": "DzURfPoZ0WVZ"
      },
      "execution_count": null,
      "outputs": []
    },
    {
      "cell_type": "markdown",
      "source": [
        "Covariance measures the degree to which two variables change together, but it is dependent on the units of the variables.\n",
        "\n",
        "Correlation standardizes covariance to a scale of -1 to 1, providing a clearer understanding of the strength and direction of the relationship, regardless of units.\n"
      ],
      "metadata": {
        "id": "kHyDMXQY0YgY"
      }
    },
    {
      "cell_type": "code",
      "source": [],
      "metadata": {
        "id": "h5OwuHSv0Y5p"
      },
      "execution_count": null,
      "outputs": []
    },
    {
      "cell_type": "markdown",
      "source": [
        "Q14. How do outliers affect measures of central tendency and dispersion? Provide an example."
      ],
      "metadata": {
        "id": "yCuGh4it0b2w"
      }
    },
    {
      "cell_type": "code",
      "source": [],
      "metadata": {
        "id": "fT2Ihbwa0cHx"
      },
      "execution_count": null,
      "outputs": []
    },
    {
      "cell_type": "markdown",
      "source": [
        "Outliers can significantly skew the mean, making it unrepresentative of the data. The median is less affected by outliers.\n",
        "\n",
        "Example:\n",
        "For data [1, 2, 3, 100], the mean = 26.5, but the median = 2.5, showing that the mean is heavily influenced by the outlier (100).\n",
        "\n",
        "Outliers can also inflate the variance and standard deviation, making them higher than they should be."
      ],
      "metadata": {
        "id": "lCGtxX_u0fFs"
      }
    },
    {
      "cell_type": "code",
      "source": [],
      "metadata": {
        "id": "Ujp88e0-0ff8"
      },
      "execution_count": null,
      "outputs": []
    }
  ]
}