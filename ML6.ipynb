{
  "nbformat": 4,
  "nbformat_minor": 0,
  "metadata": {
    "colab": {
      "provenance": []
    },
    "kernelspec": {
      "name": "python3",
      "display_name": "Python 3"
    },
    "language_info": {
      "name": "python"
    }
  },
  "cells": [
    {
      "cell_type": "code",
      "source": [],
      "metadata": {
        "id": "8Ho7ucvrq3wk"
      },
      "execution_count": null,
      "outputs": []
    },
    {
      "cell_type": "markdown",
      "source": [
        "Q1. What is data encoding? How is it useful in data science?"
      ],
      "metadata": {
        "id": "TY7qnEXRrJQ-"
      }
    },
    {
      "cell_type": "code",
      "source": [],
      "metadata": {
        "id": "a-7vMcJzrKw4"
      },
      "execution_count": null,
      "outputs": []
    },
    {
      "cell_type": "markdown",
      "source": [
        "Data encoding refers to the process of converting categorical data into a numerical format that can be understood by machine learning algorithms. It is essential in data science because most machine learning models require numerical inputs, and encoding transforms categories into usable features."
      ],
      "metadata": {
        "id": "Ls8dxQPbrMln"
      }
    },
    {
      "cell_type": "code",
      "source": [],
      "metadata": {
        "id": "Zb03-eQgrNAM"
      },
      "execution_count": null,
      "outputs": []
    },
    {
      "cell_type": "markdown",
      "source": [
        "Q2. What is nominal encoding? Provide an example of how you would use it in a real-world scenario."
      ],
      "metadata": {
        "id": "amftcfD0rPUj"
      }
    },
    {
      "cell_type": "code",
      "source": [],
      "metadata": {
        "id": "PPfQVoTHrPsy"
      },
      "execution_count": null,
      "outputs": []
    },
    {
      "cell_type": "markdown",
      "source": [
        "Nominal encoding assigns a unique integer to each category in a feature. It's useful for nominal (categorical) data without any order or ranking.\n",
        "\n",
        "Example:\n",
        "For a dataset containing countries: [\"USA\", \"Canada\", \"Mexico\"], nominal encoding could assign:\n",
        "\n",
        "USA → 0\n",
        "Canada → 1\n",
        "Mexico → 2\n",
        "This allows the algorithm to work with categorical data as numerical inputs."
      ],
      "metadata": {
        "id": "QxGd0tR8rSBT"
      }
    },
    {
      "cell_type": "code",
      "source": [],
      "metadata": {
        "id": "rgjorNjzrSTV"
      },
      "execution_count": null,
      "outputs": []
    },
    {
      "cell_type": "markdown",
      "source": [
        "Q3. In what situations is nominal encoding preferred over one-hot encoding? Provide a practical example."
      ],
      "metadata": {
        "id": "5oJpIt7IrUvH"
      }
    },
    {
      "cell_type": "code",
      "source": [],
      "metadata": {
        "id": "ac7J4sy8rU_m"
      },
      "execution_count": null,
      "outputs": []
    },
    {
      "cell_type": "markdown",
      "source": [
        "Nominal encoding is preferred when the categorical feature has many unique values (e.g., more than 10), as one-hot encoding would create many new columns, potentially leading to high dimensionality.\n",
        "\n",
        "Example:\n",
        "\n",
        "For a column like Product ID with hundreds of different IDs, nominal encoding would be more efficient than one-hot encoding."
      ],
      "metadata": {
        "id": "ANd_2v59rW3j"
      }
    },
    {
      "cell_type": "code",
      "source": [],
      "metadata": {
        "id": "c_IPl1RVrXRD"
      },
      "execution_count": null,
      "outputs": []
    },
    {
      "cell_type": "markdown",
      "source": [
        "Q4. Suppose you have a dataset containing categorical data with 5 unique values. Which encoding\n",
        "technique would you use to transform this data into a format suitable for machine learning algorithms?\n",
        "Explain why you made this choice."
      ],
      "metadata": {
        "id": "MEg43rh_ra67"
      }
    },
    {
      "cell_type": "code",
      "source": [],
      "metadata": {
        "id": "O3fJiHOjrbWR"
      },
      "execution_count": null,
      "outputs": []
    },
    {
      "cell_type": "markdown",
      "source": [
        "If the categorical feature has 5 unique values, you can use nominal encoding (if there's no meaningful order) or one-hot encoding (if the number of unique categories is small and doesn't create high-dimensionality issues).\n",
        "\n",
        "Why choose nominal encoding?\n",
        "\n",
        "If the categorical feature doesn't have an inherent order, nominal encoding works well with few categories and reduces dimensionality."
      ],
      "metadata": {
        "id": "fRFDjOMOreiB"
      }
    },
    {
      "cell_type": "code",
      "source": [],
      "metadata": {
        "id": "65COu9HArfCG"
      },
      "execution_count": null,
      "outputs": []
    },
    {
      "cell_type": "markdown",
      "source": [
        "Q5. In a machine learning project, you have a dataset with 1000 rows and 5 columns. Two of the columns\n",
        "are categorical, and the remaining three columns are numerical. If you were to use nominal encoding to\n",
        "transform the categorical data, how many new columns would be created? Show your calculations."
      ],
      "metadata": {
        "id": "o9MqG1RmrhDV"
      }
    },
    {
      "cell_type": "code",
      "source": [],
      "metadata": {
        "id": "4FAyCdsvrhdY"
      },
      "execution_count": null,
      "outputs": []
    },
    {
      "cell_type": "markdown",
      "source": [
        "Nominal encoding creates one new column per categorical feature.\n",
        "\n",
        "If you have 2 categorical columns, nominal encoding would add 2 new columns (one for each categorical column).\n",
        "So, after transformation, the dataset will still have 5 columns, but 2 will be encoded numerically.\n"
      ],
      "metadata": {
        "id": "yQur9Dxtrjx4"
      }
    },
    {
      "cell_type": "code",
      "source": [],
      "metadata": {
        "id": "xRqtlOEfrkIe"
      },
      "execution_count": null,
      "outputs": []
    },
    {
      "cell_type": "markdown",
      "source": [
        "Q6. You are working with a dataset containing information about different types of animals, including their\n",
        "species, habitat, and diet. Which encoding technique would you use to transform the categorical data into\n",
        "a format suitable for machine learning algorithms? Justify your answer."
      ],
      "metadata": {
        "id": "42ohv6K0rpyI"
      }
    },
    {
      "cell_type": "code",
      "source": [],
      "metadata": {
        "id": "IvlhqEELrqG6"
      },
      "execution_count": null,
      "outputs": []
    },
    {
      "cell_type": "markdown",
      "source": [
        "For categorical data like species, habitat, and diet, one-hot encoding is ideal because these categories don't have any inherent order, and you want to avoid creating relationships between values that don't exist.\n",
        "\n",
        "Justification:\n",
        "\n",
        "One-hot encoding ensures that each category is treated independently, making it suitable for features like species or habitat."
      ],
      "metadata": {
        "id": "3W8wvg4Srsle"
      }
    },
    {
      "cell_type": "code",
      "source": [],
      "metadata": {
        "id": "QP7m-QQErtlm"
      },
      "execution_count": null,
      "outputs": []
    },
    {
      "cell_type": "markdown",
      "source": [
        "Q7.You are working on a project that involves predicting customer churn for a telecommunications\n",
        "company. You have a dataset with 5 features, including the customer's gender, age, contract type,\n",
        "monthly charges, and tenure. Which encoding technique(s) would you use to transform the categorical\n",
        "data into numerical data? Provide a step-by-step explanation of how you would implement the encoding."
      ],
      "metadata": {
        "id": "SfVzvWyHrvdp"
      }
    },
    {
      "cell_type": "code",
      "source": [],
      "metadata": {
        "id": "-bjvJl9Frv0S"
      },
      "execution_count": null,
      "outputs": []
    },
    {
      "cell_type": "markdown",
      "source": [
        "Gender (2 categories: \"Male\" and \"Female\"):\n",
        "\n",
        "Apply one-hot encoding:\n",
        "\n",
        "Male → [1, 0]\n",
        "\n",
        "Female → [0, 1]\n",
        "\n",
        "Contract type (e.g., \"Monthly\", \"Yearly\"):\n",
        "\n",
        "Apply one-hot encoding:\n",
        "\n",
        "Monthly → [1, 0]\n",
        "\n",
        "Yearly → [0, 1]"
      ],
      "metadata": {
        "id": "xeGaKHraryV-"
      }
    },
    {
      "cell_type": "code",
      "source": [],
      "metadata": {
        "id": "oRBW76ogr0-w"
      },
      "execution_count": null,
      "outputs": []
    }
  ]
}