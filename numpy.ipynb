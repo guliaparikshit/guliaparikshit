{
  "nbformat": 4,
  "nbformat_minor": 0,
  "metadata": {
    "colab": {
      "provenance": []
    },
    "kernelspec": {
      "name": "python3",
      "display_name": "Python 3"
    },
    "language_info": {
      "name": "python"
    }
  },
  "cells": [
    {
      "cell_type": "code",
      "source": [],
      "metadata": {
        "id": "YiXZVg5wiMQ0"
      },
      "execution_count": null,
      "outputs": []
    },
    {
      "cell_type": "markdown",
      "source": [
        "Q1. Is there any difference in the data type of variables list_ and array_list? If there is then write a code\n",
        "to print the data types of both the variables."
      ],
      "metadata": {
        "id": "GZtvGw7LW3_O"
      }
    },
    {
      "cell_type": "code",
      "source": [
        "pip install numpy\n"
      ],
      "metadata": {
        "colab": {
          "base_uri": "https://localhost:8080/"
        },
        "id": "5_8NEpCFW5gm",
        "outputId": "8b84d8d0-7067-445e-a3c1-b4e84d20446d"
      },
      "execution_count": 2,
      "outputs": [
        {
          "output_type": "stream",
          "name": "stdout",
          "text": [
            "Requirement already satisfied: numpy in /usr/local/lib/python3.10/dist-packages (1.26.4)\n"
          ]
        }
      ]
    },
    {
      "cell_type": "code",
      "source": [
        "import numpy as np\n",
        "list_ = ['1', '2', '3', '4', '5']\n",
        "array_list = np.array(object = list_)\n",
        "\n",
        "# Check data types\n",
        "print(f\"Data type of list_: {type(list_)}\")\n",
        "print(f\"Data type of array_list: {array_list.dtype}\")\n"
      ],
      "metadata": {
        "colab": {
          "base_uri": "https://localhost:8080/"
        },
        "id": "yJRTUvKDW4Rb",
        "outputId": "f09b4810-2c93-4479-c6af-b67939be4fb9"
      },
      "execution_count": 3,
      "outputs": [
        {
          "output_type": "stream",
          "name": "stdout",
          "text": [
            "Data type of list_: <class 'list'>\n",
            "Data type of array_list: <U1\n"
          ]
        }
      ]
    },
    {
      "cell_type": "code",
      "source": [],
      "metadata": {
        "id": "Cgp6zAeGXCix"
      },
      "execution_count": null,
      "outputs": []
    },
    {
      "cell_type": "markdown",
      "source": [
        "Q2. Write a code to print the data type of each and every element of both the variables list_ and\n",
        "arra_list."
      ],
      "metadata": {
        "id": "wMRpDWMPXFMO"
      }
    },
    {
      "cell_type": "code",
      "source": [
        "# Data type of each element in list_\n",
        "print(\"Data type of elements in list_:\")\n",
        "for elem in list_:\n",
        "    print(type(elem))\n",
        "\n",
        "# Data type of each element in array_list\n",
        "print(\"Data type of elements in array_list:\")\n",
        "for elem in array_list:\n",
        "    print(type(elem))\n"
      ],
      "metadata": {
        "colab": {
          "base_uri": "https://localhost:8080/"
        },
        "id": "yCcObaFJXFdp",
        "outputId": "0511fb48-a359-4478-d810-32fa7316e242"
      },
      "execution_count": 4,
      "outputs": [
        {
          "output_type": "stream",
          "name": "stdout",
          "text": [
            "Data type of elements in list_:\n",
            "<class 'str'>\n",
            "<class 'str'>\n",
            "<class 'str'>\n",
            "<class 'str'>\n",
            "<class 'str'>\n",
            "Data type of elements in array_list:\n",
            "<class 'numpy.str_'>\n",
            "<class 'numpy.str_'>\n",
            "<class 'numpy.str_'>\n",
            "<class 'numpy.str_'>\n",
            "<class 'numpy.str_'>\n"
          ]
        }
      ]
    },
    {
      "cell_type": "code",
      "source": [],
      "metadata": {
        "id": "ovBGZQxzXHId"
      },
      "execution_count": null,
      "outputs": []
    },
    {
      "cell_type": "markdown",
      "source": [
        "Q3. Considering the following changes in the variable, array_list:"
      ],
      "metadata": {
        "id": "-l7J5AF9XJ6G"
      }
    },
    {
      "cell_type": "code",
      "source": [
        "# Changing dtype of array_list to int\n",
        "array_list = np.array(object = list_, dtype=int)\n",
        "\n",
        "# Data type of each element in list_\n",
        "print(\"Data type of elements in list_:\")\n",
        "for elem in list_:\n",
        "    print(type(elem))\n",
        "\n",
        "# Data type of each element in array_list\n",
        "print(\"Data type of elements in array_list:\")\n",
        "for elem in array_list:\n",
        "    print(type(elem))\n"
      ],
      "metadata": {
        "colab": {
          "base_uri": "https://localhost:8080/"
        },
        "id": "NrShJN_wXKPQ",
        "outputId": "08d4c5e0-eab8-43a7-b98e-26a452b8a6c4"
      },
      "execution_count": 5,
      "outputs": [
        {
          "output_type": "stream",
          "name": "stdout",
          "text": [
            "Data type of elements in list_:\n",
            "<class 'str'>\n",
            "<class 'str'>\n",
            "<class 'str'>\n",
            "<class 'str'>\n",
            "<class 'str'>\n",
            "Data type of elements in array_list:\n",
            "<class 'numpy.int64'>\n",
            "<class 'numpy.int64'>\n",
            "<class 'numpy.int64'>\n",
            "<class 'numpy.int64'>\n",
            "<class 'numpy.int64'>\n"
          ]
        }
      ]
    },
    {
      "cell_type": "code",
      "source": [],
      "metadata": {
        "id": "AhOv7MF9XLuc"
      },
      "execution_count": null,
      "outputs": []
    },
    {
      "cell_type": "markdown",
      "source": [
        "Q4. Write a code to find the following characteristics of variable, num_array:\n",
        "\n",
        "(i) shape\n",
        "\n",
        "(ii) size"
      ],
      "metadata": {
        "id": "Eoknm4dZXOZl"
      }
    },
    {
      "cell_type": "code",
      "source": [
        "num_list = [[1, 2, 3], [4, 5, 6]]\n",
        "num_array = np.array(object = num_list)\n",
        "\n",
        "# (i) Shape\n",
        "print(f\"Shape of num_array: {num_array.shape}\")\n",
        "\n",
        "# (ii) Size\n",
        "print(f\"Size of num_array: {num_array.size}\")\n"
      ],
      "metadata": {
        "colab": {
          "base_uri": "https://localhost:8080/"
        },
        "id": "4h2oSZBxXOxu",
        "outputId": "9faa4de7-cd09-4f8b-c7ec-f54e522062c1"
      },
      "execution_count": 6,
      "outputs": [
        {
          "output_type": "stream",
          "name": "stdout",
          "text": [
            "Shape of num_array: (2, 3)\n",
            "Size of num_array: 6\n"
          ]
        }
      ]
    },
    {
      "cell_type": "code",
      "source": [],
      "metadata": {
        "id": "Sz7Ma7h1XTM2"
      },
      "execution_count": null,
      "outputs": []
    },
    {
      "cell_type": "markdown",
      "source": [
        "Q5. Write a code to create numpy array of 3*3 matrix containing zeros only, using a numpy array\n",
        "creation function."
      ],
      "metadata": {
        "id": "8J2ayoxSXVmc"
      }
    },
    {
      "cell_type": "code",
      "source": [
        "# Create 3x3 matrix of zeros\n",
        "zero_matrix = np.zeros((3, 3))\n",
        "\n",
        "# Print the matrix\n",
        "print(f\"3x3 Zero Matrix:\\n{zero_matrix}\")\n"
      ],
      "metadata": {
        "colab": {
          "base_uri": "https://localhost:8080/"
        },
        "id": "52yZM1dzXV_q",
        "outputId": "827b9fc4-e2ee-47b7-d78a-8d2f1c516662"
      },
      "execution_count": 7,
      "outputs": [
        {
          "output_type": "stream",
          "name": "stdout",
          "text": [
            "3x3 Zero Matrix:\n",
            "[[0. 0. 0.]\n",
            " [0. 0. 0.]\n",
            " [0. 0. 0.]]\n"
          ]
        }
      ]
    },
    {
      "cell_type": "code",
      "source": [],
      "metadata": {
        "id": "ZrBYG6HXXXOK"
      },
      "execution_count": null,
      "outputs": []
    },
    {
      "cell_type": "markdown",
      "source": [
        "Q6. Create an identity matrix of shape (5,5) using numpy functions?"
      ],
      "metadata": {
        "id": "O-bDIzpBXZqL"
      }
    },
    {
      "cell_type": "code",
      "source": [
        "# Create a 5x5 identity matrix\n",
        "identity_matrix = np.eye(5)\n",
        "\n",
        "# Print the identity matrix\n",
        "print(f\"5x5 Identity Matrix:\\n{identity_matrix}\")\n"
      ],
      "metadata": {
        "colab": {
          "base_uri": "https://localhost:8080/"
        },
        "id": "XxuW75TlXZ4c",
        "outputId": "5c1e4c1a-fb5d-4dc9-d4a6-8f81c21900fa"
      },
      "execution_count": 8,
      "outputs": [
        {
          "output_type": "stream",
          "name": "stdout",
          "text": [
            "5x5 Identity Matrix:\n",
            "[[1. 0. 0. 0. 0.]\n",
            " [0. 1. 0. 0. 0.]\n",
            " [0. 0. 1. 0. 0.]\n",
            " [0. 0. 0. 1. 0.]\n",
            " [0. 0. 0. 0. 1.]]\n"
          ]
        }
      ]
    },
    {
      "cell_type": "code",
      "source": [],
      "metadata": {
        "id": "hn9tlmQCXbGm"
      },
      "execution_count": null,
      "outputs": []
    }
  ]
}