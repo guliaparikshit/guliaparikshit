{
  "nbformat": 4,
  "nbformat_minor": 0,
  "metadata": {
    "colab": {
      "provenance": []
    },
    "kernelspec": {
      "name": "python3",
      "display_name": "Python 3"
    },
    "language_info": {
      "name": "python"
    }
  },
  "cells": [
    {
      "cell_type": "code",
      "source": [],
      "metadata": {
        "id": "3O57sLyMlmL5"
      },
      "execution_count": null,
      "outputs": []
    },
    {
      "cell_type": "markdown",
      "source": [
        "Q1: What are missing values in a dataset? Why is it essential to handle missing values? Name some\n",
        "algorithms that are not affected by missing values."
      ],
      "metadata": {
        "id": "8hqe9IcFl4hL"
      }
    },
    {
      "cell_type": "code",
      "source": [],
      "metadata": {
        "id": "DTFw9Sqel4vi"
      },
      "execution_count": null,
      "outputs": []
    },
    {
      "cell_type": "markdown",
      "source": [
        "Missing values are the data points that are absent or unknown in a dataset.\n",
        "Why it's important to handle them:\n",
        "\n",
        "Missing values can distort analysis, leading to biased or incorrect results.\n",
        "\n",
        "Models may fail to train properly or have reduced accuracy if missing data is not handled.\n",
        "\n",
        "Algorithms not affected by missing values:\n",
        "\n",
        "Decision Trees (e.g., Random Forest)\n",
        "\n",
        "K-Nearest Neighbors (KNN)"
      ],
      "metadata": {
        "id": "TPZMpyZul601"
      }
    },
    {
      "cell_type": "code",
      "source": [],
      "metadata": {
        "id": "RMPwAkBKl9JR"
      },
      "execution_count": null,
      "outputs": []
    },
    {
      "cell_type": "markdown",
      "source": [
        "Q2: List down techniques used to handle missing data. Give an example of each with python code."
      ],
      "metadata": {
        "id": "DXTkxVSpl_g3"
      }
    },
    {
      "cell_type": "code",
      "source": [
        "pip install pandas"
      ],
      "metadata": {
        "colab": {
          "base_uri": "https://localhost:8080/"
        },
        "id": "nl54I2D4mBTB",
        "outputId": "b50dfdb8-c23a-4559-8638-3f2b55ba5af8"
      },
      "execution_count": 1,
      "outputs": [
        {
          "output_type": "stream",
          "name": "stdout",
          "text": [
            "Requirement already satisfied: pandas in /usr/local/lib/python3.10/dist-packages (2.2.2)\n",
            "Requirement already satisfied: numpy>=1.22.4 in /usr/local/lib/python3.10/dist-packages (from pandas) (1.26.4)\n",
            "Requirement already satisfied: python-dateutil>=2.8.2 in /usr/local/lib/python3.10/dist-packages (from pandas) (2.8.2)\n",
            "Requirement already satisfied: pytz>=2020.1 in /usr/local/lib/python3.10/dist-packages (from pandas) (2024.2)\n",
            "Requirement already satisfied: tzdata>=2022.7 in /usr/local/lib/python3.10/dist-packages (from pandas) (2024.2)\n",
            "Requirement already satisfied: six>=1.5 in /usr/local/lib/python3.10/dist-packages (from python-dateutil>=2.8.2->pandas) (1.16.0)\n"
          ]
        }
      ]
    },
    {
      "cell_type": "code",
      "source": [],
      "metadata": {
        "id": "MkjG2LR7mOV2"
      },
      "execution_count": null,
      "outputs": []
    },
    {
      "cell_type": "markdown",
      "source": [
        "Q3: Explain the imbalanced data. What will happen if imbalanced data is not handled?"
      ],
      "metadata": {
        "id": "QbtSt-6emTq9"
      }
    },
    {
      "cell_type": "code",
      "source": [],
      "metadata": {
        "id": "6uWnaBzcmT-2"
      },
      "execution_count": null,
      "outputs": []
    },
    {
      "cell_type": "markdown",
      "source": [
        "Imbalanced data occurs when the number of instances in one class is much larger or smaller than in another, making the model biased toward the majority class.\n",
        "\n",
        "Consequences:\n",
        "\n",
        "The model might predict the majority class most of the time and ignore the minority class, leading to poor performance on the minority class.\n",
        "\n",
        "For example, in fraud detection, most transactions are legitimate, and if ignored, the model won’t detect fraud accurately."
      ],
      "metadata": {
        "id": "6tTEvLLHmV9v"
      }
    },
    {
      "cell_type": "code",
      "source": [],
      "metadata": {
        "id": "nRvt307jmX05"
      },
      "execution_count": null,
      "outputs": []
    },
    {
      "cell_type": "markdown",
      "source": [
        "Q4: What are Up-sampling and Down-sampling? Explain with an example when up-sampling and down-\n",
        "sampling are required."
      ],
      "metadata": {
        "id": "T8-hLSk2maF1"
      }
    },
    {
      "cell_type": "code",
      "source": [
        "pip install imbalanced-learn\n"
      ],
      "metadata": {
        "colab": {
          "base_uri": "https://localhost:8080/"
        },
        "id": "TbljsKN7maft",
        "outputId": "61281a67-f538-4769-b6b6-3ac8e69313f6"
      },
      "execution_count": 5,
      "outputs": [
        {
          "output_type": "stream",
          "name": "stdout",
          "text": [
            "Requirement already satisfied: imbalanced-learn in /usr/local/lib/python3.10/dist-packages (0.12.4)\n",
            "Requirement already satisfied: numpy>=1.17.3 in /usr/local/lib/python3.10/dist-packages (from imbalanced-learn) (1.26.4)\n",
            "Requirement already satisfied: scipy>=1.5.0 in /usr/local/lib/python3.10/dist-packages (from imbalanced-learn) (1.13.1)\n",
            "Requirement already satisfied: scikit-learn>=1.0.2 in /usr/local/lib/python3.10/dist-packages (from imbalanced-learn) (1.5.2)\n",
            "Requirement already satisfied: joblib>=1.1.1 in /usr/local/lib/python3.10/dist-packages (from imbalanced-learn) (1.4.2)\n",
            "Requirement already satisfied: threadpoolctl>=2.0.0 in /usr/local/lib/python3.10/dist-packages (from imbalanced-learn) (3.5.0)\n"
          ]
        }
      ]
    },
    {
      "cell_type": "code",
      "source": [
        "import pandas as pd\n",
        "from imblearn.over_sampling import SMOTE\n",
        "from sklearn.datasets import make_classification\n",
        "from collections import Counter\n",
        "\n",
        "# Create a simple imbalanced dataset (using make_classification)\n",
        "X, y = make_classification(n_samples=1000, n_features=20, n_classes=2, weights=[0.95, 0.05], flip_y=0, random_state=42)\n",
        "\n",
        "# Convert to DataFrame (for easier handling)\n",
        "df = pd.DataFrame(X)\n",
        "df['target'] = y\n",
        "\n",
        "# Check the original class distribution\n",
        "print(f\"Original class distribution: {Counter(y)}\")\n",
        "\n",
        "# Apply SMOTE to up-sample the minority class\n",
        "smote = SMOTE(random_state=42)\n",
        "X_resampled, y_resampled = smote.fit_resample(X, y)\n",
        "\n",
        "# Convert back to DataFrame (optional, for easier analysis)\n",
        "df_resampled = pd.DataFrame(X_resampled)\n",
        "df_resampled['target'] = y_resampled\n",
        "\n",
        "# Check the new class distribution\n",
        "print(f\"Resampled class distribution: {Counter(y_resampled)}\")\n"
      ],
      "metadata": {
        "colab": {
          "base_uri": "https://localhost:8080/"
        },
        "id": "Dqlt6DuxmhD0",
        "outputId": "0c6ad2a0-2214-43ab-b991-9ceb4cb838a4"
      },
      "execution_count": 8,
      "outputs": [
        {
          "output_type": "stream",
          "name": "stdout",
          "text": [
            "Original class distribution: Counter({0: 950, 1: 50})\n",
            "Resampled class distribution: Counter({0: 950, 1: 950})\n"
          ]
        }
      ]
    },
    {
      "cell_type": "code",
      "source": [
        "from sklearn.utils import resample\n",
        "from collections import Counter\n",
        "\n",
        "# Separate the majority and minority classes\n",
        "df_majority = df[df['target'] == 0]\n",
        "df_minority = df[df['target'] == 1]\n",
        "\n",
        "# Down-sample the majority class\n",
        "df_majority_downsampled = resample(df_majority,\n",
        "                                   replace=False,  # don't replace (no duplicates)\n",
        "                                   n_samples=len(df_minority),  # balance to the size of minority class\n",
        "                                   random_state=42)  # for reproducibility\n",
        "\n",
        "# Combine the down-sampled majority with the minority class\n",
        "df_balanced = pd.concat([df_majority_downsampled, df_minority])\n",
        "\n",
        "# Check the new class distribution\n",
        "print(f\"Resampled class distribution (down-sampling): {Counter(df_balanced['target'])}\")\n"
      ],
      "metadata": {
        "colab": {
          "base_uri": "https://localhost:8080/"
        },
        "id": "Gqm61wgomjrA",
        "outputId": "8c5321f5-71b9-470b-9e25-58fb5fe610e0"
      },
      "execution_count": 9,
      "outputs": [
        {
          "output_type": "stream",
          "name": "stdout",
          "text": [
            "Resampled class distribution (down-sampling): Counter({0: 50, 1: 50})\n"
          ]
        }
      ]
    },
    {
      "cell_type": "code",
      "source": [],
      "metadata": {
        "id": "5LKTkhizm3f9"
      },
      "execution_count": null,
      "outputs": []
    },
    {
      "cell_type": "markdown",
      "source": [
        "Q5: What is data Augmentation? Explain SMOTE."
      ],
      "metadata": {
        "id": "yqoH-fN9m6zx"
      }
    },
    {
      "cell_type": "code",
      "source": [],
      "metadata": {
        "id": "65mIF_j_m7EQ"
      },
      "execution_count": null,
      "outputs": []
    },
    {
      "cell_type": "markdown",
      "source": [
        "Data Augmentation involves creating new data points by modifying existing data (e.g., flipping, rotating, or scaling images) to increase the size and diversity of the dataset.\n",
        "\n",
        "SMOTE (Synthetic Minority Over-sampling Technique):\n",
        "\n",
        "SMOTE is a technique for generating synthetic samples for the minority class by creating new examples that are combinations of the nearest neighbors of the minority class instances."
      ],
      "metadata": {
        "id": "T0h8IWzzm-uK"
      }
    },
    {
      "cell_type": "code",
      "source": [],
      "metadata": {
        "id": "OubVSStcm_8K"
      },
      "execution_count": null,
      "outputs": []
    },
    {
      "cell_type": "markdown",
      "source": [
        "Q6: What are outliers in a dataset? Why is it essential to handle outliers?"
      ],
      "metadata": {
        "id": "8aC1CXYAnB0d"
      }
    },
    {
      "cell_type": "code",
      "source": [],
      "metadata": {
        "id": "6B4hQPRRnCJn"
      },
      "execution_count": null,
      "outputs": []
    },
    {
      "cell_type": "markdown",
      "source": [
        "Outliers are data points that significantly differ from the rest of the data, either higher or lower.\n",
        "\n",
        "Why it's important to handle them:\n",
        "\n",
        "Outliers can skew statistical analyses and model training, leading to poor predictions or biased results.\n",
        "\n",
        "They can distort distributions and mislead the model in making incorrect predictions."
      ],
      "metadata": {
        "id": "96ZZ0WCUnEX8"
      }
    },
    {
      "cell_type": "code",
      "source": [],
      "metadata": {
        "id": "4J-gbvfwnGHy"
      },
      "execution_count": null,
      "outputs": []
    },
    {
      "cell_type": "markdown",
      "source": [
        "Q7: You are working on a project that requires analyzing customer data. However, you notice that some of\n",
        "the data is missing. What are some techniques you can use to handle the missing data in your analysis?"
      ],
      "metadata": {
        "id": "YFqUmqbcnIa6"
      }
    },
    {
      "cell_type": "code",
      "source": [],
      "metadata": {
        "id": "VLp7cGwpnI4v"
      },
      "execution_count": null,
      "outputs": []
    },
    {
      "cell_type": "markdown",
      "source": [
        "You can handle missing data by:\n",
        "\n",
        "Removing rows or columns with missing data if it's not too much.\n",
        "\n",
        "Imputation using statistical measures (mean, median) or machine learning techniques (KNN, regression).\n",
        "\n",
        "Using algorithms that can handle missing values directly, like Decision Trees."
      ],
      "metadata": {
        "id": "0qXJ6VTSnLOi"
      }
    },
    {
      "cell_type": "code",
      "source": [],
      "metadata": {
        "id": "z6GRleUanMYt"
      },
      "execution_count": null,
      "outputs": []
    },
    {
      "cell_type": "markdown",
      "source": [
        "Q8: You are working with a large dataset and find that a small percentage of the data is missing. What are\n",
        "some strategies you can use to determine if the missing data is missing at random or if there is a pattern\n",
        "to the missing data?"
      ],
      "metadata": {
        "id": "fAJTogh7nOPq"
      }
    },
    {
      "cell_type": "code",
      "source": [],
      "metadata": {
        "id": "drq6GCFNnOnk"
      },
      "execution_count": null,
      "outputs": []
    },
    {
      "cell_type": "markdown",
      "source": [
        "Missing Completely at Random (MCAR): Missingness is unrelated to other variables. Use statistical tests like Little’s MCAR test.\n",
        "\n",
        "Missing at Random (MAR): Missingness is related to other observed data. Investigate correlations between missing values and other features.\n",
        "\n",
        "Not Missing at Random (NMAR): Missingness depends on the value itself. If possible, collect more data to understand this behavior."
      ],
      "metadata": {
        "id": "sfsl9FjlnQxn"
      }
    },
    {
      "cell_type": "code",
      "source": [],
      "metadata": {
        "id": "nvwjO-0GnSNw"
      },
      "execution_count": null,
      "outputs": []
    },
    {
      "cell_type": "markdown",
      "source": [
        "Q9: Suppose you are working on a medical diagnosis project and find that the majority of patients in the\n",
        "dataset do not have the condition of interest, while a small percentage do. What are some strategies you\n",
        "can use to evaluate the performance of your machine learning model on this imbalanced dataset?"
      ],
      "metadata": {
        "id": "7uLe-XJxnUVR"
      }
    },
    {
      "cell_type": "code",
      "source": [],
      "metadata": {
        "id": "fKfhyG7NnUlU"
      },
      "execution_count": null,
      "outputs": []
    },
    {
      "cell_type": "markdown",
      "source": [
        "Use metrics like Precision, Recall, F1-Score instead of accuracy to focus on minority class performance.\n",
        "\n",
        "ROC-AUC: Evaluate the trade-off between sensitivity and specificity.\n",
        "\n",
        "Stratified K-Fold cross-validation: Ensures that each fold has a proportionate number of minority and majority class instances.\n"
      ],
      "metadata": {
        "id": "RfyL23qAnXlB"
      }
    },
    {
      "cell_type": "code",
      "source": [],
      "metadata": {
        "id": "eTKNkS7rnY4b"
      },
      "execution_count": null,
      "outputs": []
    },
    {
      "cell_type": "markdown",
      "source": [
        "Q10: When attempting to estimate customer satisfaction for a project, you discover that the dataset is\n",
        "unbalanced, with the bulk of customers reporting being satisfied. What methods can you employ to\n",
        "balance the dataset and down-sample the majority class?"
      ],
      "metadata": {
        "id": "enghsxc3na6p"
      }
    },
    {
      "cell_type": "code",
      "source": [],
      "metadata": {
        "id": "rTbVmcCknbO0"
      },
      "execution_count": null,
      "outputs": []
    },
    {
      "cell_type": "markdown",
      "source": [
        "Down-sample the majority class by randomly reducing its size.\n",
        "\n",
        "Synthetic data generation using techniques like SMOTE.\n",
        "\n",
        "Use weighted loss functions in models like logistic regression to give more importance to the minority class.\n"
      ],
      "metadata": {
        "id": "8jQfhv9rndTT"
      }
    },
    {
      "cell_type": "code",
      "source": [],
      "metadata": {
        "id": "c9RVsqOKnep5"
      },
      "execution_count": null,
      "outputs": []
    },
    {
      "cell_type": "markdown",
      "source": [
        "Q11: You discover that the dataset is unbalanced with a low percentage of occurrences while working on a\n",
        "project that requires you to estimate the occurrence of a rare event. What methods can you employ to\n",
        "balance the dataset and up-sample the minority class?"
      ],
      "metadata": {
        "id": "Z_w4yn_ungai"
      }
    },
    {
      "cell_type": "code",
      "source": [],
      "metadata": {
        "id": "h8oJhPAzngn0"
      },
      "execution_count": null,
      "outputs": []
    },
    {
      "cell_type": "markdown",
      "source": [
        "Up-sample the minority class using techniques like SMOTE to generate synthetic data.\n",
        "\n",
        "Use anomaly detection algorithms that are designed for imbalanced datasets.\n",
        "\n",
        "Adjust class weights in models like SVM or Random Forest to make the minority class more important."
      ],
      "metadata": {
        "id": "mMVgLIVpnidh"
      }
    },
    {
      "cell_type": "code",
      "source": [],
      "metadata": {
        "id": "lfzWe9a-njm1"
      },
      "execution_count": null,
      "outputs": []
    }
  ]
}