{
  "nbformat": 4,
  "nbformat_minor": 0,
  "metadata": {
    "colab": {
      "provenance": []
    },
    "kernelspec": {
      "name": "python3",
      "display_name": "Python 3"
    },
    "language_info": {
      "name": "python"
    }
  },
  "cells": [
    {
      "cell_type": "code",
      "source": [],
      "metadata": {
        "id": "37YIBbyu2W-H"
      },
      "execution_count": null,
      "outputs": []
    },
    {
      "cell_type": "markdown",
      "source": [
        "Q1. What are the key features of the wine quality data set? Discuss the importance of each feature in\n",
        "predicting the quality of wine."
      ],
      "metadata": {
        "id": "4rNXxZew2ZF2"
      }
    },
    {
      "cell_type": "code",
      "source": [],
      "metadata": {
        "id": "RdgerpGC2ZUD"
      },
      "execution_count": null,
      "outputs": []
    },
    {
      "cell_type": "markdown",
      "source": [
        "The wine quality data set consists of various physicochemical properties of red and white wines, such as:\n",
        "\n",
        "Fixed acidity: Affects taste and texture; higher acidity is often linked with higher quality.\n",
        "\n",
        "Volatile acidity: High levels decrease quality by imparting sourness.\n",
        "\n",
        "Citric acid: Adds flavor and improves the wine's freshness.\n",
        "\n",
        "Residual sugar: Affects sweetness; too much can negatively impact quality.\n",
        "\n",
        "Chlorides: A higher level could indicate lower quality.\n",
        "\n",
        "Free sulfur dioxide: Acts as a preservative, influencing quality and stability.\n",
        "\n",
        "Total sulfur dioxide: Affects taste; excessive levels may reduce quality.\n",
        "\n",
        "Density: Affected by alcohol and sugar content, contributing to the wine's quality."
      ],
      "metadata": {
        "id": "EGLUsSaL2dE_"
      }
    },
    {
      "cell_type": "code",
      "source": [],
      "metadata": {
        "id": "jtH3gJY_2jMN"
      },
      "execution_count": null,
      "outputs": []
    },
    {
      "cell_type": "markdown",
      "source": [
        "Q2. How did you handle missing data in the wine quality data set during the feature engineering process?\n",
        "Discuss the advantages and disadvantages of different imputation techniques."
      ],
      "metadata": {
        "id": "EfaXYq0K2k7E"
      }
    },
    {
      "cell_type": "code",
      "source": [],
      "metadata": {
        "id": "R_5pZXeb2lKJ"
      },
      "execution_count": null,
      "outputs": []
    },
    {
      "cell_type": "markdown",
      "source": [
        "Deletion: Removing rows with missing data. It's simple but can reduce sample size.\n",
        "\n",
        "Imputation: Filling missing values with the mean or median of the column. It's quick but may introduce bias.\n",
        "\n",
        "KNN Imputation: Using similar rows to impute missing data. It’s more accurate but computationally expensive.\n",
        "\n",
        "Regression Imputation: Predicting missing values using regression models, more complex but precise. Each method has pros and cons; imputation tends to preserve data but can introduce imprecision."
      ],
      "metadata": {
        "id": "q0bj2bk92pSz"
      }
    },
    {
      "cell_type": "code",
      "source": [],
      "metadata": {
        "id": "sOVCYuqn2tTK"
      },
      "execution_count": null,
      "outputs": []
    },
    {
      "cell_type": "markdown",
      "source": [
        "Q3. What are the key factors that affect students' performance in exams? How would you go about\n",
        "analyzing these factors using statistical techniques?"
      ],
      "metadata": {
        "id": "QrcaKtFP2vbb"
      }
    },
    {
      "cell_type": "code",
      "source": [],
      "metadata": {
        "id": "oovPVUYS2vsY"
      },
      "execution_count": null,
      "outputs": []
    },
    {
      "cell_type": "markdown",
      "source": [
        "Factors influencing students' exam performance could include:\n",
        "\n",
        "Study time: More time spent studying generally correlates with better performance.\n",
        "\n",
        "Parental support: Supportive parents often lead to higher motivation and performance.\n",
        "\n",
        "Socioeconomic status: Financial stability may affect access to resources, influencing performance.\n",
        "\n",
        "School attendance: Regular attendance ensures better understanding of topics. To analyze these, you can use statistical techniques such as correlation analysis, regression models, and hypothesis testing."
      ],
      "metadata": {
        "id": "9Bj-WlVX2yJD"
      }
    },
    {
      "cell_type": "code",
      "source": [],
      "metadata": {
        "id": "OuGHb1wt20Ky"
      },
      "execution_count": null,
      "outputs": []
    },
    {
      "cell_type": "markdown",
      "source": [
        "Q4. Describe the process of feature engineering in the context of the student performance data set. How\n",
        "did you select and transform the variables for your model?"
      ],
      "metadata": {
        "id": "8I36bt_r23CZ"
      }
    },
    {
      "cell_type": "code",
      "source": [],
      "metadata": {
        "id": "eFUkvleE23Uz"
      },
      "execution_count": null,
      "outputs": []
    },
    {
      "cell_type": "markdown",
      "source": [
        "In feature engineering, variables are selected and transformed to improve model performance. For the student performance dataset, this could include:\n",
        "\n",
        "Handling missing values: Impute or drop missing values.\n",
        "\n",
        "Encoding categorical variables: Convert categorical data (e.g., gender, school) into numeric form using one-hot encoding.\n",
        "\n",
        "Feature scaling: Standardize continuous variables (e.g., study time, age) to ensure equal importance in modeling.\n",
        "\n",
        "Interaction features: Create new features by combining relevant variables (e.g., study time * parental support). These transformations enhance the model’s ability to learn relationships."
      ],
      "metadata": {
        "id": "Z6rbWFdz250A"
      }
    },
    {
      "cell_type": "code",
      "source": [],
      "metadata": {
        "id": "JqsZxvh627-9"
      },
      "execution_count": null,
      "outputs": []
    },
    {
      "cell_type": "markdown",
      "source": [
        "Q5. Load the wine quality data set and perform exploratory data analysis (EDA) to identify the distribution\n",
        "of each feature. Which feature(s) exhibit non-normality, and what transformations could be applied to\n",
        "these features to improve normality?"
      ],
      "metadata": {
        "id": "vcqa5OL_2-Nd"
      }
    },
    {
      "cell_type": "code",
      "source": [],
      "metadata": {
        "id": "nIH-DtQt2-eY"
      },
      "execution_count": null,
      "outputs": []
    },
    {
      "cell_type": "markdown",
      "source": [
        "Load the wine quality dataset and visualize the distribution of features using histograms, box plots, and density plots. Identify:\n",
        "\n",
        "Features like Alcohol, Fixed acidity, and pH that may show normal distribution.\n",
        "\n",
        "Features like Residual sugar, Chlorides, and Density that might exhibit skewed or non-normal distributions. For non-normal features, transformations like logarithmic or Box-Cox transformations can help normalize the distribution."
      ],
      "metadata": {
        "id": "K16ZPKm73BLE"
      }
    },
    {
      "cell_type": "code",
      "source": [],
      "metadata": {
        "id": "pS1vs8S73Cl_"
      },
      "execution_count": null,
      "outputs": []
    },
    {
      "cell_type": "markdown",
      "source": [
        "Q6. Using the wine quality data set, perform principal component analysis (PCA) to reduce the number of\n",
        "features. What is the minimum number of principal components required to explain 90% of the variance in\n",
        "the data?"
      ],
      "metadata": {
        "id": "QMqAU0Nn3FJr"
      }
    },
    {
      "cell_type": "code",
      "source": [],
      "metadata": {
        "id": "drYSANoB3Fcw"
      },
      "execution_count": null,
      "outputs": []
    },
    {
      "cell_type": "markdown",
      "source": [
        "Perform PCA to reduce dimensionality and find the number of components that explain 90% of the variance. Using a cumulative variance plot:\n",
        "\n",
        "Compute the explained variance for each principal component.\n",
        "\n",
        "Find the minimum number of components where the cumulative variance exceeds 90%. Typically, 2–4 principal components may be enough, depending on the dataset's variance distribution."
      ],
      "metadata": {
        "id": "SzZlqS1U3Hvi"
      }
    },
    {
      "cell_type": "code",
      "source": [],
      "metadata": {
        "id": "KXp7wMq83Irc"
      },
      "execution_count": null,
      "outputs": []
    }
  ]
}