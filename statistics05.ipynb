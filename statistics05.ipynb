{
  "nbformat": 4,
  "nbformat_minor": 0,
  "metadata": {
    "colab": {
      "provenance": []
    },
    "kernelspec": {
      "name": "python3",
      "display_name": "Python 3"
    },
    "language_info": {
      "name": "python"
    }
  },
  "cells": [
    {
      "cell_type": "code",
      "source": [],
      "metadata": {
        "id": "VuKEDYMt5kqB"
      },
      "execution_count": null,
      "outputs": []
    },
    {
      "cell_type": "markdown",
      "source": [
        "Q1: What is Estimation Statistics? Explain point estimate and interval estimate."
      ],
      "metadata": {
        "id": "HXivxJTD6O3X"
      }
    },
    {
      "cell_type": "code",
      "source": [],
      "metadata": {
        "id": "IvanoEA86PHi"
      },
      "execution_count": null,
      "outputs": []
    },
    {
      "cell_type": "markdown",
      "source": [
        "Estimation Statistics: Estimation involves using sample data to estimate population parameters, like the population mean or standard deviation.\n",
        "Point Estimate: A single value used to estimate a population parameter.\n",
        "\n",
        "For example, using the sample mean as a point estimate of the population mean.\n",
        "\n",
        "Interval Estimate: An estimate that provides a range of values within which the population parameter is expected to fall. This is usually expressed as a confidence interval, e.g., 95% confidence interval for the population mean."
      ],
      "metadata": {
        "id": "ZYrMwFII6RKW"
      }
    },
    {
      "cell_type": "code",
      "source": [],
      "metadata": {
        "id": "ruunfJ0Y6Ras"
      },
      "execution_count": null,
      "outputs": []
    },
    {
      "cell_type": "markdown",
      "source": [
        "Q2. Write a Python function to estimate the population mean using a sample mean and standard\n",
        "deviation."
      ],
      "metadata": {
        "id": "B6WQmWJZ6VrG"
      }
    },
    {
      "cell_type": "code",
      "source": [
        "import scipy.stats as stats\n",
        "import numpy as np\n",
        "\n",
        "def estimate_population_mean(sample_mean, sample_std, sample_size, confidence_level):\n",
        "    standard_error = sample_std / np.sqrt(sample_size)\n",
        "\n",
        "\n",
        "    z_score = stats.norm.ppf(1 - (1 - confidence_level) / 2)\n",
        "\n",
        "\n",
        "    margin_of_error = z_score * standard_error\n",
        "\n",
        "    lower_bound = sample_mean - margin_of_error\n",
        "    upper_bound = sample_mean + margin_of_error\n",
        "\n",
        "    return lower_bound, upper_bound\n",
        "\n",
        "# Example usage\n",
        "sample_mean = 50\n",
        "sample_std = 10\n",
        "sample_size = 100\n",
        "confidence_level = 0.95\n",
        "\n",
        "confidence_interval = estimate_population_mean(sample_mean, sample_std, sample_size, confidence_level)\n",
        "print(f\"Confidence Interval: {confidence_interval}\")\n"
      ],
      "metadata": {
        "colab": {
          "base_uri": "https://localhost:8080/"
        },
        "id": "kpB1aKJI6V-4",
        "outputId": "bafde140-1ac1-439b-b1f1-dfa17a246195"
      },
      "execution_count": 6,
      "outputs": [
        {
          "output_type": "stream",
          "name": "stdout",
          "text": [
            "Confidence Interval: (48.04003601545995, 51.95996398454005)\n"
          ]
        }
      ]
    },
    {
      "cell_type": "code",
      "source": [],
      "metadata": {
        "id": "4zD64-kP6Xmz"
      },
      "execution_count": null,
      "outputs": []
    },
    {
      "cell_type": "markdown",
      "source": [
        "Q3: What is Hypothesis testing? Why is it used? State the importance of Hypothesis testing."
      ],
      "metadata": {
        "id": "1O4lif2Z6aZ2"
      }
    },
    {
      "cell_type": "code",
      "source": [],
      "metadata": {
        "id": "ZtnIExRb6av3"
      },
      "execution_count": null,
      "outputs": []
    },
    {
      "cell_type": "markdown",
      "source": [
        "Hypothesis Testing: It is a statistical method used to make inferences or draw conclusions about a population based on sample data. It involves testing a claim or hypothesis about a population parameter.\n",
        "\n",
        "Why It’s Used: To test whether a specific assumption (hypothesis) about a population is true or false, based on sample data.\n",
        "\n",
        "Importance: It helps in decision-making, validating scientific theories, and determining if the data supports a particular claim."
      ],
      "metadata": {
        "id": "Ve3QgNL-6dl2"
      }
    },
    {
      "cell_type": "code",
      "source": [],
      "metadata": {
        "id": "GB-UxlG06d_4"
      },
      "execution_count": null,
      "outputs": []
    },
    {
      "cell_type": "markdown",
      "source": [
        "Q4. Create a hypothesis that states whether the average weight of male college students is greater than\n",
        "the average weight of female college students."
      ],
      "metadata": {
        "id": "ghgLICgN6gUn"
      }
    },
    {
      "cell_type": "code",
      "source": [],
      "metadata": {
        "id": "J19RxiJV6gsJ"
      },
      "execution_count": null,
      "outputs": []
    },
    {
      "cell_type": "markdown",
      "source": [
        "Null Hypothesis (H₀): The average weight of male college students is equal to or less than the average weight of female college students.\n",
        "𝐻\n",
        "0\n",
        ":\n",
        "𝜇\n",
        "male\n",
        "≤\n",
        "𝜇\n",
        "female\n",
        "H\n",
        "0\n",
        "​\n",
        " :μ\n",
        "male\n",
        "​\n",
        " ≤μ\n",
        "female\n",
        "​\n",
        "\n",
        "\n",
        "Alternative Hypothesis (H₁): The average weight of male college students is greater than the average weight of female college students.\n",
        "𝐻\n",
        "1\n",
        ":\n",
        "𝜇\n",
        "male\n",
        ">\n",
        "𝜇\n",
        "female\n",
        "H\n",
        "1\n",
        "​\n",
        " :μ\n",
        "male\n",
        "​\n",
        " >μ\n",
        "female\n",
        "​\n"
      ],
      "metadata": {
        "id": "AgB9_b186jnZ"
      }
    },
    {
      "cell_type": "code",
      "source": [],
      "metadata": {
        "id": "Q8MotS0R6kDl"
      },
      "execution_count": null,
      "outputs": []
    },
    {
      "cell_type": "markdown",
      "source": [
        "Q5. Write a Python script to conduct a hypothesis test on the difference between two population means,\n",
        "given a sample from each population."
      ],
      "metadata": {
        "id": "KCIes3sM6mam"
      }
    },
    {
      "cell_type": "code",
      "source": [
        "import scipy.stats as stats\n",
        "\n",
        "def hypothesis_test(sample1, sample2):\n",
        "\n",
        "    mean1, mean2 = np.mean(sample1), np.mean(sample2)\n",
        "    std1, std2 = np.std(sample1, ddof=1), np.std(sample2, ddof=1)\n",
        "\n",
        "\n",
        "    pooled_std = np.sqrt((std1**2 / len(sample1)) + (std2**2 / len(sample2)))\n",
        "\n",
        "\n",
        "    t_stat = (mean1 - mean2) / pooled_std\n",
        "\n",
        "\n",
        "    df = len(sample1) + len(sample2) - 2\n",
        "\n",
        "\n",
        "    p_value = 2 * (1 - stats.t.cdf(abs(t_stat), df))\n",
        "\n",
        "    return t_stat, p_value\n",
        "\n",
        "# Example usage\n",
        "sample1 = [22, 24, 25, 27, 28, 30]\n",
        "sample2 = [20, 21, 23, 25, 26, 29]\n",
        "t_stat, p_value = hypothesis_test(sample1, sample2)\n",
        "print(f\"t-statistic: {t_stat}, p-value: {p_value}\")\n"
      ],
      "metadata": {
        "colab": {
          "base_uri": "https://localhost:8080/"
        },
        "id": "E1nKFlvb6mz1",
        "outputId": "8becf6eb-a304-489c-8b3d-26577818c61d"
      },
      "execution_count": 7,
      "outputs": [
        {
          "output_type": "stream",
          "name": "stdout",
          "text": [
            "t-statistic: 1.1065666703449761, p-value: 0.2943899180266554\n"
          ]
        }
      ]
    },
    {
      "cell_type": "code",
      "source": [],
      "metadata": {
        "id": "rvsH-txl6olG"
      },
      "execution_count": null,
      "outputs": []
    },
    {
      "cell_type": "markdown",
      "source": [
        "Q6: What is a null and alternative hypothesis? Give some examples."
      ],
      "metadata": {
        "id": "xzymLkUV6rU9"
      }
    },
    {
      "cell_type": "code",
      "source": [],
      "metadata": {
        "id": "ORpdvMU56rou"
      },
      "execution_count": null,
      "outputs": []
    },
    {
      "cell_type": "markdown",
      "source": [
        "Null Hypothesis (H₀): A statement of no effect or no difference. It is the hypothesis that is tested statistically.\n",
        "\n",
        "Example: There is no difference in average test scores between Group A and Group B.\n",
        "\n",
        "Alternative Hypothesis (H₁): The hypothesis that there is an effect or a difference. It is accepted if the null hypothesis is rejected.\n",
        "\n",
        "Example: Group A’s average test score is higher than Group B’s average test score."
      ],
      "metadata": {
        "id": "2QL8ukV06uD6"
      }
    },
    {
      "cell_type": "code",
      "source": [],
      "metadata": {
        "id": "x4273ndR6uWG"
      },
      "execution_count": null,
      "outputs": []
    },
    {
      "cell_type": "markdown",
      "source": [
        "Q7: Write down the steps involved in hypothesis testing."
      ],
      "metadata": {
        "id": "TkMaLvIW6zAL"
      }
    },
    {
      "cell_type": "code",
      "source": [],
      "metadata": {
        "id": "mMGGFWJa6zRU"
      },
      "execution_count": null,
      "outputs": []
    },
    {
      "cell_type": "markdown",
      "source": [
        "State the hypotheses: Formulate the null hypothesis (H₀) and the alternative hypothesis (H₁).\n",
        "\n",
        "Set the significance level (α): Choose the level of significance (e.g., 0.05).\n",
        "\n",
        "Collect data and calculate test statistic: Gather sample data and calculate the test statistic (e.g., t-statistic, z-statistic).\n",
        "\n",
        "Find the p-value: Determine the p-value based on the test statistic.\n",
        "\n",
        "Decision rule: Compare the p-value to α:\n",
        "\n",
        "If p-value ≤ α, reject H₀.\n",
        "\n",
        "If p-value > α, fail to reject H₀.\n",
        "\n",
        "Draw a conclusion: Based on the decision, conclude whether or not there is sufficient evidence to support H₁."
      ],
      "metadata": {
        "id": "-Q8mmcjX63Bp"
      }
    },
    {
      "cell_type": "code",
      "source": [],
      "metadata": {
        "id": "ZDGNP4uh68zL"
      },
      "execution_count": null,
      "outputs": []
    },
    {
      "cell_type": "markdown",
      "source": [
        "Q8. Define p-value and explain its significance in hypothesis testing."
      ],
      "metadata": {
        "id": "AWgkr4jq6_W2"
      }
    },
    {
      "cell_type": "code",
      "source": [],
      "metadata": {
        "id": "_8sdK5rB6_vB"
      },
      "execution_count": null,
      "outputs": []
    },
    {
      "cell_type": "markdown",
      "source": [
        "p-value: The p-value is the probability of obtaining a test statistic at least as extreme as the one observed, under the assumption that the null hypothesis is true.\n",
        "\n",
        "Significance: A small p-value (≤ α) indicates strong evidence against the null hypothesis, leading to its rejection. A large p-value (> α) indicates weak evidence against the null hypothesis, meaning we fail to reject it."
      ],
      "metadata": {
        "id": "UdGZgbgU7BmV"
      }
    },
    {
      "cell_type": "code",
      "source": [],
      "metadata": {
        "id": "_BxAjQWX7B35"
      },
      "execution_count": null,
      "outputs": []
    },
    {
      "cell_type": "markdown",
      "source": [
        "Q9. Generate a Student's t-distribution plot using Python's matplotlib library, with the degrees of freedom\n",
        "parameter set to 10."
      ],
      "metadata": {
        "id": "c23wLwp47EDM"
      }
    },
    {
      "cell_type": "code",
      "source": [
        "import numpy as np\n",
        "import matplotlib.pyplot as plt\n",
        "import scipy.stats as stats\n",
        "\n",
        "# Set degrees of freedom\n",
        "df = 10\n",
        "\n",
        "# Generate t-distribution\n",
        "x = np.linspace(-5, 5, 1000)\n",
        "y = stats.t.pdf(x, df)\n",
        "\n",
        "# Plot\n",
        "plt.plot(x, y, label=\"t-distribution (df=10)\")\n",
        "plt.title(\"Student's t-distribution with 10 degrees of freedom\")\n",
        "plt.xlabel(\"t\")\n",
        "plt.ylabel(\"Density\")\n",
        "plt.legend()\n",
        "plt.grid(True)\n",
        "plt.show()\n"
      ],
      "metadata": {
        "colab": {
          "base_uri": "https://localhost:8080/",
          "height": 472
        },
        "id": "ghtZcZ3s7EUq",
        "outputId": "7a796c8b-1149-41a7-bc65-a364f80a3611"
      },
      "execution_count": 8,
      "outputs": [
        {
          "output_type": "display_data",
          "data": {
            "text/plain": [
              "<Figure size 640x480 with 1 Axes>"
            ],
            "image/png": "[encoded data removed]"
          },
          "metadata": {}
        }
      ]
    },
    {
      "cell_type": "code",
      "source": [],
      "metadata": {
        "id": "dzpLQOpe7GEy"
      },
      "execution_count": null,
      "outputs": []
    },
    {
      "cell_type": "markdown",
      "source": [
        "Q10. Write a Python program to calculate the two-sample t-test for independent samples, given two\n",
        "random samples of equal size and a null hypothesis that the population means are equal."
      ],
      "metadata": {
        "id": "tlb9pR3q7JEk"
      }
    },
    {
      "cell_type": "code",
      "source": [
        "from scipy import stats\n",
        "\n",
        "\n",
        "sample1 = [20, 22, 23, 21, 24, 25]\n",
        "sample2 = [30, 32, 33, 31, 34, 35]\n",
        "\n",
        "\n",
        "t_stat, p_value = stats.ttest_ind(sample1, sample2)\n",
        "\n",
        "print(f\"t-statistic: {t_stat}, p-value: {p_value}\")\n"
      ],
      "metadata": {
        "colab": {
          "base_uri": "https://localhost:8080/"
        },
        "id": "XS-iUdf27JY3",
        "outputId": "4c3d55ac-0154-491f-d2bf-5e47ec67dd30"
      },
      "execution_count": 9,
      "outputs": [
        {
          "output_type": "stream",
          "name": "stdout",
          "text": [
            "t-statistic: -9.258200997725515, p-value: 3.2065531538603336e-06\n"
          ]
        }
      ]
    },
    {
      "cell_type": "code",
      "source": [],
      "metadata": {
        "id": "kayZVH7e7LRQ"
      },
      "execution_count": null,
      "outputs": []
    },
    {
      "cell_type": "markdown",
      "source": [
        "Q11: What is Student’s t distribution? When to use the t-Distribution."
      ],
      "metadata": {
        "id": "U_EMscyz7NTn"
      }
    },
    {
      "cell_type": "code",
      "source": [],
      "metadata": {
        "id": "nIuIpS5T7NtT"
      },
      "execution_count": null,
      "outputs": []
    },
    {
      "cell_type": "markdown",
      "source": [
        "Student’s t-distribution: It is a probability distribution used to estimate population parameters when the sample size is small (typically n < 30) and the population standard deviation is unknown.\n",
        "\n",
        "When to use: The t-distribution is used in hypothesis testing (e.g., t-tests) and confidence intervals when the sample size is small and the population variance is unknown.\n",
        "\n"
      ],
      "metadata": {
        "id": "Hl8CYlgs7QUT"
      }
    },
    {
      "cell_type": "code",
      "source": [],
      "metadata": {
        "id": "bPbVjtiM7Ql3"
      },
      "execution_count": null,
      "outputs": []
    },
    {
      "cell_type": "markdown",
      "source": [
        "Q12: What is t-statistic? State the formula for t-statistic."
      ],
      "metadata": {
        "id": "eP61O6mE7SZo"
      }
    },
    {
      "cell_type": "code",
      "source": [],
      "metadata": {
        "id": "NDL1aIQy7SuQ"
      },
      "execution_count": null,
      "outputs": []
    },
    {
      "cell_type": "markdown",
      "source": [
        "t-statistic: The t-statistic is used to compare sample data to a population mean or to compare two sample means to test hypotheses."
      ],
      "metadata": {
        "id": "vtCnYLyO7VFi"
      }
    },
    {
      "cell_type": "code",
      "source": [],
      "metadata": {
        "id": "zwIiYZ3o7VWY"
      },
      "execution_count": null,
      "outputs": []
    },
    {
      "cell_type": "markdown",
      "source": [
        "Q13. A coffee shop owner wants to estimate the average daily revenue for their shop. They take a random\n",
        "sample of 50 days and find the sample mean revenue to be $500 with a standard deviation of $50.\n",
        "Estimate the population mean revenue with a 95% confidence interval."
      ],
      "metadata": {
        "id": "TLTFH1Jh7XWz"
      }
    },
    {
      "cell_type": "code",
      "source": [
        "import numpy as np\n",
        "import scipy.stats as stats\n",
        "\n",
        "sample_mean = 500\n",
        "sample_std = 50\n",
        "sample_size = 50\n",
        "confidence_level = 0.95\n",
        "\n",
        "\n",
        "se = sample_std / np.sqrt(sample_size)\n",
        "\n",
        "\n",
        "z_score = stats.norm.ppf(1 - (1 - confidence_level) / 2)\n",
        "\n",
        "\n",
        "margin_of_error = z_score * se\n",
        "\n",
        "\n",
        "lower_bound = sample_mean - margin_of_error\n",
        "upper_bound = sample_mean + margin_of_error\n",
        "\n",
        "print(f\"95% Confidence Interval for Population Mean: ({lower_bound}, {upper_bound})\")\n"
      ],
      "metadata": {
        "colab": {
          "base_uri": "https://localhost:8080/"
        },
        "id": "ZqMsZaX27Xox",
        "outputId": "a1822c10-ec56-4e12-9f5a-3be15f5084c1"
      },
      "execution_count": 11,
      "outputs": [
        {
          "output_type": "stream",
          "name": "stdout",
          "text": [
            "95% Confidence Interval for Population Mean: (486.1409617565032, 513.8590382434968)\n"
          ]
        }
      ]
    },
    {
      "cell_type": "code",
      "source": [],
      "metadata": {
        "id": "KXfHH0pA7ZM_"
      },
      "execution_count": null,
      "outputs": []
    },
    {
      "cell_type": "markdown",
      "source": [
        "Q14. A researcher hypothesizes that a new drug will decrease blood pressure by 10 mmHg. They conduct a\n",
        "clinical trial with 100 patients and find that the sample mean decrease in blood pressure is 8 mmHg with a\n",
        "standard deviation of 3 mmHg. Test the hypothesis with a significance level of 0.05."
      ],
      "metadata": {
        "id": "6xAuHNfT7e9H"
      }
    },
    {
      "cell_type": "code",
      "source": [
        "\n",
        "sample_mean = 8\n",
        "sample_std = 3\n",
        "sample_size = 100\n",
        "hypothesized_mean = 10\n",
        "alpha = 0.05\n",
        "\n",
        "\n",
        "se = sample_std / np.sqrt(sample_size)\n",
        "\n",
        "\n",
        "t_stat = (sample_mean - hypothesized_mean) / se\n",
        "\n",
        "\n",
        "df = sample_size - 1\n",
        "\n",
        "\n",
        "p_value = 2 * (1 - stats.t.cdf(abs(t_stat), df))\n",
        "\n",
        "\n",
        "if p_value < alpha:\n",
        "    result = \"Reject the null hypothesis\"\n",
        "else:\n",
        "    result = \"Fail to reject the null hypothesis\"\n",
        "\n",
        "print(f\"t-statistic: {t_stat}, p-value: {p_value}\")\n",
        "print(result)\n"
      ],
      "metadata": {
        "colab": {
          "base_uri": "https://localhost:8080/"
        },
        "id": "NqeYsGNI7fQV",
        "outputId": "9bbc2958-a0e2-4ba6-ecf0-8150b312f145"
      },
      "execution_count": 12,
      "outputs": [
        {
          "output_type": "stream",
          "name": "stdout",
          "text": [
            "t-statistic: -6.666666666666667, p-value: 1.5012289189542116e-09\n",
            "Reject the null hypothesis\n"
          ]
        }
      ]
    },
    {
      "cell_type": "code",
      "source": [],
      "metadata": {
        "id": "dtrWDvJY7hYM"
      },
      "execution_count": null,
      "outputs": []
    },
    {
      "cell_type": "markdown",
      "source": [
        "Q15. An electronics company produces a certain type of product with a mean weight of 5 pounds and a\n",
        "standard deviation of 0.5 pounds. A random sample of 25 products is taken, and the sample mean weight\n",
        "is found to be 4.8 pounds. Test the hypothesis that the true mean weight of the products is less than 5\n",
        "pounds with a significance level of 0.01."
      ],
      "metadata": {
        "id": "Bw8brjKN7jwg"
      }
    },
    {
      "cell_type": "code",
      "source": [
        "\n",
        "sample_mean = 4.8\n",
        "population_mean = 5\n",
        "sample_std = 0.5\n",
        "sample_size = 25\n",
        "alpha = 0.01\n",
        "\n",
        "\n",
        "se = sample_std / np.sqrt(sample_size)\n",
        "\n",
        "\n",
        "t_stat = (sample_mean - population_mean) / se\n",
        "\n",
        "\n",
        "df = sample_size - 1\n",
        "\n",
        "\n",
        "p_value = stats.t.cdf(t_stat, df)\n",
        "\n",
        "\n",
        "if p_value < alpha:\n",
        "    result = \"Reject the null hypothesis\"\n",
        "else:\n",
        "    result = \"Fail to reject the null hypothesis\"\n",
        "\n",
        "print(f\"t-statistic: {t_stat}, p-value: {p_value}\")\n",
        "print(result)\n"
      ],
      "metadata": {
        "colab": {
          "base_uri": "https://localhost:8080/"
        },
        "id": "eWPMRZs67kHm",
        "outputId": "da1be2c9-735e-4627-a6a5-e05f10362c31"
      },
      "execution_count": 13,
      "outputs": [
        {
          "output_type": "stream",
          "name": "stdout",
          "text": [
            "t-statistic: -2.0000000000000018, p-value: 0.02846992496829572\n",
            "Fail to reject the null hypothesis\n"
          ]
        }
      ]
    },
    {
      "cell_type": "code",
      "source": [],
      "metadata": {
        "id": "zSoMw6kr7l6U"
      },
      "execution_count": null,
      "outputs": []
    },
    {
      "cell_type": "markdown",
      "source": [
        "Q16. Two groups of students are given different study materials to prepare for a test. The first group (n1 =\n",
        "30) has a mean score of 80 with a standard deviation of 10, and the second group (n2 = 40) has a mean\n",
        "score of 75 with a standard deviation of 8. Test the hypothesis that the population means for the two\n",
        "groups are equal with a significance level of 0.01."
      ],
      "metadata": {
        "id": "cR3AXwb87ofp"
      }
    },
    {
      "cell_type": "code",
      "source": [
        "# Group 1 data\n",
        "mean1 = 80\n",
        "std1 = 10\n",
        "n1 = 30\n",
        "\n",
        "# Group 2 data\n",
        "mean2 = 75\n",
        "std2 = 8\n",
        "n2 = 40\n",
        "\n",
        "\n",
        "pooled_std = np.sqrt(((std1 ** 2) / n1) + ((std2 ** 2) / n2))\n",
        "\n",
        "\n",
        "t_stat = (mean1 - mean2) / pooled_std\n",
        "\n",
        "\n",
        "df = ((std1 ** 2 / n1 + std2 ** 2 / n2) ** 2) / (( (std1 ** 2 / n1) ** 2 / (n1 - 1)) + ((std2 ** 2 / n2) ** 2 / (n2 - 1)))\n",
        "\n",
        "\n",
        "p_value = 2 * (1 - stats.t.cdf(abs(t_stat), df))\n",
        "\n",
        "\n",
        "if p_value < 0.01:\n",
        "    result = \"Reject the null hypothesis\"\n",
        "else:\n",
        "    result = \"Fail to reject the null hypothesis\"\n",
        "\n",
        "print(f\"t-statistic: {t_stat}, p-value: {p_value}\")\n",
        "print(result)\n"
      ],
      "metadata": {
        "colab": {
          "base_uri": "https://localhost:8080/"
        },
        "id": "WCPhqCC_7o23",
        "outputId": "eb6cdec1-7f99-4b5a-882a-c4118437572a"
      },
      "execution_count": 14,
      "outputs": [
        {
          "output_type": "stream",
          "name": "stdout",
          "text": [
            "t-statistic: 2.2511258444537408, p-value: 0.02845213338800101\n",
            "Fail to reject the null hypothesis\n"
          ]
        }
      ]
    },
    {
      "cell_type": "code",
      "source": [],
      "metadata": {
        "id": "dCvzOUUX7rMX"
      },
      "execution_count": null,
      "outputs": []
    },
    {
      "cell_type": "markdown",
      "source": [
        "Q17. A marketing company wants to estimate the average number of ads watched by viewers during a TV\n",
        "program. They take a random sample of 50 viewers and find that the sample mean is 4 with a standard\n",
        "deviation of 1.5. Estimate the population mean with a 99% confidence interval."
      ],
      "metadata": {
        "id": "VSNVuQxA7uLt"
      }
    },
    {
      "cell_type": "code",
      "source": [
        "\n",
        "sample_mean = 4\n",
        "sample_std = 1.5\n",
        "sample_size = 50\n",
        "confidence_level = 0.99\n",
        "\n",
        "\n",
        "se = sample_std / np.sqrt(sample_size)\n",
        "\n",
        "\n",
        "z_score = stats.norm.ppf(1 - (1 - confidence_level) / 2)\n",
        "\n",
        "\n",
        "margin_of_error = z_score * se\n",
        "\n",
        "\n",
        "lower_bound = sample_mean - margin_of_error\n",
        "upper_bound = sample_mean + margin_of_error\n",
        "\n",
        "print(f\"99% Confidence Interval for Population Mean: ({lower_bound}, {upper_bound})\")\n"
      ],
      "metadata": {
        "colab": {
          "base_uri": "https://localhost:8080/"
        },
        "id": "HPkBll3Y7uoJ",
        "outputId": "e42fd7c1-8603-4eb2-b63a-8d8c2081dda3"
      },
      "execution_count": 15,
      "outputs": [
        {
          "output_type": "stream",
          "name": "stdout",
          "text": [
            "99% Confidence Interval for Population Mean: (3.4535840896844654, 4.546415910315535)\n"
          ]
        }
      ]
    },
    {
      "cell_type": "code",
      "source": [],
      "metadata": {
        "id": "7KwVSs047wLf"
      },
      "execution_count": null,
      "outputs": []
    }
  ]
}