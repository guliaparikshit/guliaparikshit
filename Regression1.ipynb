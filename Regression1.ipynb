{
  "nbformat": 4,
  "nbformat_minor": 0,
  "metadata": {
    "colab": {
      "provenance": []
    },
    "kernelspec": {
      "name": "python3",
      "display_name": "Python 3"
    },
    "language_info": {
      "name": "python"
    }
  },
  "cells": [
    {
      "cell_type": "markdown",
      "source": [
        "Q1. Explain the difference between simple linear regression and multiple linear regression. Provide an\n",
        "example of each."
      ],
      "metadata": {
        "id": "oEy6BbBB8Yoy"
      }
    },
    {
      "cell_type": "code",
      "source": [],
      "metadata": {
        "id": "u1HKvIpQ8Y4r"
      },
      "execution_count": null,
      "outputs": []
    },
    {
      "cell_type": "markdown",
      "source": [
        "Simple linear regression predicts a dependent variable using one independent variable.\n",
        "\n",
        "Example: Predicting weight based on height.\n",
        "\n",
        "Multiple linear regression predicts a dependent variable using two or more independent variables.\n",
        "\n",
        "Example: Predicting weight based on height, age, and gender."
      ],
      "metadata": {
        "id": "eQyhVddP8a-K"
      }
    },
    {
      "cell_type": "code",
      "source": [],
      "metadata": {
        "id": "ggSDuaqa8c0j"
      },
      "execution_count": null,
      "outputs": []
    },
    {
      "cell_type": "markdown",
      "source": [
        "Q2. Discuss the assumptions of linear regression. How can you check whether these assumptions hold in\n",
        "a given dataset?"
      ],
      "metadata": {
        "id": "Iq8CPVT18edc"
      }
    },
    {
      "cell_type": "code",
      "source": [],
      "metadata": {
        "id": "fTYF4ALo8ev0"
      },
      "execution_count": null,
      "outputs": []
    },
    {
      "cell_type": "markdown",
      "source": [
        "Linearity: Relationship between independent and dependent variables is linear.\n",
        "\n",
        "Independence: Observations are independent of each other.\n",
        "\n",
        "Homoscedasticity: Constant variance of errors.\n",
        "\n",
        "Normality: Errors are normally distributed.\n",
        "\n",
        "No multicollinearity: Independent variables are not highly correlated.\n",
        "\n",
        "\n",
        "To check:\n",
        "\n",
        "Linearity: Scatter plot or residuals plot.\n",
        "\n",
        "Independence: Durbin-Watson test.\n",
        "\n",
        "Homoscedasticity: Residual plot for constant variance.\n",
        "\n",
        "Normality: Q-Q plot or Shapiro-Wilk test.\n",
        "\n",
        "Multicollinearity: Check Variance Inflation Factor (VIF)."
      ],
      "metadata": {
        "id": "btG23vvt8lfB"
      }
    },
    {
      "cell_type": "code",
      "source": [],
      "metadata": {
        "id": "Mr_lbP7D8qLV"
      },
      "execution_count": null,
      "outputs": []
    },
    {
      "cell_type": "markdown",
      "source": [
        "Q3. How do you interpret the slope and intercept in a linear regression model? Provide an example using\n",
        "a real-world scenario."
      ],
      "metadata": {
        "id": "8D2HQc-n8sek"
      }
    },
    {
      "cell_type": "code",
      "source": [],
      "metadata": {
        "id": "aB2527_98sxf"
      },
      "execution_count": null,
      "outputs": []
    },
    {
      "cell_type": "markdown",
      "source": [
        "Intercept (β₀): The expected value of the dependent variable when all independent variables are zero.\n",
        "\n",
        "Slope (β₁): The change in the dependent variable for a one-unit increase in the independent variable.\n",
        "\n",
        "Example: In a salary prediction model, an intercept of 30,000 means a starting salary of $30,000, and a slope of 2,000 means a $2,000 increase in salary for each year of experience."
      ],
      "metadata": {
        "id": "J60oYr_H8vf4"
      }
    },
    {
      "cell_type": "code",
      "source": [],
      "metadata": {
        "id": "4xKOd7-w8wuf"
      },
      "execution_count": null,
      "outputs": []
    },
    {
      "cell_type": "markdown",
      "source": [
        "Q4. Explain the concept of gradient descent. How is it used in machine learning?"
      ],
      "metadata": {
        "id": "7VRy7st_8yzY"
      }
    },
    {
      "cell_type": "code",
      "source": [],
      "metadata": {
        "id": "4EuccFRr8zDL"
      },
      "execution_count": null,
      "outputs": []
    },
    {
      "cell_type": "markdown",
      "source": [
        "Gradient descent is an optimization technique used to minimize the error by adjusting model parameters in the direction opposite to the gradient (steepest slope) of the loss function.\n",
        "\n",
        "It’s used in machine learning to train models by finding optimal parameters that minimize prediction error."
      ],
      "metadata": {
        "id": "anjn1cGf81O_"
      }
    },
    {
      "cell_type": "code",
      "source": [],
      "metadata": {
        "id": "17bMQlrd82HD"
      },
      "execution_count": null,
      "outputs": []
    },
    {
      "cell_type": "markdown",
      "source": [
        "Q5. Describe the multiple linear regression model. How does it differ from simple linear regression?"
      ],
      "metadata": {
        "id": "Irj65yJ984D9"
      }
    },
    {
      "cell_type": "code",
      "source": [],
      "metadata": {
        "id": "d3IEFr_w84Wy"
      },
      "execution_count": null,
      "outputs": []
    },
    {
      "cell_type": "markdown",
      "source": [
        "Multiple linear regression involves predicting a dependent variable using more than one independent variable.\n",
        "\n",
        "Difference from simple linear regression: Simple linear regression uses one independent variable, whereas multiple linear regression uses two or more.\n"
      ],
      "metadata": {
        "id": "B6uBDqzR86iT"
      }
    },
    {
      "cell_type": "code",
      "source": [],
      "metadata": {
        "id": "kDkOOAff87NZ"
      },
      "execution_count": null,
      "outputs": []
    },
    {
      "cell_type": "markdown",
      "source": [
        "Q6. Explain the concept of multicollinearity in multiple linear regression. How can you detect and\n",
        "address this issue?"
      ],
      "metadata": {
        "id": "jrM2IOf-89Pa"
      }
    },
    {
      "cell_type": "code",
      "source": [],
      "metadata": {
        "id": "ouKmDIpy89hC"
      },
      "execution_count": null,
      "outputs": []
    },
    {
      "cell_type": "markdown",
      "source": [
        "Multicollinearity occurs when independent variables are highly correlated, making it hard to estimate individual effects.\n",
        "\n",
        "Detection: Check VIF (Variance Inflation Factor); high VIF (>10) indicates multicollinearity.\n",
        "\n",
        "Addressing it: Remove correlated variables, combine them, or use regularization techniques like Lasso or Ridge."
      ],
      "metadata": {
        "id": "Re2DpgMB8_kb"
      }
    },
    {
      "cell_type": "code",
      "source": [],
      "metadata": {
        "id": "TPkWOg7-9Bgq"
      },
      "execution_count": null,
      "outputs": []
    },
    {
      "cell_type": "markdown",
      "source": [
        "Q7. Describe the polynomial regression model. How is it different from linear regression?"
      ],
      "metadata": {
        "id": "5WT4bbx49DZ1"
      }
    },
    {
      "cell_type": "code",
      "source": [],
      "metadata": {
        "id": "JgpBELB29DpJ"
      },
      "execution_count": null,
      "outputs": []
    },
    {
      "cell_type": "markdown",
      "source": [
        "Polynomial regression models the relationship between the dependent and independent variables as an nth-degree polynomial.\n",
        "\n",
        "Difference from linear regression: Linear regression assumes a straight-line relationship, while polynomial regression can capture more complex, curved relationships.\n"
      ],
      "metadata": {
        "id": "A8Kj7OSc9FnX"
      }
    },
    {
      "cell_type": "code",
      "source": [],
      "metadata": {
        "id": "SDbq67Aq9GWX"
      },
      "execution_count": null,
      "outputs": []
    },
    {
      "cell_type": "markdown",
      "source": [
        "Q8. What are the advantages and disadvantages of polynomial regression compared to linear\n",
        "regression? In what situations would you prefer to use polynomial regression?"
      ],
      "metadata": {
        "id": "8EIwoPDA9Idn"
      }
    },
    {
      "cell_type": "code",
      "source": [],
      "metadata": {
        "id": "vIV9ELV99IvG"
      },
      "execution_count": null,
      "outputs": []
    },
    {
      "cell_type": "markdown",
      "source": [
        "Advantages: Can model non-linear relationships, provides flexibility.\n",
        "\n",
        "Disadvantages: Prone to overfitting with too many degrees, more computationally expensive.\n",
        "\n",
        "When to use: When the data shows a non-linear pattern, but be cautious of overfitting. Polynomial regression is suitable for situations where relationships between variables are not linear but are better approximated by a curve."
      ],
      "metadata": {
        "id": "L3JIN-yT9Kv3"
      }
    },
    {
      "cell_type": "code",
      "source": [],
      "metadata": {
        "id": "gfGh5gL69MfV"
      },
      "execution_count": null,
      "outputs": []
    }
  ]
}