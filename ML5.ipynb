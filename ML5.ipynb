{
  "nbformat": 4,
  "nbformat_minor": 0,
  "metadata": {
    "colab": {
      "provenance": []
    },
    "kernelspec": {
      "name": "python3",
      "display_name": "Python 3"
    },
    "language_info": {
      "name": "python"
    }
  },
  "cells": [
    {
      "cell_type": "code",
      "source": [],
      "metadata": {
        "id": "pmQ8yuwMpnSF"
      },
      "execution_count": null,
      "outputs": []
    },
    {
      "cell_type": "markdown",
      "source": [
        "Q1. What is Min-Max scaling, and how is it used in data preprocessing? Provide an example to illustrate its\n",
        "application."
      ],
      "metadata": {
        "id": "1FU76LU-p_di"
      }
    },
    {
      "cell_type": "code",
      "source": [],
      "metadata": {
        "id": "MM0v9f6Rp_rr"
      },
      "execution_count": null,
      "outputs": []
    },
    {
      "cell_type": "markdown",
      "source": [
        "Min-Max scaling normalizes data to a specified range (usually [0, 1]). It works by adjusting the values based on the minimum and maximum of the dataset.\n",
        "\n",
        "Example:\n",
        "For values [10, 20, 30, 40, 50], scaled to [0, 1]:\n",
        "\n",
        "Min value = 10, Max value = 50\n",
        "Formula:\n",
        "X_scaled\n",
        "=\n",
        "𝑋\n",
        "−\n",
        "10\n",
        "40\n",
        "X_scaled=\n",
        "40\n",
        "X−10\n",
        "​\n",
        "\n",
        "Scaled values: [0, 0.25, 0.5, 0.75, 1]"
      ],
      "metadata": {
        "id": "rolqqxmaqCPr"
      }
    },
    {
      "cell_type": "code",
      "source": [],
      "metadata": {
        "id": "1IsiPqh_qCtz"
      },
      "execution_count": null,
      "outputs": []
    },
    {
      "cell_type": "markdown",
      "source": [
        "Q2. What is the Unit Vector technique in feature scaling, and how does it differ from Min-Max scaling?\n",
        "Provide an example to illustrate its application."
      ],
      "metadata": {
        "id": "2JSM3r48qEj8"
      }
    },
    {
      "cell_type": "code",
      "source": [],
      "metadata": {
        "id": "e1z7iEUIqE5C"
      },
      "execution_count": null,
      "outputs": []
    },
    {
      "cell_type": "markdown",
      "source": [
        "Unit Vector scaling normalizes each feature vector to have a magnitude (length) of 1 by dividing by the Euclidean norm.\n",
        "\n",
        "Difference:\n",
        "\n",
        "Min-Max scaling adjusts data into a specific range.\n",
        "\n",
        "Unit Vector scaling scales based on magnitude."
      ],
      "metadata": {
        "id": "RP0QmZxGqHVo"
      }
    },
    {
      "cell_type": "code",
      "source": [],
      "metadata": {
        "id": "pC7DWylPqKM0"
      },
      "execution_count": null,
      "outputs": []
    },
    {
      "cell_type": "markdown",
      "source": [
        "Q3. What is PCA (Principle Component Analysis), and how is it used in dimensionality reduction? Provide an\n",
        "example to illustrate its application."
      ],
      "metadata": {
        "id": "AN_gl_AVqL7x"
      }
    },
    {
      "cell_type": "code",
      "source": [],
      "metadata": {
        "id": "YySXPp7EqNnA"
      },
      "execution_count": null,
      "outputs": []
    },
    {
      "cell_type": "markdown",
      "source": [
        "PCA reduces data dimensions by transforming features into principal components that maximize variance.\n",
        "\n",
        "Example:\n",
        "\n",
        "For features like height and weight, PCA finds the directions (components) where most data variance lies, reducing 2 features to 1 while retaining information."
      ],
      "metadata": {
        "id": "aKL1P-iXqP_F"
      }
    },
    {
      "cell_type": "code",
      "source": [],
      "metadata": {
        "id": "mZTmC9uqqRLE"
      },
      "execution_count": null,
      "outputs": []
    },
    {
      "cell_type": "markdown",
      "source": [
        "Q4. What is the relationship between PCA and Feature Extraction, and how can PCA be used for Feature\n",
        "Extraction? Provide an example to illustrate this concept."
      ],
      "metadata": {
        "id": "-T76KoI6qTi8"
      }
    },
    {
      "cell_type": "code",
      "source": [],
      "metadata": {
        "id": "rTxchNAzqT7o"
      },
      "execution_count": null,
      "outputs": []
    },
    {
      "cell_type": "markdown",
      "source": [
        "PCA is a feature extraction technique, as it creates new features (principal components) that summarize original data efficiently.\n",
        "\n",
        "Example:\n",
        "\n",
        "In a dataset with 10 features, PCA may reduce it to 2 components that retain most of the original information."
      ],
      "metadata": {
        "id": "bt7-2s16qWGo"
      }
    },
    {
      "cell_type": "code",
      "source": [],
      "metadata": {
        "id": "gYItLNevqY9Q"
      },
      "execution_count": null,
      "outputs": []
    },
    {
      "cell_type": "markdown",
      "source": [
        "Q5. You are working on a project to build a recommendation system for a food delivery service. The dataset\n",
        "contains features such as price, rating, and delivery time. Explain how you would use Min-Max scaling to\n",
        "preprocess the data."
      ],
      "metadata": {
        "id": "fCHUJ8Qeqcz8"
      }
    },
    {
      "cell_type": "code",
      "source": [],
      "metadata": {
        "id": "yio8oo27qdF-"
      },
      "execution_count": null,
      "outputs": []
    },
    {
      "cell_type": "markdown",
      "source": [
        "Use Min-Max scaling to normalize the features (price, rating, delivery time) to a [0, 1] range to ensure they're on the same scale, preventing any one feature from dominating.\n",
        "\n"
      ],
      "metadata": {
        "id": "LlkGge8Dqfe7"
      }
    },
    {
      "cell_type": "code",
      "source": [],
      "metadata": {
        "id": "QbvPQ91tqf0S"
      },
      "execution_count": null,
      "outputs": []
    },
    {
      "cell_type": "markdown",
      "source": [
        "Q6. You are working on a project to build a model to predict stock prices. The dataset contains many\n",
        "features, such as company financial data and market trends. Explain how you would use PCA to reduce the\n",
        "dimensionality of the dataset."
      ],
      "metadata": {
        "id": "1a9Kkmh5qhtQ"
      }
    },
    {
      "cell_type": "code",
      "source": [],
      "metadata": {
        "id": "FeVUIL8uqiLZ"
      },
      "execution_count": null,
      "outputs": []
    },
    {
      "cell_type": "markdown",
      "source": [
        "PCA would be used to reduce the dimensionality by extracting principal components that capture the most variance, making the model faster and more efficient.\n",
        "\n"
      ],
      "metadata": {
        "id": "WNwypR0oqkBi"
      }
    },
    {
      "cell_type": "code",
      "source": [],
      "metadata": {
        "id": "rcqJEdl-qkSQ"
      },
      "execution_count": null,
      "outputs": []
    },
    {
      "cell_type": "markdown",
      "source": [
        "Q7. For a dataset containing the following values: [1, 5, 10, 15, 20], perform Min-Max scaling to transform the\n",
        "values to a range of -1 to 1."
      ],
      "metadata": {
        "id": "5H3o3v7gqmij"
      }
    },
    {
      "cell_type": "code",
      "source": [],
      "metadata": {
        "id": "DPDCCjshqmyW"
      },
      "execution_count": null,
      "outputs": []
    },
    {
      "cell_type": "markdown",
      "source": [
        "Use the formula for scaling to [-1, 1]:\n",
        "X_scaled\n",
        "=\n",
        "2\n",
        "×\n",
        "𝑋\n",
        "−\n",
        "min\n",
        "max\n",
        "−\n",
        "min\n",
        "−\n",
        "1\n",
        "X_scaled=2×\n",
        "max−min\n",
        "X−min\n",
        "​\n",
        " −1.\n",
        "\n",
        "Scaled values for [1, 5, 10, 15, 20]:\n",
        "\n",
        "Output: [-1, -0.5789, -0.1053, 0.4737, 1]"
      ],
      "metadata": {
        "id": "hCRfUl34qpNB"
      }
    },
    {
      "cell_type": "code",
      "source": [],
      "metadata": {
        "id": "WmKdTLhQqplP"
      },
      "execution_count": null,
      "outputs": []
    },
    {
      "cell_type": "markdown",
      "source": [
        "Q8. For a dataset containing the following features: [height, weight, age, gender, blood pressure], perform\n",
        "Feature Extraction using PCA. How many principal components would you choose to retain, and why?"
      ],
      "metadata": {
        "id": "Mm39gIFEqrvd"
      }
    },
    {
      "cell_type": "code",
      "source": [],
      "metadata": {
        "id": "wuWRT-JcqsAg"
      },
      "execution_count": null,
      "outputs": []
    },
    {
      "cell_type": "markdown",
      "source": [
        "Use PCA to extract components. Retain enough components to explain a significant portion of the variance (e.g., 95%). For 5 features, you may retain 2-3 components based on the explained variance ratio."
      ],
      "metadata": {
        "id": "EFXPWR7Mqts6"
      }
    },
    {
      "cell_type": "code",
      "source": [],
      "metadata": {
        "id": "XzPs9Lg6qt9o"
      },
      "execution_count": null,
      "outputs": []
    }
  ]
}