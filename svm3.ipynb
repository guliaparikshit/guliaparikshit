{
  "nbformat": 4,
  "nbformat_minor": 0,
  "metadata": {
    "colab": {
      "provenance": []
    },
    "kernelspec": {
      "name": "python3",
      "display_name": "Python 3"
    },
    "language_info": {
      "name": "python"
    }
  },
  "cells": [
    {
      "cell_type": "code",
      "source": [],
      "metadata": {
        "id": "Lhki8AUwIB2f"
      },
      "execution_count": null,
      "outputs": []
    },
    {
      "cell_type": "markdown",
      "source": [
        "Q1. In order to predict house price based on several characteristics, such as location, square footage,\n",
        "number of bedrooms, etc., you are developing an SVM regression model. Which regression metric in this\n",
        "situation would be the best to employ?"
      ],
      "metadata": {
        "id": "deRbl3LRIL_M"
      }
    },
    {
      "cell_type": "code",
      "source": [],
      "metadata": {
        "id": "7Df-mSZMIMOm"
      },
      "execution_count": null,
      "outputs": []
    },
    {
      "cell_type": "markdown",
      "source": [
        "For predicting house prices, the goal is to minimize the difference between the predicted and actual house prices. In this case, the most appropriate regression metrics would generally include:\n",
        "\n",
        "Mean Squared Error (MSE): Measures the average squared difference between the predicted and actual values. It's sensitive to large errors, which can be useful when trying to avoid large deviations in house price predictions.\n",
        "\n",
        "Root Mean Squared Error (RMSE): The square root of MSE, which brings the error metric back to the original unit of measurement (house price), making it more interpretable.\n",
        "\n",
        "R-squared (R²): Measures how well the model explains the variance in the target variable. It's helpful to know how well the model fits the data overall, but may not be the best for evaluating prediction accuracy in regression tasks."
      ],
      "metadata": {
        "id": "NXuJaDGxIOVj"
      }
    },
    {
      "cell_type": "code",
      "source": [],
      "metadata": {
        "id": "VLPhMINDIOlO"
      },
      "execution_count": null,
      "outputs": []
    },
    {
      "cell_type": "markdown",
      "source": [
        "Q2. You have built an SVM regression model and are trying to decide between using MSE or R-squared as\n",
        "your evaluation metric. Which metric would be more appropriate if your goal is to predict the actual price\n",
        "of a house as accurately as possible?"
      ],
      "metadata": {
        "id": "OWKk9z2bIQWx"
      }
    },
    {
      "cell_type": "code",
      "source": [],
      "metadata": {
        "id": "9W9aR8_7IRAN"
      },
      "execution_count": null,
      "outputs": []
    },
    {
      "cell_type": "markdown",
      "source": [
        "If your goal is to predict the actual price of a house as accurately as possible, the best metric to use would be MSE or RMSE, rather than R-squared. Here's why:\n",
        "\n",
        "MSE directly measures the error in your predictions by computing the average of squared differences between predicted and actual values. This helps quantify the model's accuracy in terms of how close the predictions are to actual prices.\n",
        "R-squared measures the proportion of the variance in the target variable (house price) that is explained by the model. While useful for understanding model fit, it doesn't directly measure prediction accuracy."
      ],
      "metadata": {
        "id": "X9At1Yx9ITw7"
      }
    },
    {
      "cell_type": "code",
      "source": [],
      "metadata": {
        "id": "E19_lki8IT_U"
      },
      "execution_count": null,
      "outputs": []
    },
    {
      "cell_type": "markdown",
      "source": [
        "Q3. You have a dataset with a significant number of outliers and are trying to select an appropriate\n",
        "regression metric to use with your SVM model. Which metric would be the most appropriate in this\n",
        "scenario?"
      ],
      "metadata": {
        "id": "trnt0nzZIV8r"
      }
    },
    {
      "cell_type": "code",
      "source": [],
      "metadata": {
        "id": "Y1ZR1ITqIWS0"
      },
      "execution_count": null,
      "outputs": []
    },
    {
      "cell_type": "markdown",
      "source": [
        "Better options for handling outliers:\n",
        "\n",
        "Mean Absolute Error (MAE): This metric calculates the average absolute difference between predicted and actual values. Unlike MSE, it is less sensitive to outliers, since it doesn't square the errors.\n",
        "\n",
        "Huber Loss: A combination of MAE and MSE, which is less sensitive to outliers. It uses a quadratic loss for small errors and a linear loss for large errors, making it robust to outliers"
      ],
      "metadata": {
        "id": "yJGRoWJXIZNo"
      }
    },
    {
      "cell_type": "code",
      "source": [],
      "metadata": {
        "id": "H1g-KFe_IZmc"
      },
      "execution_count": null,
      "outputs": []
    },
    {
      "cell_type": "markdown",
      "source": [
        "Q4. You have built an SVM regression model using a polynomial kernel and are trying to select the best\n",
        "metric to evaluate its performance. You have calculated both MSE and RMSE and found that both values\n",
        "are very close. Which metric should you choose to use in this case?"
      ],
      "metadata": {
        "id": "RtQVpPC7Ibp-"
      }
    },
    {
      "cell_type": "code",
      "source": [],
      "metadata": {
        "id": "IHu5PDyjIcAA"
      },
      "execution_count": null,
      "outputs": []
    },
    {
      "cell_type": "markdown",
      "source": [
        "If both MSE and RMSE are very close, then the choice between them comes down to interpretability.\n",
        "\n",
        "MSE is in the squared unit of the target variable (house price), which can be less intuitive.\n",
        "\n",
        "RMSE is the square root of MSE and gives you an error value in the same unit as the target variable, making it more interpretable.\n",
        "\n",
        "Since both metrics are giving similar results, RMSE is often preferred because it is easier to understand in the context of house prices."
      ],
      "metadata": {
        "id": "nZ83KFgIIe5h"
      }
    },
    {
      "cell_type": "code",
      "source": [],
      "metadata": {
        "id": "3eatYVDhIglg"
      },
      "execution_count": null,
      "outputs": []
    },
    {
      "cell_type": "markdown",
      "source": [
        "Q5. You are comparing the performance of different SVM regression models using different kernels (linear,\n",
        "polynomial, and RBF) and are trying to select the best evaluation metric. Which metric would be most\n",
        "appropriate if your goal is to measure how well the model explains the variance in the target variable?"
      ],
      "metadata": {
        "id": "ZKZQ2bXTIime"
      }
    },
    {
      "cell_type": "code",
      "source": [],
      "metadata": {
        "id": "_v-qRcTLIi-i"
      },
      "execution_count": null,
      "outputs": []
    },
    {
      "cell_type": "markdown",
      "source": [
        "If your goal is to evaluate how well the model explains the variance in the target variable, the most appropriate metric would be R-squared (R²).\n",
        "\n",
        "R² measures the proportion of variance in the target variable (house price) that is explained by the model. A higher R² indicates a better fit and a model that explains more of the variance.\n",
        "\n",
        "MSE, RMSE, and MAE primarily focus on prediction accuracy and do not directly measure how well the model explains the variance."
      ],
      "metadata": {
        "id": "JPTPbdniIlzV"
      }
    },
    {
      "cell_type": "code",
      "source": [],
      "metadata": {
        "id": "SRPaMtpIImwp"
      },
      "execution_count": null,
      "outputs": []
    }
  ]
}