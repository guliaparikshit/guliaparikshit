{
  "nbformat": 4,
  "nbformat_minor": 0,
  "metadata": {
    "colab": {
      "provenance": []
    },
    "kernelspec": {
      "name": "python3",
      "display_name": "Python 3"
    },
    "language_info": {
      "name": "python"
    }
  },
  "cells": [
    {
      "cell_type": "code",
      "source": [],
      "metadata": {
        "id": "toaYtDm5DOw-"
      },
      "execution_count": null,
      "outputs": []
    },
    {
      "cell_type": "markdown",
      "source": [
        "Q1. Write a Python function that takes in two arrays of data and calculates the F-value for a variance ratio\n",
        "test. The function should return the F-value and the corresponding p-value for the test."
      ],
      "metadata": {
        "id": "k3I-A1CwIIZE"
      }
    },
    {
      "cell_type": "code",
      "source": [
        "import numpy as np\n",
        "from scipy.stats import f\n",
        "\n",
        "def f_test(data1, data2):\n",
        "    var1 = np.var(data1, ddof=1)\n",
        "    var2 = np.var(data2, ddof=1)\n",
        "    f_value = var1 / var2 if var1 > var2 else var2 / var1\n",
        "    df1 = len(data1) - 1\n",
        "    df2 = len(data2) - 1\n",
        "    p_value = 1 - f.cdf(f_value, df1, df2)\n",
        "    return f_value, p_value\n"
      ],
      "metadata": {
        "id": "Wv4pzDkoIInR"
      },
      "execution_count": 44,
      "outputs": []
    },
    {
      "cell_type": "code",
      "source": [
        "data1 = [25, 30, 35, 40, 45, 50]\n",
        "data2 = [15, 20, 25, 30, 35, 40]\n",
        "\n",
        "f_value, p_value = f_test(data1, data2)\n",
        "\n",
        "print(f\"F-value: {f_value}\")\n",
        "print(f\"P-value: {p_value}\")\n"
      ],
      "metadata": {
        "colab": {
          "base_uri": "https://localhost:8080/"
        },
        "id": "1UnDiHpXIJsb",
        "outputId": "63a3a886-772e-4e0e-d73f-d8e5aac4e83e"
      },
      "execution_count": 45,
      "outputs": [
        {
          "output_type": "stream",
          "name": "stdout",
          "text": [
            "F-value: 1.0\n",
            "P-value: 0.4999999999999999\n"
          ]
        }
      ]
    },
    {
      "cell_type": "code",
      "source": [],
      "metadata": {
        "id": "EPCPFsCOIe1u"
      },
      "execution_count": null,
      "outputs": []
    },
    {
      "cell_type": "markdown",
      "source": [
        "Q2. Given a significance level of 0.05 and the degrees of freedom for the numerator and denominator of an\n",
        "F-distribution, write a Python function that returns the critical F-value for a two-tailed test."
      ],
      "metadata": {
        "id": "gFvtuctvIhBR"
      }
    },
    {
      "cell_type": "code",
      "source": [
        "from scipy.stats import f\n",
        "\n",
        "def critical_f_value(alpha, df1, df2):\n",
        "    critical_value = f.ppf(1 - alpha / 2, df1, df2)\n",
        "    return critical_value\n",
        "\n",
        "alpha = 0.05\n",
        "df1 = 3\n",
        "df2 = 20\n",
        "\n",
        "critical_value = critical_f_value(alpha, df1, df2)\n",
        "print(f\"Critical F-value: {critical_value}\")\n"
      ],
      "metadata": {
        "colab": {
          "base_uri": "https://localhost:8080/"
        },
        "id": "ww2RYFD8IhSV",
        "outputId": "3fd8897f-d7f4-4d08-ef78-ce5119056098"
      },
      "execution_count": 47,
      "outputs": [
        {
          "output_type": "stream",
          "name": "stdout",
          "text": [
            "Critical F-value: 3.8586986662732143\n"
          ]
        }
      ]
    },
    {
      "cell_type": "code",
      "source": [],
      "metadata": {
        "id": "WbRcd7BoInTT"
      },
      "execution_count": null,
      "outputs": []
    },
    {
      "cell_type": "markdown",
      "source": [
        "Q3. Write a Python program that generates random samples from two normal distributions with known\n",
        "\n",
        "variances and uses an F-test to determine if the variances are equal. The program should output the F-\n",
        "value, degrees of freedom, and p-value for the test."
      ],
      "metadata": {
        "id": "8lv40pjaIy6u"
      }
    },
    {
      "cell_type": "code",
      "source": [
        "import numpy as np\n",
        "from scipy.stats import f\n",
        "\n",
        "def f_test(sample1, sample2):\n",
        "    var1 = np.var(sample1, ddof=1)\n",
        "    var2 = np.var(sample2, ddof=1)\n",
        "    f_value = var1 / var2\n",
        "    df1 = len(sample1) - 1\n",
        "    df2 = len(sample2) - 1\n",
        "    p_value = 1 - f.cdf(f_value, df1, df2)\n",
        "    return f_value, p_value\n",
        "\n",
        "sample1 = np.random.normal(10, 2, 100)\n",
        "sample2 = np.random.normal(12, 3, 100)\n",
        "\n",
        "f_value, p_value = f_test(sample1, sample2)\n",
        "print(f\"F-value: {f_value}\")\n",
        "print(f\"P-value: {p_value}\")\n"
      ],
      "metadata": {
        "colab": {
          "base_uri": "https://localhost:8080/"
        },
        "id": "JqJNTfkEIzO1",
        "outputId": "3c2eaeca-f375-4e94-e2e5-9a6b5d3f8267"
      },
      "execution_count": 48,
      "outputs": [
        {
          "output_type": "stream",
          "name": "stdout",
          "text": [
            "F-value: 0.4885825770841199\n",
            "P-value: 0.9997821518236006\n"
          ]
        }
      ]
    },
    {
      "cell_type": "code",
      "source": [],
      "metadata": {
        "id": "lhtV00VEI3hu"
      },
      "execution_count": null,
      "outputs": []
    },
    {
      "cell_type": "markdown",
      "source": [
        "Q4.The variances of two populations are known to be 10 and 15. A sample of 12 observations is taken from\n",
        "each population. Conduct an F-test at the 5% significance level to determine if the variances are\n",
        "significantly different."
      ],
      "metadata": {
        "id": "9UkDIOYaI5i2"
      }
    },
    {
      "cell_type": "code",
      "source": [
        "import numpy as np\n",
        "from scipy.stats import f\n",
        "\n",
        "def f_test_variances(variance1, variance2, n1, n2):\n",
        "    f_value = variance1 / variance2\n",
        "    df1 = n1 - 1\n",
        "    df2 = n2 - 1\n",
        "    p_value = 1 - f.cdf(f_value, df1, df2)\n",
        "    return f_value, p_value\n",
        "\n",
        "variance1 = 10\n",
        "variance2 = 15\n",
        "n1 = 12\n",
        "n2 = 12\n",
        "\n",
        "f_value, p_value = f_test_variances(variance1, variance2, n1, n2)\n",
        "print(f\"F-value: {f_value}\")\n",
        "print(f\"P-value: {p_value}\")\n"
      ],
      "metadata": {
        "colab": {
          "base_uri": "https://localhost:8080/"
        },
        "id": "dMYc73wFI5zd",
        "outputId": "2b6b7267-a843-4726-8b56-4167a1c239af"
      },
      "execution_count": 49,
      "outputs": [
        {
          "output_type": "stream",
          "name": "stdout",
          "text": [
            "F-value: 0.6666666666666666\n",
            "P-value: 0.7438051006321003\n"
          ]
        }
      ]
    },
    {
      "cell_type": "code",
      "source": [],
      "metadata": {
        "id": "xbT24RN7I9vV"
      },
      "execution_count": null,
      "outputs": []
    },
    {
      "cell_type": "markdown",
      "source": [
        "Q5. A manufacturer claims that the variance of the diameter of a certain product is 0.005. A sample of 25\n",
        "products is taken, and the sample variance is found to be 0.006. Conduct an F-test at the 1% significance\n",
        "level to determine if the claim is justified."
      ],
      "metadata": {
        "id": "RQzJwRrcJAPc"
      }
    },
    {
      "cell_type": "code",
      "source": [
        "import numpy as np\n",
        "from scipy.stats import f\n",
        "\n",
        "def f_test_claim(sample_variance, claimed_variance, n):\n",
        "    f_value = sample_variance / claimed_variance\n",
        "    df1 = n - 1\n",
        "    df2 = n - 1\n",
        "    p_value = 1 - f.cdf(f_value, df1, df2)\n",
        "    return f_value, p_value\n",
        "\n",
        "sample_variance = 0.006\n",
        "claimed_variance = 0.005\n",
        "n = 25\n",
        "\n",
        "f_value, p_value = f_test_claim(sample_variance, claimed_variance, n)\n",
        "print(f\"F-value: {f_value}\")\n",
        "print(f\"P-value: {p_value}\")\n"
      ],
      "metadata": {
        "colab": {
          "base_uri": "https://localhost:8080/"
        },
        "id": "iaZXJBZFJAg5",
        "outputId": "884d2534-a284-420c-ae62-4adca64eb5b0"
      },
      "execution_count": 50,
      "outputs": [
        {
          "output_type": "stream",
          "name": "stdout",
          "text": [
            "F-value: 1.2\n",
            "P-value: 0.3293654682817244\n"
          ]
        }
      ]
    },
    {
      "cell_type": "code",
      "source": [],
      "metadata": {
        "id": "j0st64yFJDpm"
      },
      "execution_count": null,
      "outputs": []
    },
    {
      "cell_type": "markdown",
      "source": [
        "Q6. Write a Python function that takes in the degrees of freedom for the numerator and denominator of an\n",
        "F-distribution and calculates the mean and variance of the distribution. The function should return the\n",
        "mean and variance as a tuple."
      ],
      "metadata": {
        "id": "uhNOF6hEJFuy"
      }
    },
    {
      "cell_type": "code",
      "source": [
        "from scipy.stats import f\n",
        "\n",
        "def f_distribution_mean_variance(df1, df2):\n",
        "    mean = df2 / (df2 - 2) if df2 > 2 else float('nan')\n",
        "    variance = (2 * (df2**2) * (df1 + df2 - 2)) / (df1 * (df2 - 2)**2 * (df2 - 4)) if df2 > 4 else float('nan')\n",
        "    return mean, variance\n",
        "\n",
        "df1 = 5\n",
        "df2 = 10\n",
        "\n",
        "mean, variance = f_distribution_mean_variance(df1, df2)\n",
        "print(f\"Mean: {mean}\")\n",
        "print(f\"Variance: {variance}\")\n"
      ],
      "metadata": {
        "colab": {
          "base_uri": "https://localhost:8080/"
        },
        "id": "UX6-Ho3PJF-w",
        "outputId": "b4372391-21cc-459d-9f1a-f087e67f8bae"
      },
      "execution_count": 51,
      "outputs": [
        {
          "output_type": "stream",
          "name": "stdout",
          "text": [
            "Mean: 1.25\n",
            "Variance: 1.3541666666666667\n"
          ]
        }
      ]
    },
    {
      "cell_type": "code",
      "source": [],
      "metadata": {
        "id": "XElQSjJCJJsI"
      },
      "execution_count": null,
      "outputs": []
    },
    {
      "cell_type": "markdown",
      "source": [
        "Q7. A random sample of 10 measurements is taken from a normal population with unknown variance. The\n",
        "sample variance is found to be 25. Another random sample of 15 measurements is taken from another\n",
        "normal population with unknown variance, and the sample variance is found to be 20. Conduct an F-test\n",
        "at the 10% significance level to determine if the variances are significantly different."
      ],
      "metadata": {
        "id": "Lpv0W3gDJMGJ"
      }
    },
    {
      "cell_type": "code",
      "source": [
        "import numpy as np\n",
        "from scipy.stats import f\n",
        "\n",
        "def f_test_two_samples(sample1, sample2):\n",
        "    var1 = np.var(sample1, ddof=1)\n",
        "    var2 = np.var(sample2, ddof=1)\n",
        "    f_value = var1 / var2\n",
        "    df1 = len(sample1) - 1\n",
        "    df2 = len(sample2) - 1\n",
        "    p_value = 1 - f.cdf(f_value, df1, df2)\n",
        "    return f_value, p_value\n",
        "\n",
        "sample1 = np.random.normal(10, 5, 10)\n",
        "sample2 = np.random.normal(12, 6, 15)\n",
        "\n",
        "f_value, p_value = f_test_two_samples(sample1, sample2)\n",
        "print(f\"F-value: {f_value}\")\n",
        "print(f\"P-value: {p_value}\")\n"
      ],
      "metadata": {
        "colab": {
          "base_uri": "https://localhost:8080/"
        },
        "id": "qA52aUU4JMVY",
        "outputId": "2398b337-1a29-4834-efc6-f669d9dc13e1"
      },
      "execution_count": 52,
      "outputs": [
        {
          "output_type": "stream",
          "name": "stdout",
          "text": [
            "F-value: 0.7883001669411134\n",
            "P-value: 0.6319787528863423\n"
          ]
        }
      ]
    },
    {
      "cell_type": "code",
      "source": [],
      "metadata": {
        "id": "iZEa_2S-JPlb"
      },
      "execution_count": null,
      "outputs": []
    },
    {
      "cell_type": "markdown",
      "source": [
        "Q8. The following data represent the waiting times in minutes at two different restaurants on a Saturday\n",
        "night: Restaurant A: 24, 25, 28, 23, 22, 20, 27; Restaurant B: 31, 33, 35, 30, 32, 36. Conduct an F-test at the 5%\n",
        "significance level to determine if the variances are significantly different."
      ],
      "metadata": {
        "id": "KRF0IWA8JRxc"
      }
    },
    {
      "cell_type": "code",
      "source": [
        "import numpy as np\n",
        "from scipy.stats import f\n",
        "\n",
        "def f_test_two_samples(sample1, sample2):\n",
        "    var1 = np.var(sample1, ddof=1)\n",
        "    var2 = np.var(sample2, ddof=1)\n",
        "    f_value = var1 / var2\n",
        "    df1 = len(sample1) - 1\n",
        "    df2 = len(sample2) - 1\n",
        "    p_value = 1 - f.cdf(f_value, df1, df2)\n",
        "    return f_value, p_value\n",
        "\n",
        "restaurant_A = np.array([24, 25, 28, 23, 22, 20, 27])\n",
        "restaurant_B = np.array([31, 33, 35, 30, 32, 36])\n",
        "\n",
        "f_value, p_value = f_test_two_samples(restaurant_A, restaurant_B)\n",
        "print(f\"F-value: {f_value}\")\n",
        "print(f\"P-value: {p_value}\")\n"
      ],
      "metadata": {
        "colab": {
          "base_uri": "https://localhost:8080/"
        },
        "id": "ww_6sTFlJSBA",
        "outputId": "b77be7cb-9b7b-4f38-a8e9-4915e5c391a8"
      },
      "execution_count": 53,
      "outputs": [
        {
          "output_type": "stream",
          "name": "stdout",
          "text": [
            "F-value: 1.4551907719609583\n",
            "P-value: 0.3487407873968742\n"
          ]
        }
      ]
    },
    {
      "cell_type": "code",
      "source": [],
      "metadata": {
        "id": "LqrQTIJ2JVLr"
      },
      "execution_count": null,
      "outputs": []
    },
    {
      "cell_type": "markdown",
      "source": [
        "Q9. The following data represent the test scores of two groups of students: Group A: 80, 85, 90, 92, 87, 83;\n",
        "Group B: 75, 78, 82, 79, 81, 84. Conduct an F-test at the 1% significance level to determine if the variances\n",
        "are significantly different."
      ],
      "metadata": {
        "id": "O3jGNch3JXCZ"
      }
    },
    {
      "cell_type": "code",
      "source": [
        "import numpy as np\n",
        "from scipy.stats import f\n",
        "\n",
        "def f_test_two_samples(sample1, sample2):\n",
        "    var1 = np.var(sample1, ddof=1)\n",
        "    var2 = np.var(sample2, ddof=1)\n",
        "    f_value = var1 / var2\n",
        "    df1 = len(sample1) - 1\n",
        "    df2 = len(sample2) - 1\n",
        "    p_value = 1 - f.cdf(f_value, df1, df2)\n",
        "    return f_value, p_value\n",
        "\n",
        "group_A = np.array([80, 85, 90, 92, 87, 83])\n",
        "group_B = np.array([75, 78, 82, 79, 81, 84])\n",
        "\n",
        "f_value, p_value = f_test_two_samples(group_A, group_B)\n",
        "print(f\"F-value: {f_value}\")\n",
        "print(f\"P-value: {p_value}\")\n"
      ],
      "metadata": {
        "id": "vhWi82N1JXQp",
        "outputId": "c4074cd5-488b-4e58-c154-724b2b37ac8f",
        "colab": {
          "base_uri": "https://localhost:8080/"
        }
      },
      "execution_count": 54,
      "outputs": [
        {
          "output_type": "stream",
          "name": "stdout",
          "text": [
            "F-value: 1.9442622950819677\n",
            "P-value: 0.2415521774535344\n"
          ]
        }
      ]
    },
    {
      "cell_type": "code",
      "source": [],
      "metadata": {
        "id": "HHaiBPa5JaaR"
      },
      "execution_count": null,
      "outputs": []
    }
  ]
}