{
  "nbformat": 4,
  "nbformat_minor": 0,
  "metadata": {
    "colab": {
      "provenance": []
    },
    "kernelspec": {
      "name": "python3",
      "display_name": "Python 3"
    },
    "language_info": {
      "name": "python"
    }
  },
  "cells": [
    {
      "cell_type": "code",
      "source": [],
      "metadata": {
        "id": "toaYtDm5DOw-"
      },
      "execution_count": null,
      "outputs": []
    },
    {
      "cell_type": "markdown",
      "source": [
        "Q1. Explain the assumptions required to use ANOVA and provide examples of violations that could impact\n",
        "the validity of the results."
      ],
      "metadata": {
        "id": "_kZfowGUF6Kv"
      }
    },
    {
      "cell_type": "code",
      "source": [],
      "metadata": {
        "id": "qIjA_Lc9F6ZI"
      },
      "execution_count": null,
      "outputs": []
    },
    {
      "cell_type": "markdown",
      "source": [
        "Assumptions for ANOVA:\n",
        "\n",
        "Independence: The observations in each group must be independent of each other. This means that the data points in one group should not influence the data points in another group.\n",
        "\n",
        "Violation Example: If the data were collected from repeated measurements on the same subjects without properly accounting for this correlation, it would violate this assumption.\n",
        "\n",
        "Normality: The data in each group should be approximately normally distributed. This is important because ANOVA assumes that the distribution of residuals (errors) is normal.\n",
        "\n",
        "Violation Example: If you have very skewed data (e.g., extremely large or small values), this assumption could be violated."
      ],
      "metadata": {
        "id": "W2ybSkpmF8_Q"
      }
    },
    {
      "cell_type": "code",
      "source": [],
      "metadata": {
        "id": "dLUGPCUWGAKf"
      },
      "execution_count": null,
      "outputs": []
    },
    {
      "cell_type": "markdown",
      "source": [
        "Q2. What are the three types of ANOVA, and in what situations would each be used?"
      ],
      "metadata": {
        "id": "BCGUJKw8GB1I"
      }
    },
    {
      "cell_type": "code",
      "source": [],
      "metadata": {
        "id": "tPbJCTVzGCGS"
      },
      "execution_count": null,
      "outputs": []
    },
    {
      "cell_type": "markdown",
      "source": [
        "One-Way ANOVA:\n",
        "\n",
        "Usage: Used when comparing the means of three or more independent groups based on a single factor (independent variable).\n",
        "\n",
        "Example: Comparing the test scores of students from three different teaching methods.\n",
        "\n",
        "Two-Way ANOVA:\n",
        "\n",
        "Usage: Used when there are two factors (independent variables), and you want to analyze their individual effects and the interaction between them.\n",
        "\n",
        "Example: Studying the effect of both teaching method and student gender on test scores.\n",
        "\n",
        "Repeated Measures ANOVA:\n",
        "\n",
        "Usage: Used when the same subjects are measured multiple times under different conditions or over time.\n",
        "\n",
        "Example: Studying how the same group of patients reacts to three different drug treatments at different time points."
      ],
      "metadata": {
        "id": "HnsO-o1OGFC7"
      }
    },
    {
      "cell_type": "code",
      "source": [],
      "metadata": {
        "id": "ZnF6dt9iGH3D"
      },
      "execution_count": null,
      "outputs": []
    },
    {
      "cell_type": "markdown",
      "source": [
        "Q3. What is the partitioning of variance in ANOVA, and why is it important to understand this concept?"
      ],
      "metadata": {
        "id": "H6C_lBzNGJ8r"
      }
    },
    {
      "cell_type": "code",
      "source": [],
      "metadata": {
        "id": "i5gRsexpGKPd"
      },
      "execution_count": null,
      "outputs": []
    },
    {
      "cell_type": "markdown",
      "source": [
        "Total Sum of Squares (SST): Measures the total variation in the dependent variable.\n",
        "\n",
        "Sum of Squares for Between Groups (SSE): Measures the variation between the group means.\n",
        "\n",
        "Residual Sum of Squares (SSR): Measures the variation within the groups (error)."
      ],
      "metadata": {
        "id": "trzIHAaZGM8d"
      }
    },
    {
      "cell_type": "code",
      "source": [],
      "metadata": {
        "id": "asPN-ohSGVmI"
      },
      "execution_count": null,
      "outputs": []
    },
    {
      "cell_type": "markdown",
      "source": [
        "Q4. How would you calculate the total sum of squares (SST), explained sum of squares (SSE), and residual\n",
        "sum of squares (SSR) in a one-way ANOVA using Python?"
      ],
      "metadata": {
        "id": "TQFRA35OGX10"
      }
    },
    {
      "cell_type": "code",
      "source": [
        "import numpy as np\n",
        "import scipy.stats as stats\n",
        "\n",
        "# Sample data for three groups\n",
        "group1 = np.array([23, 29, 31, 23, 27])\n",
        "group2 = np.array([34, 37, 29, 40, 38])\n",
        "group3 = np.array([32, 35, 36, 30, 33])\n",
        "\n",
        "# Calculate the overall mean\n",
        "overall_mean = np.mean(np.concatenate([group1, group2, group3]))\n",
        "\n",
        "# Calculate the means of each group\n",
        "mean_group1 = np.mean(group1)\n",
        "mean_group2 = np.mean(group2)\n",
        "mean_group3 = np.mean(group3)\n",
        "\n",
        "# Calculate SST (Total Sum of Squares)\n",
        "sst = np.sum((np.concatenate([group1, group2, group3]) - overall_mean) ** 2)\n",
        "\n",
        "# Calculate SSE (Sum of Squares for Between Groups)\n",
        "sse = len(group1) * (mean_group1 - overall_mean) ** 2 + len(group2) * (mean_group2 - overall_mean) ** 2 + len(group3) * (mean_group3 - overall_mean) ** 2\n",
        "\n",
        "# Calculate SSR (Residual Sum of Squares)\n",
        "ssr = np.sum((group1 - mean_group1) ** 2) + np.sum((group2 - mean_group2) ** 2) + np.sum((group3 - mean_group3) ** 2)\n",
        "\n",
        "print(f\"SST: {sst:.2f}, SSE: {sse:.2f}, SSR: {ssr:.2f}\")\n"
      ],
      "metadata": {
        "colab": {
          "base_uri": "https://localhost:8080/"
        },
        "id": "PkkhwUzVGYIq",
        "outputId": "4e029bb9-0f43-4f01-bca6-e3d4a664a0a8"
      },
      "execution_count": 36,
      "outputs": [
        {
          "output_type": "stream",
          "name": "stdout",
          "text": [
            "SST: 364.40, SSE: 217.20, SSR: 147.20\n"
          ]
        }
      ]
    },
    {
      "cell_type": "code",
      "source": [],
      "metadata": {
        "id": "d8GKKH_KGZhr"
      },
      "execution_count": null,
      "outputs": []
    },
    {
      "cell_type": "markdown",
      "source": [
        "Q5. In a two-way ANOVA, how would you calculate the main effects and interaction effects using Python?"
      ],
      "metadata": {
        "id": "oDr_VgKkGcCB"
      }
    },
    {
      "cell_type": "code",
      "source": [],
      "metadata": {
        "id": "ggLbwJgGGeCo"
      },
      "execution_count": null,
      "outputs": []
    },
    {
      "cell_type": "markdown",
      "source": [
        "Q6. Suppose you conducted a one-way ANOVA and obtained an F-statistic of 5.23 and a p-value of 0.02.\n",
        "What can you conclude about the differences between the groups, and how would you interpret these\n",
        "results?"
      ],
      "metadata": {
        "id": "0fpcyTZ3Gla9"
      }
    },
    {
      "cell_type": "code",
      "source": [],
      "metadata": {
        "id": "fj4N95m3Glpw"
      },
      "execution_count": null,
      "outputs": []
    },
    {
      "cell_type": "markdown",
      "source": [
        "Given:\n",
        "\n",
        "F-statistic = 5.23\n",
        "\n",
        "p-value = 0.02\n",
        "\n",
        "Interpretation:\n",
        "\n",
        "If p-value < 0.05: We reject the null hypothesis, meaning that at least one group is significantly different from the others.\n",
        "\n",
        "Conclusion: Since the p-value (0.02) is less than 0.05, we reject the null hypothesis and conclude that there are significant differences between the groups."
      ],
      "metadata": {
        "id": "vtvUUPp0GoS4"
      }
    },
    {
      "cell_type": "code",
      "source": [],
      "metadata": {
        "id": "aSxzshLtGqbE"
      },
      "execution_count": null,
      "outputs": []
    },
    {
      "cell_type": "markdown",
      "source": [
        "Q7. In a repeated measures ANOVA, how would you handle missing data, and what are the potential\n",
        "consequences of using different methods to handle missing data?"
      ],
      "metadata": {
        "id": "F4zvIuFNGsq_"
      }
    },
    {
      "cell_type": "code",
      "source": [],
      "metadata": {
        "id": "2V_MtGC7Gs73"
      },
      "execution_count": null,
      "outputs": []
    },
    {
      "cell_type": "markdown",
      "source": [
        "For repeated measures ANOVA:\n",
        "\n",
        "Listwise Deletion: Remove participants with missing data. This can reduce sample size and statistical power.\n",
        "Imputation: Impute missing values based on other available data, but this can introduce bias if not done carefully.\n",
        "Consequences of improper handling:\n",
        "\n",
        "Loss of statistical power.\n",
        "Bias in results, especially if data are missing not at random."
      ],
      "metadata": {
        "id": "IgpVbYlQGvXg"
      }
    },
    {
      "cell_type": "code",
      "source": [],
      "metadata": {
        "id": "gtWKTm43Gvry"
      },
      "execution_count": null,
      "outputs": []
    },
    {
      "cell_type": "markdown",
      "source": [
        "Q8. What are some common post-hoc tests used after ANOVA, and when would you use each one? Provide\n",
        "an example of a situation where a post-hoc test might be necessary."
      ],
      "metadata": {
        "id": "asSS6hKkGyBD"
      }
    },
    {
      "cell_type": "code",
      "source": [],
      "metadata": {
        "id": "tq2NAkMmGyTd"
      },
      "execution_count": null,
      "outputs": []
    },
    {
      "cell_type": "markdown",
      "source": [
        "Tukey's HSD: Used to compare all possible pairs of group means after a significant ANOVA result.\n",
        "\n",
        "Example: After determining a significant difference in student test scores across different teaching methods, use Tukey’s HSD to determine which specific pairs of methods are different.\n",
        "\n",
        "Bonferroni Correction: Used when conducting multiple comparisons to control for the Type I error rate.\n",
        "\n",
        "Scheffé’s Test: A more conservative test for post-hoc comparisons."
      ],
      "metadata": {
        "id": "rKyo3SxYG0po"
      }
    },
    {
      "cell_type": "code",
      "source": [],
      "metadata": {
        "id": "joODaAr-G1mZ"
      },
      "execution_count": null,
      "outputs": []
    },
    {
      "cell_type": "markdown",
      "source": [
        "Q9. A researcher wants to compare the mean weight loss of three diets: A, B, and C. They collect data from\n",
        "50 participants who were randomly assigned to one of the diets. Conduct a one-way ANOVA using Python\n",
        "to determine if there are any significant differences between the mean weight loss of the three diets.\n",
        "Report the F-statistic and p-value, and interpret the results."
      ],
      "metadata": {
        "id": "yPex2idnG4FT"
      }
    },
    {
      "cell_type": "code",
      "source": [
        "# Example data for three diets\n",
        "diet_A = np.array([2, 3, 1, 4, 3])\n",
        "diet_B = np.array([1, 2, 2, 3, 4])\n",
        "diet_C = np.array([3, 4, 2, 4, 5])\n",
        "\n",
        "# Conducting One-Way ANOVA\n",
        "f_stat, p_value = stats.f_oneway(diet_A, diet_B, diet_C)\n",
        "\n",
        "print(f\"F-statistic: {f_stat:.4f}\")\n",
        "print(f\"p-value: {p_value:.4f}\")\n",
        "\n",
        "if p_value < 0.05:\n",
        "    result = \"Reject the null hypothesis: There is a significant difference in weight loss between the diets.\"\n",
        "else:\n",
        "    result = \"Fail to reject the null hypothesis: There is no significant difference in weight loss between the diets.\"\n",
        "\n",
        "print(result)\n"
      ],
      "metadata": {
        "colab": {
          "base_uri": "https://localhost:8080/"
        },
        "id": "Tbo0Ht2zG4Ud",
        "outputId": "a8f70fe5-db3d-4bd4-8d98-a39e71fd46c4"
      },
      "execution_count": 38,
      "outputs": [
        {
          "output_type": "stream",
          "name": "stdout",
          "text": [
            "F-statistic: 1.5897\n",
            "p-value: 0.2441\n",
            "Fail to reject the null hypothesis: There is no significant difference in weight loss between the diets.\n"
          ]
        }
      ]
    },
    {
      "cell_type": "code",
      "source": [],
      "metadata": {
        "id": "fBC3vPT7G5rY"
      },
      "execution_count": null,
      "outputs": []
    },
    {
      "cell_type": "markdown",
      "source": [
        "Q10. A company wants to know if there are any significant differences in the average time it takes to\n",
        "complete a task using three different software programs: Program A, Program B, and Program C. They\n",
        "randomly assign 30 employees to one of the programs and record the time it takes each employee to\n",
        "complete the task. Conduct a two-way ANOVA using Python to determine if there are any main effects or\n",
        "interaction effects between the software programs and employee experience level (novice vs.\n",
        "experienced). Report the F-statistics and p-values, and interpret the results."
      ],
      "metadata": {
        "id": "fcSr1yQRG8xg"
      }
    },
    {
      "cell_type": "code",
      "source": [
        "# Example data for the two-way ANOVA\n",
        "program_A = np.array([30, 35, 40, 32])\n",
        "program_B = np.array([25, 28, 34, 30])\n",
        "program_C = np.array([28, 29, 33, 31])\n",
        "experience_level = ['Novice', 'Novice', 'Experienced', 'Experienced']\n",
        "\n",
        "# Conducting Two-Way ANOVA\n",
        "data = pd.DataFrame({\n",
        "    'Time': np.concatenate([program_A, program_B, program_C]),\n",
        "    'Program': ['A', 'A', 'A', 'A', 'B', 'B', 'B', 'B', 'C', 'C', 'C', 'C'],\n",
        "    'Experience': experience_level * 3\n",
        "})\n",
        "\n",
        "model = ols('Time ~ Program * Experience', data=data).fit()\n",
        "anova_table = sm.stats.anova_lm(model, typ=2)\n",
        "\n",
        "print(anova_table)\n"
      ],
      "metadata": {
        "colab": {
          "base_uri": "https://localhost:8080/"
        },
        "id": "6dmDsaEzG9IO",
        "outputId": "5e5e20ac-34dd-41bb-8289-c6ca0615931a"
      },
      "execution_count": 39,
      "outputs": [
        {
          "output_type": "stream",
          "name": "stdout",
          "text": [
            "                       sum_sq   df         F    PR(>F)\n",
            "Program             56.000000  2.0  2.823529  0.136711\n",
            "Experience          52.083333  1.0  5.252101  0.061796\n",
            "Program:Experience   2.666667  2.0  0.134454  0.876755\n",
            "Residual            59.500000  6.0       NaN       NaN\n"
          ]
        }
      ]
    },
    {
      "cell_type": "code",
      "source": [],
      "metadata": {
        "id": "BeSSqClkG-el"
      },
      "execution_count": null,
      "outputs": []
    },
    {
      "cell_type": "markdown",
      "source": [
        "Q11. An educational researcher is interested in whether a new teaching method improves student test\n",
        "scores. They randomly assign 100 students to either the control group (traditional teaching method) or the\n",
        "experimental group (new teaching method) and administer a test at the end of the semester. Conduct a\n",
        "two-sample t-test using Python to determine if there are any significant differences in test scores\n",
        "between the two groups. If the results are significant, follow up with a post-hoc test to determine which\n",
        "group(s) differ significantly from each other."
      ],
      "metadata": {
        "id": "IDsqO0JiHCaC"
      }
    },
    {
      "cell_type": "code",
      "source": [
        "import numpy as np\n",
        "from scipy import stats\n",
        "\n",
        "# Test scores for the control and experimental groups\n",
        "control_group = np.array([70, 72, 68, 75, 74])\n",
        "experimental_group = np.array([85, 88, 92, 80, 86])\n",
        "\n",
        "# Perform the two-sample t-test\n",
        "t_stat, p_value = stats.ttest_ind(control_group, experimental_group)\n",
        "\n",
        "# Output the t-statistic and p-value\n",
        "print(f\"T-statistic: {t_stat:.4f}\")\n",
        "print(f\"P-value: {p_value:.4f}\")\n",
        "\n",
        "# Interpretation based on the p-value\n",
        "if p_value < 0.05:\n",
        "    result = \"Reject the null hypothesis: There is a significant difference in the test scores.\"\n",
        "else:\n",
        "    result = \"Fail to reject the null hypothesis: There is no significant difference in the test scores.\"\n",
        "\n",
        "print(result)\n",
        "\n"
      ],
      "metadata": {
        "colab": {
          "base_uri": "https://localhost:8080/"
        },
        "id": "cZjIqjC2HCro",
        "outputId": "871cd66d-13ea-4277-9a38-1f67c1524894"
      },
      "execution_count": 40,
      "outputs": [
        {
          "output_type": "stream",
          "name": "stdout",
          "text": [
            "T-statistic: -6.1514\n",
            "P-value: 0.0003\n",
            "Reject the null hypothesis: There is a significant difference in the test scores.\n"
          ]
        }
      ]
    },
    {
      "cell_type": "code",
      "source": [],
      "metadata": {
        "id": "vU4k3dyJHEER"
      },
      "execution_count": null,
      "outputs": []
    },
    {
      "cell_type": "markdown",
      "source": [
        "Q12. A researcher wants to know if there are any significant differences in the average daily sales of three\n",
        "retail stores: Store A, Store B, and Store C. They randomly select 30 days and record the sales for each store\n",
        "on those days. Conduct a repeated measures ANOVA using Python to determine if there are any\n",
        "\n",
        "significant differences in sales between the three stores. If the results are significant, follow up with a post-\n",
        "hoc test to determine which store(s) differ significantly from each other."
      ],
      "metadata": {
        "id": "rTFs5KhYHGHj"
      }
    },
    {
      "cell_type": "code",
      "source": [
        "import numpy as np\n",
        "import pandas as pd\n",
        "from scipy import stats\n",
        "from statsmodels.stats.anova import AnovaRM\n",
        "\n",
        "np.random.seed(0)\n",
        "store_a_sales = np.random.normal(loc=200, scale=20, size=30)\n",
        "store_b_sales = np.random.normal(loc=220, scale=25, size=30)\n",
        "store_c_sales = np.random.normal(loc=210, scale=15, size=30)\n",
        "\n",
        "data = pd.DataFrame({\n",
        "    'Day': np.tile(np.arange(1, 31), 3),\n",
        "    'Store': np.repeat(['Store A', 'Store B', 'Store C'], 30),\n",
        "    'Sales': np.concatenate([store_a_sales, store_b_sales, store_c_sales])\n",
        "})\n",
        "\n",
        "anova = AnovaRM(data, 'Sales', 'Day', within=['Store'])\n",
        "anova_result = anova.fit()\n",
        "print(anova_result)\n",
        "\n",
        "from statsmodels.stats.multicomp import pairwise_tukeyhsd\n",
        "tukey_result = pairwise_tukeyhsd(endog=data['Sales'], groups=data['Store'], alpha=0.05)\n",
        "print(tukey_result)\n"
      ],
      "metadata": {
        "colab": {
          "base_uri": "https://localhost:8080/"
        },
        "id": "hX_K0pS4HGYY",
        "outputId": "20a64463-6e13-4f0a-fcd0-6a5b39fbb261"
      },
      "execution_count": 41,
      "outputs": [
        {
          "output_type": "stream",
          "name": "stdout",
          "text": [
            "               Anova\n",
            "===================================\n",
            "      F Value Num DF  Den DF Pr > F\n",
            "-----------------------------------\n",
            "Store  0.4467 2.0000 58.0000 0.6419\n",
            "===================================\n",
            "\n",
            "  Multiple Comparison of Means - Tukey HSD, FWER=0.05  \n",
            "=======================================================\n",
            " group1  group2 meandiff p-adj   lower    upper  reject\n",
            "-------------------------------------------------------\n",
            "Store A Store B   3.9048 0.7338  -8.4916 16.3012  False\n",
            "Store A Store C  -0.8629 0.9849 -13.2593 11.5334  False\n",
            "Store B Store C  -4.7678  0.631 -17.1642  7.6286  False\n",
            "-------------------------------------------------------\n"
          ]
        }
      ]
    },
    {
      "cell_type": "code",
      "source": [],
      "metadata": {
        "id": "8mpRUNvrHRMp"
      },
      "execution_count": null,
      "outputs": []
    }
  ]
}