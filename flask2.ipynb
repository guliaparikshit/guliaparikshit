{
  "nbformat": 4,
  "nbformat_minor": 0,
  "metadata": {
    "colab": {
      "provenance": []
    },
    "kernelspec": {
      "name": "python3",
      "display_name": "Python 3"
    },
    "language_info": {
      "name": "python"
    }
  },
  "cells": [
    {
      "cell_type": "code",
      "source": [],
      "metadata": {
        "id": "YiXZVg5wiMQ0"
      },
      "execution_count": null,
      "outputs": []
    },
    {
      "cell_type": "markdown",
      "source": [
        "Q1. Explain GET and POST methods."
      ],
      "metadata": {
        "id": "LDx0bJB7iRik"
      }
    },
    {
      "cell_type": "code",
      "source": [],
      "metadata": {
        "id": "DqECktgRiRxo"
      },
      "execution_count": null,
      "outputs": []
    },
    {
      "cell_type": "markdown",
      "source": [
        "GET:\n",
        "\n",
        "The GET method is used to request data from a specified resource.\n",
        "\n",
        "It is used to retrieve information from the server, and data is sent as URL parameters.\n",
        "\n",
        "It is idempotent, meaning multiple requests will not change the server's state.\n",
        "\n",
        "Example: Accessing a webpage or submitting a form without sensitive data.\n",
        "\n",
        "\n",
        "POST:\n",
        "\n",
        "The POST method sends data to the server to create or update a resource.\n",
        "\n",
        "Data is sent in the body of the request, not in the URL.\n",
        "\n",
        "It is not idempotent, meaning repeated requests may cause different effects (e.g., submitting a form multiple times creates multiple entries)."
      ],
      "metadata": {
        "id": "tJD67aODiYfy"
      }
    },
    {
      "cell_type": "code",
      "source": [],
      "metadata": {
        "id": "vjgXsKlEidIW"
      },
      "execution_count": null,
      "outputs": []
    },
    {
      "cell_type": "markdown",
      "source": [
        "Q2. Why is request used in Flask?"
      ],
      "metadata": {
        "id": "efErZ5inifDw"
      }
    },
    {
      "cell_type": "code",
      "source": [],
      "metadata": {
        "id": "0sWFp5UIifUb"
      },
      "execution_count": null,
      "outputs": []
    },
    {
      "cell_type": "markdown",
      "source": [
        "In Flask, the request object is used to handle incoming HTTP requests.\n",
        " It allows access to the data sent by the client, such as:\n",
        "\n",
        "Form data: Data sent via POST.\n",
        "\n",
        "URL parameters: Data sent in the query string (e.g., ?name=John).\n",
        "\n",
        "JSON data: If the client sends JSON, request.get_json() helps retrieve it."
      ],
      "metadata": {
        "id": "lYw5hs4Hihn0"
      }
    },
    {
      "cell_type": "code",
      "source": [],
      "metadata": {
        "id": "ymJilIG5ijFW"
      },
      "execution_count": null,
      "outputs": []
    },
    {
      "cell_type": "markdown",
      "source": [
        "Q3. Why is redirect() used in Flask?"
      ],
      "metadata": {
        "id": "SfJ5R1rVimMB"
      }
    },
    {
      "cell_type": "code",
      "source": [],
      "metadata": {
        "id": "PKwMcKZhimi7"
      },
      "execution_count": null,
      "outputs": []
    },
    {
      "cell_type": "markdown",
      "source": [
        "The redirect() function is used in Flask to redirect the user to another URL. It's commonly used after form submissions or actions that modify server-side data.\n",
        "\n",
        "Common use: Redirecting after a POST request to avoid resubmitting data when refreshing the page (post-redirect-get pattern).\n"
      ],
      "metadata": {
        "id": "cH2JIPBdipwZ"
      }
    },
    {
      "cell_type": "code",
      "source": [],
      "metadata": {
        "id": "Y_2tHg8FiqD6"
      },
      "execution_count": null,
      "outputs": []
    },
    {
      "cell_type": "markdown",
      "source": [
        "Q4. What are templates in Flask? Why is the render_template() function used?"
      ],
      "metadata": {
        "id": "5kpXTOElisI9"
      }
    },
    {
      "cell_type": "code",
      "source": [],
      "metadata": {
        "id": "XGI1ZxycisYy"
      },
      "execution_count": null,
      "outputs": []
    },
    {
      "cell_type": "markdown",
      "source": [
        "Templates in Flask are HTML files with embedded Python code. Flask uses the Jinja2 templating engine to render dynamic HTML by injecting variables, loops, conditionals, and more.\n",
        "\n",
        "render_template(): This function is used to render an HTML template, passing any variables needed by the template."
      ],
      "metadata": {
        "id": "9BsrPV0NiusR"
      }
    },
    {
      "cell_type": "code",
      "source": [],
      "metadata": {
        "id": "2cJlQJpNivD1"
      },
      "execution_count": null,
      "outputs": []
    },
    {
      "cell_type": "markdown",
      "source": [
        "Q5. Create a simple API. Use Postman to test it. Attach the screenshot of the output in the Jupyter Notebook."
      ],
      "metadata": {
        "id": "TbcYT2nRixVl"
      }
    },
    {
      "cell_type": "code",
      "source": [
        "from flask import Flask, jsonify\n",
        "from flask_ngrok import run_with_ngrok\n",
        "\n",
        "# Create Flask app\n",
        "app = Flask(__name__)\n",
        "run_with_ngrok(app)  # Starts ngrok when the app runs\n",
        "\n",
        "@app.route(\"/api/hello\", methods=[\"GET\"])\n",
        "def hello():\n",
        "    return jsonify({\"message\": \"Hello, World!\"})\n",
        "\n",
        "if __name__ == \"__main__\":\n",
        "    app.run()\n"
      ],
      "metadata": {
        "id": "GjQZq66HjoWr"
      },
      "execution_count": null,
      "outputs": []
    },
    {
      "cell_type": "markdown",
      "source": [
        "{\n",
        "  \"message\": \"Hello, World!\"\n",
        "}\n"
      ],
      "metadata": {
        "id": "TpJTzFF4kPvr"
      }
    },
    {
      "cell_type": "code",
      "source": [],
      "metadata": {
        "id": "nSPAOKhlkTu3"
      },
      "execution_count": null,
      "outputs": []
    }
  ]
}