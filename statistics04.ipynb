{
  "nbformat": 4,
  "nbformat_minor": 0,
  "metadata": {
    "colab": {
      "provenance": []
    },
    "kernelspec": {
      "name": "python3",
      "display_name": "Python 3"
    },
    "language_info": {
      "name": "python"
    }
  },
  "cells": [
    {
      "cell_type": "code",
      "source": [],
      "metadata": {
        "id": "FCq2xu6Z2pSR"
      },
      "execution_count": null,
      "outputs": []
    },
    {
      "cell_type": "markdown",
      "source": [
        "Q1: What are the Probability Mass Function (PMF) and Probability Density Function (PDF)? Explain with\n",
        "an example."
      ],
      "metadata": {
        "id": "my4lnVoO4Qp2"
      }
    },
    {
      "cell_type": "code",
      "source": [],
      "metadata": {
        "id": "IRs3UUc94RCD"
      },
      "execution_count": null,
      "outputs": []
    },
    {
      "cell_type": "markdown",
      "source": [
        "Probability Mass Function (PMF): A PMF is used for discrete random variables and gives the probability that a discrete random variable is exactly equal to a specific value. The sum of the PMF over all possible values equals 1.\n",
        "\n",
        "Example: In a fair coin toss, the PMF for heads (H) and tails (T) is\n",
        "𝑃\n",
        "(\n",
        "𝐻\n",
        ")\n",
        "=\n",
        "0.5\n",
        "P(H)=0.5 and\n",
        "𝑃\n",
        "(\n",
        "𝑇\n",
        ")\n",
        "=\n",
        "0.5\n",
        "P(T)=0.5.\n",
        "\n",
        "Probability Density Function (PDF): A PDF is used for continuous random variables and describes the relative likelihood of the variable taking on a value within a specific range. The total area under the PDF curve is 1.\n",
        "\n",
        "Example: For a standard normal distribution with mean = 0 and standard deviation = 1, the PDF gives the likelihood of different values of a random variable."
      ],
      "metadata": {
        "id": "A5bLtoMU4T6O"
      }
    },
    {
      "cell_type": "code",
      "source": [],
      "metadata": {
        "id": "h6O1UExx4WMw"
      },
      "execution_count": null,
      "outputs": []
    },
    {
      "cell_type": "markdown",
      "source": [
        "Q2: What is Cumulative Density Function (CDF)? Explain with an example. Why CDF is used?"
      ],
      "metadata": {
        "id": "xPLz2-Td4aCV"
      }
    },
    {
      "cell_type": "code",
      "source": [],
      "metadata": {
        "id": "hcnLCBUl4aY6"
      },
      "execution_count": null,
      "outputs": []
    },
    {
      "cell_type": "markdown",
      "source": [
        "Cumulative Density Function (CDF): The CDF is the probability that a random variable\n",
        "𝑋\n",
        "X will take a value less than or equal to\n",
        "𝑥\n",
        "x. It gives the cumulative probability up to a certain point, which is the integral of the PDF.\n",
        "Example: In a normal distribution, the CDF at\n",
        "𝑥\n",
        "=\n",
        "1\n",
        "x=1 gives the probability that the random variable is less than or equal to 1.\n",
        "\n",
        "Why CDF is used: CDF is useful for calculating the probability of the variable falling within a certain range, and it helps to determine percentiles or quantiles."
      ],
      "metadata": {
        "id": "Dv0btrti4d8J"
      }
    },
    {
      "cell_type": "code",
      "source": [],
      "metadata": {
        "id": "lyqBfQPi4eUS"
      },
      "execution_count": null,
      "outputs": []
    },
    {
      "cell_type": "markdown",
      "source": [
        "Q3: What are some examples of situations where the normal distribution might be used as a model?\n",
        "Explain how the parameters of the normal distribution relate to the shape of the distribution."
      ],
      "metadata": {
        "id": "7Y4bLXto4g7L"
      }
    },
    {
      "cell_type": "code",
      "source": [],
      "metadata": {
        "id": "bCfNmhsr4hVj"
      },
      "execution_count": null,
      "outputs": []
    },
    {
      "cell_type": "markdown",
      "source": [
        "Examples of Normal Distribution:\n",
        "\n",
        "Height of individuals: Human heights often follow a normal distribution, where most people are close to the average height and fewer people are very short or very tall.\n",
        "\n",
        "Test scores: If a large number of students take the same test, their scores typically follow a normal distribution.\n",
        "\n",
        "Measurement errors: Random errors in physical measurements often follow a normal distribution due to the central limit theorem."
      ],
      "metadata": {
        "id": "TiuhMJLv4lVe"
      }
    },
    {
      "cell_type": "code",
      "source": [],
      "metadata": {
        "id": "kgBsXaes4ndY"
      },
      "execution_count": null,
      "outputs": []
    },
    {
      "cell_type": "markdown",
      "source": [
        "Q4: Explain the importance of Normal Distribution. Give a few real-life examples of Normal\n",
        "Distribution."
      ],
      "metadata": {
        "id": "e9K9yOx44pT8"
      }
    },
    {
      "cell_type": "code",
      "source": [],
      "metadata": {
        "id": "zP8f0ET14p0D"
      },
      "execution_count": null,
      "outputs": []
    },
    {
      "cell_type": "markdown",
      "source": [
        "Importance of Normal Distribution:\n",
        "\n",
        "The normal distribution is important because many natural phenomena and measurement errors follow a normal distribution.\n",
        "\n",
        "It’s a foundation for many statistical techniques and is used in hypothesis testing, confidence intervals, and regression analysis.\n",
        "\n",
        "\n",
        "Real-life Examples:\n",
        "\n",
        "IQ scores: IQ scores are often normally distributed with a mean of 100 and standard deviation of 15.\n",
        "\n",
        "Blood pressure readings: A large population’s blood pressure readings often follow a normal distribution."
      ],
      "metadata": {
        "id": "Ls-Z7eCq4tuH"
      }
    },
    {
      "cell_type": "code",
      "source": [],
      "metadata": {
        "id": "CYks41z94wA7"
      },
      "execution_count": null,
      "outputs": []
    },
    {
      "cell_type": "markdown",
      "source": [
        "Q5: What is Bernaulli Distribution? Give an Example. What is the difference between Bernoulli\n",
        "Distribution and Binomial Distribution?"
      ],
      "metadata": {
        "id": "S1DeI5In4zbO"
      }
    },
    {
      "cell_type": "code",
      "source": [],
      "metadata": {
        "id": "cFxmOoaV4zz7"
      },
      "execution_count": null,
      "outputs": []
    },
    {
      "cell_type": "markdown",
      "source": [
        "Bernoulli Distribution: It describes the outcome of a single trial with two possible outcomes: success (1) or failure (0). The distribution is characterized by one parameter\n",
        "𝑝\n",
        "p, which is the probability of success.\n",
        "\n",
        "Example: Flipping a fair coin once. The probability of getting heads (success) is 0.5, and the probability of tails (failure) is 0.5.\n",
        "Difference between Bernoulli and Binomial Distribution:\n",
        "\n",
        "Bernoulli: Describes a single trial.\n",
        "Binomial: Describes multiple independent trials of a Bernoulli experiment, with a fixed number of trials (n) and a constant probability of success (p) for each trial."
      ],
      "metadata": {
        "id": "rc0ettAs424p"
      }
    },
    {
      "cell_type": "code",
      "source": [],
      "metadata": {
        "id": "O16-mmhT43Y9"
      },
      "execution_count": null,
      "outputs": []
    },
    {
      "cell_type": "markdown",
      "source": [
        "Q6. Consider a dataset with a mean of 50 and a standard deviation of 10. If we assume that the dataset\n",
        "is normally distributed, what is the probability that a randomly selected observation will be greater\n",
        "than 60? Use the appropriate formula and show your calculations."
      ],
      "metadata": {
        "id": "eqPwuCu245kW"
      }
    },
    {
      "cell_type": "code",
      "source": [],
      "metadata": {
        "id": "NEKIl2r_46Ac"
      },
      "execution_count": null,
      "outputs": []
    },
    {
      "cell_type": "markdown",
      "source": [
        "Q7: Explain uniform Distribution with an example."
      ],
      "metadata": {
        "id": "cWObqp47481V"
      }
    },
    {
      "cell_type": "code",
      "source": [],
      "metadata": {
        "id": "0yUOz2TB49Pe"
      },
      "execution_count": null,
      "outputs": []
    },
    {
      "cell_type": "markdown",
      "source": [
        "Uniform Distribution: A uniform distribution is a probability distribution where all outcomes are equally likely. It can be either discrete or continuous.\n",
        "Example: A fair six-sided die has a uniform distribution. Each number from 1 to 6 has an equal probability of 1/6.\n",
        "\n",
        "Continuous Uniform Distribution Example: The time it takes to complete a task, where every time between 0 and 10 minutes is equally likely to occur."
      ],
      "metadata": {
        "id": "rHwf7IBD4_JE"
      }
    },
    {
      "cell_type": "code",
      "source": [],
      "metadata": {
        "id": "b9J8AAGF4_nx"
      },
      "execution_count": null,
      "outputs": []
    },
    {
      "cell_type": "markdown",
      "source": [
        "Q8: What is the z score? State the importance of the z score."
      ],
      "metadata": {
        "id": "MRI00WQW5BbP"
      }
    },
    {
      "cell_type": "code",
      "source": [],
      "metadata": {
        "id": "yIKEaCWX5BzH"
      },
      "execution_count": null,
      "outputs": []
    },
    {
      "cell_type": "markdown",
      "source": [
        "Z-score: The Z-score is a measure of how many standard deviations a data point is from the mean.\n",
        "\n",
        "Importance of the Z-score:\n",
        "\n",
        "It standardizes data, allowing comparison of values from different distributions.\n",
        "It helps identify outliers: a Z-score greater than 3 or less than -3 typically indicates an outlier."
      ],
      "metadata": {
        "id": "8YDXk9UV5Exs"
      }
    },
    {
      "cell_type": "code",
      "source": [],
      "metadata": {
        "id": "2mzrmCIg5FJk"
      },
      "execution_count": null,
      "outputs": []
    },
    {
      "cell_type": "markdown",
      "source": [
        "Q9: What is Central Limit Theorem? State the significance of the Central Limit Theorem."
      ],
      "metadata": {
        "id": "5moj6S4e5PTx"
      }
    },
    {
      "cell_type": "code",
      "source": [],
      "metadata": {
        "id": "i4JR63yV5PtI"
      },
      "execution_count": null,
      "outputs": []
    },
    {
      "cell_type": "markdown",
      "source": [
        "Central Limit Theorem (CLT): The CLT states that the sampling distribution of the sample mean will be approximately normal, regardless of the distribution of the population, provided the sample size is large enough (usually\n",
        "𝑛\n",
        "≥\n",
        "30\n",
        "n≥30).\n",
        "\n",
        "Significance of CLT:\n",
        "\n",
        "It allows us to make inferences about population parameters even when the population distribution is not normal.\n",
        "It is the foundation for many statistical tests and confidence intervals.\n"
      ],
      "metadata": {
        "id": "_D94SeBK5Ro-"
      }
    },
    {
      "cell_type": "code",
      "source": [],
      "metadata": {
        "id": "XGCAntkv5R71"
      },
      "execution_count": null,
      "outputs": []
    },
    {
      "cell_type": "markdown",
      "source": [
        "Q10: State the assumptions of the Central Limit Theorem."
      ],
      "metadata": {
        "id": "57l22D2p5T34"
      }
    },
    {
      "cell_type": "code",
      "source": [],
      "metadata": {
        "id": "SqasIPa75UPJ"
      },
      "execution_count": null,
      "outputs": []
    },
    {
      "cell_type": "markdown",
      "source": [
        "Random Sampling: The samples must be randomly selected from the population.\n",
        "\n",
        "Independence: The sampled observations must be independent of each other.\n",
        "\n",
        "Sample Size: The sample size should be large enough (typically\n",
        "𝑛\n",
        "≥\n",
        "30\n",
        "n≥30) for the approximation to hold true.\n",
        "\n",
        "Finite Variance: The population should have finite variance."
      ],
      "metadata": {
        "id": "EFw39TQW5Wg8"
      }
    },
    {
      "cell_type": "code",
      "source": [],
      "metadata": {
        "id": "HUr_Ba925W5e"
      },
      "execution_count": null,
      "outputs": []
    }
  ]
}