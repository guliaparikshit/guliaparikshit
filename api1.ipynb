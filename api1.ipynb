{
  "nbformat": 4,
  "nbformat_minor": 0,
  "metadata": {
    "colab": {
      "provenance": []
    },
    "kernelspec": {
      "name": "python3",
      "display_name": "Python 3"
    },
    "language_info": {
      "name": "python"
    }
  },
  "cells": [
    {
      "cell_type": "code",
      "source": [],
      "metadata": {
        "id": "JRtkiNVodzT5"
      },
      "execution_count": null,
      "outputs": []
    },
    {
      "cell_type": "markdown",
      "source": [
        "Q1. What is an API? Give an example, where an API is used in real life."
      ],
      "metadata": {
        "id": "7RV2_DU6gGLu"
      }
    },
    {
      "cell_type": "code",
      "source": [],
      "metadata": {
        "id": "EjsC998wgGp5"
      },
      "execution_count": null,
      "outputs": []
    },
    {
      "cell_type": "markdown",
      "source": [
        "An API (Application Programming Interface) is a set of rules that allows one software application to interact with another.\n",
        "\n",
        "Example:\n",
        "\n",
        "A Weather API can be used by a mobile app to get current weather data from a service like OpenWeatherMap.\n"
      ],
      "metadata": {
        "id": "T2WMRB73gJEk"
      }
    },
    {
      "cell_type": "code",
      "source": [],
      "metadata": {
        "id": "_W67OhQjgJhy"
      },
      "execution_count": null,
      "outputs": []
    },
    {
      "cell_type": "markdown",
      "source": [
        "Q2. Give advantages and disadvantages of using API."
      ],
      "metadata": {
        "id": "eGIhi0tVgLT-"
      }
    },
    {
      "cell_type": "code",
      "source": [],
      "metadata": {
        "id": "PsUW_ULUgLtH"
      },
      "execution_count": null,
      "outputs": []
    },
    {
      "cell_type": "markdown",
      "source": [
        "Advantages:\n",
        "\n",
        "Reusability: Avoids duplicating code.\n",
        "\n",
        "Scalability: Easy to scale services.\n",
        "\n",
        "Interoperability: Allows apps to communicate across different platforms.\n",
        "\n",
        "\n",
        "Disadvantages:\n",
        "\n",
        "Dependency: Reliance on third-party services.\n",
        "\n",
        "Limitations: Rate limits or access restrictions.\n",
        "\n",
        "Security Risks: Vulnerabilities in poorly designed APIs."
      ],
      "metadata": {
        "id": "bjCkeeiLgN-D"
      }
    },
    {
      "cell_type": "code",
      "source": [],
      "metadata": {
        "id": "K5P0bCR5gQrc"
      },
      "execution_count": null,
      "outputs": []
    },
    {
      "cell_type": "markdown",
      "source": [
        "Q3. What is a Web API? Differentiate between API and Web API."
      ],
      "metadata": {
        "id": "ZN94UXq1gSyy"
      }
    },
    {
      "cell_type": "code",
      "source": [],
      "metadata": {
        "id": "aPmlNZUHgTKE"
      },
      "execution_count": null,
      "outputs": []
    },
    {
      "cell_type": "markdown",
      "source": [
        "A Web API is an API designed to be accessed over the internet using HTTP.\n",
        "\n",
        "Difference:\n",
        "\n",
        "API: General term, can be local or web-based.\n",
        "\n",
        "Web API: Specifically designed for web communication (via HTTP)."
      ],
      "metadata": {
        "id": "6k64ViF7gWSf"
      }
    },
    {
      "cell_type": "code",
      "source": [],
      "metadata": {
        "id": "KVHOhjQ6gXzA"
      },
      "execution_count": null,
      "outputs": []
    },
    {
      "cell_type": "markdown",
      "source": [
        "Q4. Explain REST and SOAP Architecture. Mention shortcomings of SOAP."
      ],
      "metadata": {
        "id": "gAZ1t0rGgZ5K"
      }
    },
    {
      "cell_type": "code",
      "source": [],
      "metadata": {
        "id": "SxlSFZdIgaLn"
      },
      "execution_count": null,
      "outputs": []
    },
    {
      "cell_type": "markdown",
      "source": [
        "REST: A lightweight, stateless architecture using HTTP and typically JSON.\n",
        "\n",
        "SOAP: A protocol that uses XML for messaging and supports more features like security and transactions.\n",
        "\n",
        "Shortcomings of SOAP:\n",
        "\n",
        "Complex: Requires XML and has higher overhead.\n",
        "\n",
        "Slower: Less efficient than REST."
      ],
      "metadata": {
        "id": "cjPbQufkgcB0"
      }
    },
    {
      "cell_type": "code",
      "source": [],
      "metadata": {
        "id": "XZjeP2UcgddT"
      },
      "execution_count": null,
      "outputs": []
    },
    {
      "cell_type": "markdown",
      "source": [
        "Q5. Differentiate between REST and SOAP."
      ],
      "metadata": {
        "id": "ZbjKW6NHgfFU"
      }
    },
    {
      "cell_type": "markdown",
      "source": [
        "Protocol:\n",
        "\n",
        "REST: Uses HTTP or HTTPS.\n",
        "\n",
        "SOAP: Can use multiple protocols like HTTP, SMTP, etc.\n",
        "\n",
        "\n",
        "Data Format:\n",
        "\n",
        "REST: Primarily uses JSON (also supports XML).\n",
        "\n",
        "SOAP: Uses XML exclusively.\n",
        "\n",
        "\n",
        "Security:\n",
        "\n",
        "REST: Uses SSL for security.\n",
        "\n",
        "SOAP: Has built-in security features like WS-Security.\n",
        "\n",
        "\n",
        "Performance:\n",
        "\n",
        "REST: Faster and more lightweight due to the use of simpler data formats (like JSON).\n",
        "\n",
        "SOAP: Slower and heavier because of XML and additional protocol features.\n",
        "\n",
        "\n",
        "State:\n",
        "\n",
        "REST: Stateless (does not maintain session information between requests).\n",
        "\n",
        "SOAP: Can be stateful (supports session handling)."
      ],
      "metadata": {
        "id": "xpc7GktcgtBf"
      }
    },
    {
      "cell_type": "code",
      "source": [],
      "metadata": {
        "id": "4PUoIuAhgq1s"
      },
      "execution_count": null,
      "outputs": []
    }
  ]
}