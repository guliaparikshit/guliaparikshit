{
  "nbformat": 4,
  "nbformat_minor": 0,
  "metadata": {
    "colab": {
      "provenance": []
    },
    "kernelspec": {
      "name": "python3",
      "display_name": "Python 3"
    },
    "language_info": {
      "name": "python"
    }
  },
  "cells": [
    {
      "cell_type": "code",
      "source": [],
      "metadata": {
        "id": "JRtkiNVodzT5"
      },
      "execution_count": null,
      "outputs": []
    },
    {
      "cell_type": "markdown",
      "source": [
        "Q1. What is MongoDB? Explain non-relational databases in short. In which scenarios it is preferred to use\n",
        "MongoDB over SQL databases?"
      ],
      "metadata": {
        "id": "u4QR3dd4d4tv"
      }
    },
    {
      "cell_type": "code",
      "source": [],
      "metadata": {
        "id": "SBf2BD7td49z"
      },
      "execution_count": null,
      "outputs": []
    },
    {
      "cell_type": "markdown",
      "source": [
        "MongoDB is a NoSQL, open-source, document-oriented database. It stores data in flexible, JSON-like format (BSON), allowing it to handle unstructured data easily.\n",
        "\n",
        "Non-relational databases (NoSQL) are designed to handle unstructured or semi-structured data. They do not require a fixed schema and are highly scalable.\n",
        "\n",
        "Scenarios to prefer MongoDB:\n",
        "\n",
        "When data is unstructured or semi-structured.\n",
        "\n",
        "When scalability and high performance are needed for large datasets.\n",
        "\n",
        "For applications with rapidly changing or flexible schema, like content management systems, big data applications, and real-time analytics."
      ],
      "metadata": {
        "id": "GuJ4l-_sd7nF"
      }
    },
    {
      "cell_type": "code",
      "source": [],
      "metadata": {
        "id": "uiF0f6qed_AG"
      },
      "execution_count": null,
      "outputs": []
    },
    {
      "cell_type": "markdown",
      "source": [
        "Q2. State and Explain the features of MongoDB."
      ],
      "metadata": {
        "id": "uWMDLpq_eA4i"
      }
    },
    {
      "cell_type": "code",
      "source": [],
      "metadata": {
        "id": "pQ6A_REseBN8"
      },
      "execution_count": null,
      "outputs": []
    },
    {
      "cell_type": "markdown",
      "source": [
        "Document-Oriented: Stores data as JSON-like documents (BSON), allowing flexibility in data representation.\n",
        "\n",
        "Scalability: Built for horizontal scaling across many servers.\n",
        "\n",
        "High Availability: Supports replica sets, ensuring fault tolerance.\n",
        "\n",
        "Indexing: Provides efficient indexing to optimize query performance.\n",
        "\n",
        "Aggregation Framework: Powerful tools to transform and combine data in various ways.\n",
        "\n",
        "Flexible Schema: Data can have different structures within the same collection."
      ],
      "metadata": {
        "id": "Li1CQF1XeD-S"
      }
    },
    {
      "cell_type": "code",
      "source": [],
      "metadata": {
        "id": "Ffy960QeeGyA"
      },
      "execution_count": null,
      "outputs": []
    },
    {
      "cell_type": "markdown",
      "source": [
        "Q3. Write a code to connect MongoDB to Python. Also, create a database and a collection in MongoDB."
      ],
      "metadata": {
        "id": "BAahK0bMeJCv"
      }
    },
    {
      "cell_type": "code",
      "source": [
        "pip install pymongo\n"
      ],
      "metadata": {
        "colab": {
          "base_uri": "https://localhost:8080/"
        },
        "id": "CnYSm63VeJZD",
        "outputId": "a247fcab-fc49-4d94-f1e6-e325f2b537fa"
      },
      "execution_count": 7,
      "outputs": [
        {
          "output_type": "stream",
          "name": "stdout",
          "text": [
            "Collecting pymongo\n",
            "  Downloading pymongo-4.10.1-cp310-cp310-manylinux_2_17_x86_64.manylinux2014_x86_64.whl.metadata (22 kB)\n",
            "Collecting dnspython<3.0.0,>=1.16.0 (from pymongo)\n",
            "  Downloading dnspython-2.7.0-py3-none-any.whl.metadata (5.8 kB)\n",
            "Downloading pymongo-4.10.1-cp310-cp310-manylinux_2_17_x86_64.manylinux2014_x86_64.whl (1.4 MB)\n",
            "\u001b[2K   \u001b[90m━━━━━━━━━━━━━━━━━━━━━━━━━━━━━━━━━━━━━━━━\u001b[0m \u001b[32m1.4/1.4 MB\u001b[0m \u001b[31m18.0 MB/s\u001b[0m eta \u001b[36m0:00:00\u001b[0m\n",
            "\u001b[?25hDownloading dnspython-2.7.0-py3-none-any.whl (313 kB)\n",
            "\u001b[2K   \u001b[90m━━━━━━━━━━━━━━━━━━━━━━━━━━━━━━━━━━━━━━━━\u001b[0m \u001b[32m313.6/313.6 kB\u001b[0m \u001b[31m19.3 MB/s\u001b[0m eta \u001b[36m0:00:00\u001b[0m\n",
            "\u001b[?25hInstalling collected packages: dnspython, pymongo\n",
            "Successfully installed dnspython-2.7.0 pymongo-4.10.1\n"
          ]
        }
      ]
    },
    {
      "cell_type": "code",
      "source": [
        "from pymongo import MongoClient\n",
        "\n",
        "# Connect to MongoDB\n",
        "client = MongoClient(\"mongodb://localhost:27017/\")\n",
        "\n",
        "# Create or select a database\n",
        "db = client[\"school_db\"]\n",
        "\n",
        "# Create or select a collection\n",
        "collection = db[\"students\"]\n",
        "\n",
        "print(\"Database and collection created successfully!\")\n"
      ],
      "metadata": {
        "colab": {
          "base_uri": "https://localhost:8080/"
        },
        "id": "6E7C3S7NeLdG",
        "outputId": "1c4f40f4-32d0-483a-e51f-3dae8443215f"
      },
      "execution_count": 8,
      "outputs": [
        {
          "output_type": "stream",
          "name": "stdout",
          "text": [
            "Database and collection created successfully!\n"
          ]
        }
      ]
    },
    {
      "cell_type": "code",
      "source": [],
      "metadata": {
        "id": "K--3sJyNeZEq"
      },
      "execution_count": null,
      "outputs": []
    },
    {
      "cell_type": "markdown",
      "source": [
        "Q4. Using the database and the collection created in question number 3, write a code to insert one record,\n",
        "and insert many records. Use the find() and find_one() methods to print the inserted record."
      ],
      "metadata": {
        "id": "E8tsSKA6eb4j"
      }
    },
    {
      "cell_type": "code",
      "source": [
        "# Insert one record\n",
        "student = {\"name\": \"John Doe\", \"age\": 20, \"grade\": \"A\"}\n",
        "collection.insert_one(student)\n",
        "\n",
        "# Insert many records\n",
        "students = [\n",
        "    {\"name\": \"Jane Smith\", \"age\": 22, \"grade\": \"B\"},\n",
        "    {\"name\": \"Emily Davis\", \"age\": 21, \"grade\": \"A\"},\n",
        "    {\"name\": \"Michael Brown\", \"age\": 23, \"grade\": \"C\"}\n",
        "]\n",
        "collection.insert_many(students)\n",
        "\n",
        "# Retrieve and print one record\n",
        "print(\"One record:\")\n",
        "print(collection.find_one({\"name\": \"John Doe\"}))\n",
        "\n",
        "# Retrieve and print all records\n",
        "print(\"All records:\")\n",
        "for student in collection.find():\n",
        "    print(student)\n"
      ],
      "metadata": {
        "id": "_1caFBanefiX"
      },
      "execution_count": null,
      "outputs": []
    },
    {
      "cell_type": "markdown",
      "source": [
        "Q5. Explain how you can use the find() method to query the MongoDB database. Write a simple code to\n",
        "demonstrate this."
      ],
      "metadata": {
        "id": "WvJnxgm9fF-w"
      }
    },
    {
      "cell_type": "code",
      "source": [
        "# Find all students who have grade 'A'\n",
        "query = {\"grade\": \"A\"}\n",
        "for student in collection.find(query):\n",
        "    print(student)\n"
      ],
      "metadata": {
        "id": "-BXZSOKcfNAz"
      },
      "execution_count": null,
      "outputs": []
    },
    {
      "cell_type": "markdown",
      "source": [
        "Q6. Explain the sort() method. Give an example to demonstrate sorting in MongoDB."
      ],
      "metadata": {
        "id": "89CenNwRfQUn"
      }
    },
    {
      "cell_type": "markdown",
      "source": [
        "The sort() method is used to sort the query results by one or more fields in ascending or descending order."
      ],
      "metadata": {
        "id": "82YC0ovYfWNK"
      }
    },
    {
      "cell_type": "code",
      "source": [
        "# Sort students by age in ascending order\n",
        "for student in collection.find().sort(\"age\", 1):\n",
        "    print(student)\n"
      ],
      "metadata": {
        "id": "ygU6Ww6cfWql"
      },
      "execution_count": null,
      "outputs": []
    },
    {
      "cell_type": "markdown",
      "source": [
        "Q7. Explain why delete_one(), delete_many(), and drop() is used."
      ],
      "metadata": {
        "id": "kLk05A0Xfa38"
      }
    },
    {
      "cell_type": "code",
      "source": [],
      "metadata": {
        "id": "QCSHpDLmfcgA"
      },
      "execution_count": null,
      "outputs": []
    },
    {
      "cell_type": "markdown",
      "source": [
        "delete_one(): Deletes the first document that matches the query.\n",
        "\n",
        "Example: collection.delete_one({\"name\": \"John Doe\"})\n",
        "\n",
        "delete_many(): Deletes all documents that match the query.\n",
        "\n",
        "Example: collection.delete_many({\"grade\": \"C\"})\n",
        "\n",
        "drop(): Deletes the entire collection from the database.\n",
        "\n",
        "Example: collection.drop()"
      ],
      "metadata": {
        "id": "kj-YnqTVfe7g"
      }
    },
    {
      "cell_type": "code",
      "source": [],
      "metadata": {
        "id": "-4rDo8MZfhI-"
      },
      "execution_count": null,
      "outputs": []
    }
  ]
}