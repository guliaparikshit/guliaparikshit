{
  "nbformat": 4,
  "nbformat_minor": 0,
  "metadata": {
    "colab": {
      "provenance": []
    },
    "kernelspec": {
      "name": "python3",
      "display_name": "Python 3"
    },
    "language_info": {
      "name": "python"
    }
  },
  "cells": [
    {
      "cell_type": "code",
      "source": [],
      "metadata": {
        "id": "toaYtDm5DOw-"
      },
      "execution_count": null,
      "outputs": []
    },
    {
      "cell_type": "markdown",
      "source": [
        "Q1. Calculate the 95% confidence interval for a sample of data with a mean of 50 and a standard deviation\n",
        "of 5 using Python. Interpret the results."
      ],
      "metadata": {
        "id": "ftM7SiFpEKWd"
      }
    },
    {
      "cell_type": "code",
      "source": [
        "# Given data\n",
        "sample_mean = 50\n",
        "sample_std = 5\n",
        "n = 30  # assuming sample size\n",
        "confidence_level = 0.95\n",
        "\n",
        "# Standard error\n",
        "se = sample_std / np.sqrt(n)\n",
        "\n",
        "# Z-score for 95% confidence interval\n",
        "z_score = stats.norm.ppf(1 - (1 - confidence_level) / 2)\n",
        "\n",
        "# Margin of error\n",
        "margin_of_error = z_score * se\n",
        "\n",
        "# Confidence interval\n",
        "lower_bound = sample_mean - margin_of_error\n",
        "upper_bound = sample_mean + margin_of_error\n",
        "\n",
        "print(f\"95% Confidence Interval: ({lower_bound:.2f}, {upper_bound:.2f})\")\n"
      ],
      "metadata": {
        "colab": {
          "base_uri": "https://localhost:8080/"
        },
        "id": "km_8L3AmEKqu",
        "outputId": "973adb73-325a-44be-cb44-6f1adfb713f2"
      },
      "execution_count": 25,
      "outputs": [
        {
          "output_type": "stream",
          "name": "stdout",
          "text": [
            "95% Confidence Interval: (48.21, 51.79)\n"
          ]
        }
      ]
    },
    {
      "cell_type": "code",
      "source": [],
      "metadata": {
        "id": "7PtECvV-EL_X"
      },
      "execution_count": null,
      "outputs": []
    },
    {
      "cell_type": "markdown",
      "source": [
        "Q2. Conduct a chi-square goodness of fit test to determine if the distribution of colors of M&Ms in a bag\n",
        "matches the expected distribution of 20% blue, 20% orange, 20% green, 10% yellow, 10% red, and 20%\n",
        "brown. Use Python to perform the test with a significance level of 0.05."
      ],
      "metadata": {
        "id": "lT7-jNFQEOvC"
      }
    },
    {
      "cell_type": "code",
      "source": [
        "# Given data\n",
        "observed = np.array([50, 60, 70, 40, 30, 50])  # Example observed counts\n",
        "expected_percentage = np.array([0.20, 0.20, 0.20, 0.10, 0.10, 0.20])\n",
        "total_mms = np.sum(observed)  # Total number of M&Ms\n",
        "\n",
        "# Calculate expected frequencies\n",
        "expected = expected_percentage * total_mms\n",
        "\n",
        "# Perform chi-square test\n",
        "chi2_stat, p_value = stats.chisquare(observed, expected)\n",
        "\n",
        "# Decision rule\n",
        "if p_value < 0.05:\n",
        "    result = \"Reject the null hypothesis\"\n",
        "else:\n",
        "    result = \"Fail to reject the null hypothesis\"\n",
        "\n",
        "print(f\"Chi-square statistic: {chi2_stat:.4f}, p-value: {p_value:.4f}\")\n",
        "print(result)\n"
      ],
      "metadata": {
        "colab": {
          "base_uri": "https://localhost:8080/"
        },
        "id": "PYrUaF2cEPCd",
        "outputId": "c0e80291-476c-431a-ae89-59c5464e2e4a"
      },
      "execution_count": 26,
      "outputs": [
        {
          "output_type": "stream",
          "name": "stdout",
          "text": [
            "Chi-square statistic: 8.3333, p-value: 0.1388\n",
            "Fail to reject the null hypothesis\n"
          ]
        }
      ]
    },
    {
      "cell_type": "code",
      "source": [],
      "metadata": {
        "id": "cU0v3g7zEQo_"
      },
      "execution_count": null,
      "outputs": []
    },
    {
      "cell_type": "markdown",
      "source": [
        "Q3. Use Python to calculate the chi-square statistic and p-value for a contingency table with the following\n",
        "data:"
      ],
      "metadata": {
        "id": "XmBYunWAEStf"
      }
    },
    {
      "cell_type": "code",
      "source": [
        "import numpy as np\n",
        "import scipy.stats as stats\n",
        "\n",
        "# Given data for the contingency table\n",
        "observed = np.array([[20, 15],\n",
        "                     [10, 25],\n",
        "                     [15, 20]])\n",
        "\n",
        "# Perform the Chi-Square test of independence\n",
        "chi2_stat, p_value, dof, expected = stats.chi2_contingency(observed)\n",
        "\n",
        "# Output the results\n",
        "print(f\"Chi-square Statistic: {chi2_stat:.4f}\")\n",
        "print(f\"p-value: {p_value:.4f}\")\n",
        "print(f\"Degrees of Freedom: {dof}\")\n",
        "print(f\"Expected Frequencies:\\n{expected}\")\n"
      ],
      "metadata": {
        "colab": {
          "base_uri": "https://localhost:8080/"
        },
        "id": "h6Eh5LLDETDG",
        "outputId": "99690384-0912-4eff-962d-a582be88c704"
      },
      "execution_count": 27,
      "outputs": [
        {
          "output_type": "stream",
          "name": "stdout",
          "text": [
            "Chi-square Statistic: 5.8333\n",
            "p-value: 0.0541\n",
            "Degrees of Freedom: 2\n",
            "Expected Frequencies:\n",
            "[[15. 20.]\n",
            " [15. 20.]\n",
            " [15. 20.]]\n"
          ]
        }
      ]
    },
    {
      "cell_type": "code",
      "source": [],
      "metadata": {
        "id": "Cy-N9RorEWHD"
      },
      "execution_count": null,
      "outputs": []
    },
    {
      "cell_type": "markdown",
      "source": [
        "Q4. A study of the prevalence of smoking in a population of 500 individuals found that 60 individuals\n",
        "smoked. Use Python to calculate the 95% confidence interval for the true proportion of individuals in the\n",
        "population who smoke."
      ],
      "metadata": {
        "id": "VyT_tjdZEYsq"
      }
    },
    {
      "cell_type": "code",
      "source": [
        "# Given data\n",
        "sample_size = 500\n",
        "smokers = 60\n",
        "sample_proportion = smokers / sample_size\n",
        "confidence_level = 0.95\n",
        "\n",
        "# Standard error for proportion\n",
        "se = np.sqrt((sample_proportion * (1 - sample_proportion)) / sample_size)\n",
        "\n",
        "# Z-score for 95% confidence level\n",
        "z_score = stats.norm.ppf(1 - (1 - confidence_level) / 2)\n",
        "\n",
        "# Margin of error\n",
        "margin_of_error = z_score * se\n",
        "\n",
        "# Confidence interval\n",
        "lower_bound = sample_proportion - margin_of_error\n",
        "upper_bound = sample_proportion + margin_of_error\n",
        "\n",
        "print(f\"95% Confidence Interval for the true proportion: ({lower_bound:.4f}, {upper_bound:.4f})\")\n"
      ],
      "metadata": {
        "colab": {
          "base_uri": "https://localhost:8080/"
        },
        "id": "0hI2U8YEEZBc",
        "outputId": "10cc4be8-8261-4056-c65c-276ddf3dc200"
      },
      "execution_count": 28,
      "outputs": [
        {
          "output_type": "stream",
          "name": "stdout",
          "text": [
            "95% Confidence Interval for the true proportion: (0.0915, 0.1485)\n"
          ]
        }
      ]
    },
    {
      "cell_type": "code",
      "source": [],
      "metadata": {
        "id": "Y2CwOBdhEbQN"
      },
      "execution_count": null,
      "outputs": []
    },
    {
      "cell_type": "markdown",
      "source": [
        "Q5. Calculate the 90% confidence interval for a sample of data with a mean of 75 and a standard deviation\n",
        "of 12 using Python. Interpret the results."
      ],
      "metadata": {
        "id": "2r5EBtuvEdZm"
      }
    },
    {
      "cell_type": "code",
      "source": [
        "# Given data\n",
        "sample_mean = 75\n",
        "sample_std = 12\n",
        "n = 30  # assuming sample size\n",
        "confidence_level = 0.90\n",
        "\n",
        "# Standard error\n",
        "se = sample_std / np.sqrt(n)\n",
        "\n",
        "# Z-score for 90% confidence level\n",
        "z_score = stats.norm.ppf(1 - (1 - confidence_level) / 2)\n",
        "\n",
        "# Margin of error\n",
        "margin_of_error = z_score * se\n",
        "\n",
        "# Confidence interval\n",
        "lower_bound = sample_mean - margin_of_error\n",
        "upper_bound = sample_mean + margin_of_error\n",
        "\n",
        "print(f\"90% Confidence Interval: ({lower_bound:.2f}, {upper_bound:.2f})\")\n"
      ],
      "metadata": {
        "colab": {
          "base_uri": "https://localhost:8080/"
        },
        "id": "Ar4YdJBDEdw6",
        "outputId": "dc42cd6f-e1ae-4368-8686-9b35fc89dae5"
      },
      "execution_count": 29,
      "outputs": [
        {
          "output_type": "stream",
          "name": "stdout",
          "text": [
            "90% Confidence Interval: (71.40, 78.60)\n"
          ]
        }
      ]
    },
    {
      "cell_type": "code",
      "source": [],
      "metadata": {
        "id": "__A69VXoEfel"
      },
      "execution_count": null,
      "outputs": []
    },
    {
      "cell_type": "markdown",
      "source": [
        "Q6. Use Python to plot the chi-square distribution with 10 degrees of freedom. Label the axes and shade the\n",
        "area corresponding to a chi-square statistic of 15."
      ],
      "metadata": {
        "id": "sRPfI9O4EhbM"
      }
    },
    {
      "cell_type": "code",
      "source": [
        "# Chi-square distribution with 10 degrees of freedom\n",
        "df = 10\n",
        "x = np.linspace(0, 30, 1000)\n",
        "y = stats.chi2.pdf(x, df)\n",
        "\n",
        "# Plot the chi-square distribution\n",
        "plt.plot(x, y, label=f'Chi-square df={df}')\n",
        "plt.fill_between(x, y, where=(x >= 15), color='skyblue', alpha=0.5, label=\"Area for chi-square > 15\")\n",
        "plt.axvline(x=15, color='red', linestyle='--', label='Chi-square statistic = 15')\n",
        "\n",
        "# Labels and title\n",
        "plt.xlabel('Chi-square Value')\n",
        "plt.ylabel('Density')\n",
        "plt.title('Chi-square Distribution (df=10) with area for statistic > 15')\n",
        "plt.legend()\n",
        "plt.grid(True)\n",
        "plt.show()\n"
      ],
      "metadata": {
        "colab": {
          "base_uri": "https://localhost:8080/",
          "height": 472
        },
        "id": "lunX_bPlEhsC",
        "outputId": "c6d84ebf-1af8-47d5-afe3-022e824be068"
      },
      "execution_count": 30,
      "outputs": [
        {
          "output_type": "display_data",
          "data": {
            "text/plain": [
              "<Figure size 640x480 with 1 Axes>"
            ],
            "image/png": "[encoded data removed]"
          },
          "metadata": {}
        }
      ]
    },
    {
      "cell_type": "code",
      "source": [],
      "metadata": {
        "id": "FOYTwMx3EjRn"
      },
      "execution_count": null,
      "outputs": []
    },
    {
      "cell_type": "markdown",
      "source": [
        "Q7. A random sample of 1000 people was asked if they preferred Coke or Pepsi. Of the sample, 520\n",
        "preferred Coke. Calculate a 99% confidence interval for the true proportion of people in the population who\n",
        "prefer Coke."
      ],
      "metadata": {
        "id": "xjr7A56KEl24"
      }
    },
    {
      "cell_type": "code",
      "source": [
        "# Given data\n",
        "sample_size = 1000\n",
        "preferred_coke = 520\n",
        "sample_proportion = preferred_coke / sample_size\n",
        "confidence_level = 0.99\n",
        "\n",
        "# Standard error for proportion\n",
        "se = np.sqrt((sample_proportion * (1 - sample_proportion)) / sample_size)\n",
        "\n",
        "# Z-score for 99% confidence level\n",
        "z_score = stats.norm.ppf(1 - (1 - confidence_level) / 2)\n",
        "\n",
        "# Margin of error\n",
        "margin_of_error = z_score * se\n",
        "\n",
        "# Confidence interval\n",
        "lower_bound = sample_proportion - margin_of_error\n",
        "upper_bound = sample_proportion + margin_of_error\n",
        "\n",
        "print(f\"99% Confidence Interval for the true proportion: ({lower_bound:.4f}, {upper_bound:.4f})\")\n"
      ],
      "metadata": {
        "colab": {
          "base_uri": "https://localhost:8080/"
        },
        "id": "DRQOAkVwEmIw",
        "outputId": "4fc5748b-a105-4dc2-ea43-d0f3365c20d3"
      },
      "execution_count": 31,
      "outputs": [
        {
          "output_type": "stream",
          "name": "stdout",
          "text": [
            "99% Confidence Interval for the true proportion: (0.4793, 0.5607)\n"
          ]
        }
      ]
    },
    {
      "cell_type": "code",
      "source": [],
      "metadata": {
        "id": "VIIp5z9WEnss"
      },
      "execution_count": null,
      "outputs": []
    },
    {
      "cell_type": "markdown",
      "source": [
        "Q8. A researcher hypothesizes that a coin is biased towards tails. They flip the coin 100 times and observe\n",
        "45 tails. Conduct a chi-square goodness of fit test to determine if the observed frequencies match the\n",
        "expected frequencies of a fair coin. Use a significance level of 0.05."
      ],
      "metadata": {
        "id": "d6pcTJu0Eqf2"
      }
    },
    {
      "cell_type": "code",
      "source": [
        "# Given data\n",
        "observed = np.array([45, 55])  # Observed counts (tails and heads)\n",
        "expected = np.array([50, 50])  # Expected counts (for a fair coin)\n",
        "\n",
        "# Perform chi-square test\n",
        "chi2_stat, p_value = stats.chisquare(observed, expected)\n",
        "\n",
        "# Decision rule\n",
        "if p_value < 0.05:\n",
        "    result = \"Reject the null hypothesis: The coin is biased.\"\n",
        "else:\n",
        "    result = \"Fail to reject the null hypothesis: The coin is fair.\"\n",
        "\n",
        "print(f\"Chi-square statistic: {chi2_stat:.4f}, p-value: {p_value:.4f}\")\n",
        "print(result)\n"
      ],
      "metadata": {
        "colab": {
          "base_uri": "https://localhost:8080/"
        },
        "id": "iCRA7I0HEqyR",
        "outputId": "1d6789a2-0c42-4277-c4fc-69cd2fa847f9"
      },
      "execution_count": 32,
      "outputs": [
        {
          "output_type": "stream",
          "name": "stdout",
          "text": [
            "Chi-square statistic: 1.0000, p-value: 0.3173\n",
            "Fail to reject the null hypothesis: The coin is fair.\n"
          ]
        }
      ]
    },
    {
      "cell_type": "code",
      "source": [],
      "metadata": {
        "id": "H4yWFaVkEtBH"
      },
      "execution_count": null,
      "outputs": []
    },
    {
      "cell_type": "markdown",
      "source": [
        "Q9. A study was conducted to determine if there is an association between smoking status (smoker or\n",
        "non-smoker) and lung cancer diagnosis (yes or no). The results are shown in the contingency table below.\n",
        "Conduct a chi-square test for independence to determine if there is a significant association between\n",
        "smoking status and lung cancer diagnosis."
      ],
      "metadata": {
        "id": "c3DXvWTzFBey"
      }
    },
    {
      "cell_type": "code",
      "source": [
        "import numpy as np\n",
        "import scipy.stats as stats\n",
        "\n",
        "# Given observed data\n",
        "observed = np.array([[60, 140],\n",
        "                     [30, 170]])\n",
        "\n",
        "# Perform the Chi-Square test of independence\n",
        "chi2_stat, p_value, dof, expected = stats.chi2_contingency(observed)\n",
        "\n",
        "# Output the results\n",
        "print(f\"Chi-square Statistic: {chi2_stat:.4f}\")\n",
        "print(f\"p-value: {p_value:.4f}\")\n",
        "print(f\"Degrees of Freedom: {dof}\")\n",
        "print(f\"Expected Frequencies:\\n{expected}\")\n",
        "\n",
        "# Decision rule based on the p-value\n",
        "if p_value < 0.05:\n",
        "    result = \"Reject the null hypothesis: There is an association between smoking status and lung cancer diagnosis.\"\n",
        "else:\n",
        "    result = \"Fail to reject the null hypothesis: There is no association between smoking status and lung cancer diagnosis.\"\n",
        "\n",
        "print(result)\n"
      ],
      "metadata": {
        "colab": {
          "base_uri": "https://localhost:8080/"
        },
        "id": "uBv6-EbnFB4l",
        "outputId": "2b0f0737-46fb-4586-f9ed-0291e32359f6"
      },
      "execution_count": 33,
      "outputs": [
        {
          "output_type": "stream",
          "name": "stdout",
          "text": [
            "Chi-square Statistic: 12.0573\n",
            "p-value: 0.0005\n",
            "Degrees of Freedom: 1\n",
            "Expected Frequencies:\n",
            "[[ 45. 155.]\n",
            " [ 45. 155.]]\n",
            "Reject the null hypothesis: There is an association between smoking status and lung cancer diagnosis.\n"
          ]
        }
      ]
    },
    {
      "cell_type": "code",
      "source": [],
      "metadata": {
        "id": "-KNpXqPgFD4X"
      },
      "execution_count": null,
      "outputs": []
    },
    {
      "cell_type": "markdown",
      "source": [
        "Q10. A study was conducted to determine if the proportion of people who prefer milk chocolate, dark\n",
        "chocolate, or white chocolate is different in the U.S. versus the U.K. A random sample of 500 people from\n",
        "the U.S. and a random sample of 500 people from the U.K. were surveyed. The results are shown in the\n",
        "contingency table below. Conduct a chi-square test for independence to determine if there is a significant\n",
        "association between chocolate preference and country of origin."
      ],
      "metadata": {
        "id": "XQCZCdSOFGqg"
      }
    },
    {
      "cell_type": "code",
      "source": [
        "import numpy as np\n",
        "import scipy.stats as stats\n",
        "\n",
        "# Given observed data for chocolate preference by country\n",
        "observed = np.array([[200, 225],  # Milk Chocolate\n",
        "                     [150, 175],  # Dark Chocolate\n",
        "                     [150, 100]])  # White Chocolate\n",
        "\n",
        "# Perform the Chi-Square test of independence\n",
        "chi2_stat, p_value, dof, expected = stats.chi2_contingency(observed)\n",
        "\n",
        "# Output the results\n",
        "print(f\"Chi-square Statistic: {chi2_stat:.4f}\")\n",
        "print(f\"p-value: {p_value:.4f}\")\n",
        "print(f\"Degrees of Freedom: {dof}\")\n",
        "print(f\"Expected Frequencies:\\n{expected}\")\n",
        "\n",
        "# Decision rule based on the p-value\n",
        "if p_value < 0.01:\n",
        "    result = \"Reject the null hypothesis: There is an association between chocolate preference and country of origin.\"\n",
        "else:\n",
        "    result = \"Fail to reject the null hypothesis: There is no association between chocolate preference and country of origin.\"\n",
        "\n",
        "print(result)\n"
      ],
      "metadata": {
        "colab": {
          "base_uri": "https://localhost:8080/"
        },
        "id": "6YB42-6tFHFD",
        "outputId": "ac084274-188d-4e8b-a780-1774c7a071f6"
      },
      "execution_count": 34,
      "outputs": [
        {
          "output_type": "stream",
          "name": "stdout",
          "text": [
            "Chi-square Statistic: 13.3937\n",
            "p-value: 0.0012\n",
            "Degrees of Freedom: 2\n",
            "Expected Frequencies:\n",
            "[[212.5 212.5]\n",
            " [162.5 162.5]\n",
            " [125.  125. ]]\n",
            "Reject the null hypothesis: There is an association between chocolate preference and country of origin.\n"
          ]
        }
      ]
    },
    {
      "cell_type": "code",
      "source": [],
      "metadata": {
        "id": "gWCwKU7tFQeh"
      },
      "execution_count": null,
      "outputs": []
    },
    {
      "cell_type": "markdown",
      "source": [
        "Q11. A random sample of 30 people was selected from a population with an unknown mean and standard\n",
        "deviation. The sample mean was found to be 72 and the sample standard deviation was found to be 10.\n",
        "Conduct a hypothesis test to determine if the population mean is significantly different from 70. Use a\n",
        "significance level of 0.05."
      ],
      "metadata": {
        "id": "r3ILNPWIFS9Y"
      }
    },
    {
      "cell_type": "code",
      "source": [
        "from scipy import stats\n",
        "\n",
        "# Given data\n",
        "sample_mean = 72\n",
        "population_mean = 70\n",
        "sample_std = 10\n",
        "sample_size = 30\n",
        "\n",
        "# Calculate t-statistic\n",
        "t_stat = (sample_mean - population_mean) / (sample_std / (sample_size ** 0.5))\n",
        "\n",
        "# Calculate degrees of freedom\n",
        "df = sample_size - 1\n",
        "\n",
        "# Calculate p-value for a two-tailed test\n",
        "p_value = 2 * (1 - stats.t.cdf(abs(t_stat), df))\n",
        "\n",
        "# Output the results\n",
        "print(f\"t-statistic: {t_stat:.4f}\")\n",
        "print(f\"p-value: {p_value:.4f}\")\n",
        "\n",
        "# Decision rule based on the p-value\n",
        "if p_value < 0.05:\n",
        "    result = \"Reject the null hypothesis: The population mean is significantly different from 70.\"\n",
        "else:\n",
        "    result = \"Fail to reject the null hypothesis: The population mean is not significantly different from 70.\"\n",
        "\n",
        "print(result)\n"
      ],
      "metadata": {
        "colab": {
          "base_uri": "https://localhost:8080/"
        },
        "id": "BFzwWMwKFTSQ",
        "outputId": "51ad42a8-07ea-4c87-e484-ff9f2e1c30e4"
      },
      "execution_count": 35,
      "outputs": [
        {
          "output_type": "stream",
          "name": "stdout",
          "text": [
            "t-statistic: 1.0954\n",
            "p-value: 0.2823\n",
            "Fail to reject the null hypothesis: The population mean is not significantly different from 70.\n"
          ]
        }
      ]
    },
    {
      "cell_type": "code",
      "source": [],
      "metadata": {
        "id": "Qv4bD9zSFVjU"
      },
      "execution_count": null,
      "outputs": []
    }
  ]
}