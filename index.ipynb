{
 "cells": [
  {
   "cell_type": "markdown",
   "id": "latest-parish",
   "metadata": {},
   "source": [
    "Q1. What is multithreading in python? Why is it used? Name the module used to handle threads in python."
   ]
  },
  {
   "cell_type": "markdown",
   "id": "productive-excuse",
   "metadata": {},
   "source": [
    "Multithreading in Python refers to the concurrent execution of multiple threads (smaller tasks) within a program. It is used to improve performance in scenarios like I/O-bound tasks (e.g., file reading, network requests) by allowing tasks to run concurrently, making better use of CPU resources.\n",
    "\n",
    "The module used to handle threads in Python is the threading module."
   ]
  },
  {
   "cell_type": "code",
   "execution_count": null,
   "id": "opposed-frontier",
   "metadata": {},
   "outputs": [],
   "source": []
  },
  {
   "cell_type": "markdown",
   "id": "decent-championship",
   "metadata": {},
   "source": [
    "Q2. Why threading module used? Write the use of the following functions\n",
    "\n",
    " activeCount()\n",
    " \n",
    " currentThread()\n",
    " \n",
    " enumerate()"
   ]
  },
  {
   "cell_type": "code",
   "execution_count": null,
   "id": "metallic-thickness",
   "metadata": {},
   "outputs": [],
   "source": []
  },
  {
   "cell_type": "markdown",
   "id": "racial-poker",
   "metadata": {},
   "source": [
    "The threading module is used to create and manage multiple threads within a program, enabling concurrent execution. It's particularly useful for I/O-bound tasks like file handling or network requests.\n",
    "\n",
    "activeCount():\n",
    "\n",
    "Returns the number of currently active (alive) threads in the program, including the main thread.\n",
    "\n",
    "currentThread():\n",
    "\n",
    "Returns the current thread object that is executing the code.\n",
    "\n",
    "enumerate():\n",
    "\n",
    "Returns a list of all currently active threads."
   ]
  },
  {
   "cell_type": "code",
   "execution_count": null,
   "id": "unlimited-arctic",
   "metadata": {},
   "outputs": [],
   "source": []
  },
  {
   "cell_type": "markdown",
   "id": "backed-partition",
   "metadata": {},
   "source": [
    "Q3. Explain the following functions\n",
    "\n",
    "run()\n",
    "\n",
    "start()\n",
    "\n",
    "join()\n",
    "\n",
    "isAlive()"
   ]
  },
  {
   "cell_type": "code",
   "execution_count": null,
   "id": "vital-repository",
   "metadata": {},
   "outputs": [],
   "source": []
  },
  {
   "cell_type": "markdown",
   "id": "distant-secret",
   "metadata": {},
   "source": [
    "run(): Defines the code that will be executed by a thread. It is called internally when the thread starts.\n",
    "\n",
    "start(): Starts the thread's execution, invoking the run() method in a new thread.\n",
    "\n",
    "join(): Blocks the calling thread until the thread it is called on finishes executing.\n",
    "\n",
    "isAlive(): Returns True if the thread is still running, otherwise False."
   ]
  },
  {
   "cell_type": "code",
   "execution_count": null,
   "id": "southeast-fundamental",
   "metadata": {},
   "outputs": [],
   "source": []
  },
  {
   "cell_type": "markdown",
   "id": "controlled-wallace",
   "metadata": {},
   "source": [
    "Q4. Write a python program to create two threads. Thread one must print the list of squares and thread\n",
    "two must print the list of cubes."
   ]
  },
  {
   "cell_type": "code",
   "execution_count": 4,
   "id": "considered-animation",
   "metadata": {},
   "outputs": [
    {
     "name": "stdout",
     "output_type": "stream",
     "text": [
      "Squares: [1, 4, 9, 16, 25]\n",
      "Cubes: [1, 8, 27, 64, 125]\n"
     ]
    }
   ],
   "source": [
    "import threading\n",
    "\n",
    "def print_squares():\n",
    "    squares = [x**2 for x in range(1, 6)]\n",
    "    print(f\"Squares: {squares}\")\n",
    "\n",
    "def print_cubes():\n",
    "    cubes = [x**3 for x in range(1, 6)]\n",
    "    print(f\"Cubes: {cubes}\")\n",
    "\n",
    "thread1 = threading.Thread(target=print_squares)\n",
    "thread2 = threading.Thread(target=print_cubes)\n",
    "\n",
    "thread1.start()\n",
    "thread2.start()\n",
    "\n",
    "thread1.join()\n",
    "thread2.join()\n"
   ]
  },
  {
   "cell_type": "code",
   "execution_count": null,
   "id": "thorough-isaac",
   "metadata": {},
   "outputs": [],
   "source": []
  },
  {
   "cell_type": "markdown",
   "id": "further-ancient",
   "metadata": {},
   "source": [
    "Q5. State advantages and disadvantages of multithreading."
   ]
  },
  {
   "cell_type": "code",
   "execution_count": null,
   "id": "pleased-compensation",
   "metadata": {},
   "outputs": [],
   "source": []
  },
  {
   "cell_type": "markdown",
   "id": "vocal-fellow",
   "metadata": {},
   "source": [
    "ADVANTAGES\n",
    "\n",
    "Improved Performance (I/O-bound tasks): Executes tasks concurrently, utilizing idle time efficiently.\n",
    "\n",
    "Better CPU Utilization: Allows parallel execution on multi-core systems for independent tasks.\n",
    "\n",
    "Responsive UIs: Keeps user interfaces responsive while background tasks run.\n",
    "\n",
    "Simplifies Code Structure: Makes concurrent operations easier to manage compared to callbacks.\n",
    "\n",
    "\n",
    "DISADVANTAGES\n",
    "\n",
    "Complexity in Design and Debugging: Hard to write and debug due to race conditions and deadlocks.\n",
    "\n",
    "GIL Limitation (Python): Python's Global Interpreter Lock prevents true parallelism for CPU-bound tasks.\n",
    "\n",
    "Increased Resource Consumption: Threads consume system resources, leading to potential overhead.\n",
    "\n",
    "Synchronization Issues: Proper synchronization is needed to avoid conflicts and performance bottlenecks."
   ]
  },
  {
   "cell_type": "code",
   "execution_count": null,
   "id": "decimal-lindsay",
   "metadata": {},
   "outputs": [],
   "source": []
  },
  {
   "cell_type": "markdown",
   "id": "boxed-soviet",
   "metadata": {},
   "source": [
    "Q6. Explain deadlocks and race conditions."
   ]
  },
  {
   "cell_type": "code",
   "execution_count": null,
   "id": "suburban-correspondence",
   "metadata": {},
   "outputs": [],
   "source": []
  },
  {
   "cell_type": "markdown",
   "id": "ignored-limit",
   "metadata": {},
   "source": [
    "DEADLOCKS\n",
    "\n",
    "Occur when two or more threads are waiting for each other to release resources, causing them to be stuck forever.\n",
    "\n",
    "Example: Thread 1 holds Resource A, waits for Resource B; Thread 2 holds Resource B, waits for Resource A.\n",
    "\n",
    "\n",
    "RACE\n",
    "\n",
    "Occur when multiple threads access shared data simultaneously without proper synchronization, leading to incorrect results.\n",
    "\n",
    "Example: Two threads modify the same variable, causing unpredictable outcomes."
   ]
  },
  {
   "cell_type": "code",
   "execution_count": null,
   "id": "killing-charleston",
   "metadata": {},
   "outputs": [],
   "source": []
  }
 ],
 "metadata": {
  "kernelspec": {
   "display_name": "Python 3",
   "language": "python",
   "name": "python3"
  },
  "language_info": {
   "codemirror_mode": {
    "name": "ipython",
    "version": 3
   },
   "file_extension": ".py",
   "mimetype": "text/x-python",
   "name": "python",
   "nbconvert_exporter": "python",
   "pygments_lexer": "ipython3",
   "version": "3.8.8"
  }
 },
 "nbformat": 4,
 "nbformat_minor": 5
}
