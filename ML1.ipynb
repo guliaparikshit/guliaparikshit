{
  "nbformat": 4,
  "nbformat_minor": 0,
  "metadata": {
    "colab": {
      "provenance": []
    },
    "kernelspec": {
      "name": "python3",
      "display_name": "Python 3"
    },
    "language_info": {
      "name": "python"
    }
  },
  "cells": [
    {
      "cell_type": "code",
      "source": [],
      "metadata": {
        "id": "A-_vMvzmgq1J"
      },
      "execution_count": null,
      "outputs": []
    },
    {
      "cell_type": "markdown",
      "source": [
        "Q1: Explain the following with an example:\n",
        "\n",
        "Artificial Intelligence\n",
        "\n",
        "Machine Learning\n",
        "\n",
        "Deep Learning"
      ],
      "metadata": {
        "id": "LbagQ_GrjjBe"
      }
    },
    {
      "cell_type": "code",
      "source": [],
      "metadata": {
        "id": "KD2ktgwUjn2w"
      },
      "execution_count": null,
      "outputs": []
    },
    {
      "cell_type": "markdown",
      "source": [
        "Artificial Intelligence (AI):\n",
        "AI refers to the simulation of human intelligence in machines that are programmed to think and learn. Example: A virtual assistant like Siri or Alexa, which responds to voice commands and performs tasks.\n",
        "\n",
        "Machine Learning (ML):\n",
        "ML is a subset of AI where algorithms learn from data and improve over time without being explicitly programmed. Example: A recommendation system like Netflix, which suggests shows based on your viewing history.\n",
        "\n",
        "Deep Learning (DL):\n",
        "DL is a subset of ML that uses neural networks with many layers (hence \"deep\") to model complex patterns in large data. Example: Image recognition in applications like Google Photos, which can identify objects in photos"
      ],
      "metadata": {
        "id": "JvmZCHGNjqbp"
      }
    },
    {
      "cell_type": "code",
      "source": [],
      "metadata": {
        "id": "ut1QYXQfjtQy"
      },
      "execution_count": null,
      "outputs": []
    },
    {
      "cell_type": "markdown",
      "source": [
        "Q2: What is supervised learning? List some examples of supervised learning."
      ],
      "metadata": {
        "id": "iLAcQRS0jvZP"
      }
    },
    {
      "cell_type": "code",
      "source": [],
      "metadata": {
        "id": "zrjfIFX7jv2z"
      },
      "execution_count": null,
      "outputs": []
    },
    {
      "cell_type": "markdown",
      "source": [
        "Supervised Learning is a type of ML where the algorithm learns from labeled training data and makes predictions based on that.\n",
        "\n",
        "Examples:\n",
        "\n",
        "Email spam detection\n",
        "\n",
        "Handwriting recognition\n",
        "\n",
        "Credit card fraud detection"
      ],
      "metadata": {
        "id": "EVeKf26DjyeQ"
      }
    },
    {
      "cell_type": "code",
      "source": [],
      "metadata": {
        "id": "J4BTGaF9j0R1"
      },
      "execution_count": null,
      "outputs": []
    },
    {
      "cell_type": "markdown",
      "source": [
        "Q3: What is unsupervised learning? List some examples of unsupervised learning."
      ],
      "metadata": {
        "id": "MsXpcvLsj2QQ"
      }
    },
    {
      "cell_type": "code",
      "source": [],
      "metadata": {
        "id": "2jX3Fsxaj2f6"
      },
      "execution_count": null,
      "outputs": []
    },
    {
      "cell_type": "markdown",
      "source": [
        "Unsupervised Learning involves algorithms learning patterns from unlabeled data. The goal is to discover hidden structures.\n",
        "\n",
        "Examples:\n",
        "\n",
        "Customer segmentation in marketing\n",
        "\n",
        "Anomaly detection (e.g., fraud detection)\n",
        "\n",
        "Clustering in market research"
      ],
      "metadata": {
        "id": "FyxwuamMj4--"
      }
    },
    {
      "cell_type": "code",
      "source": [],
      "metadata": {
        "id": "5YjgBbP-j6nc"
      },
      "execution_count": null,
      "outputs": []
    },
    {
      "cell_type": "markdown",
      "source": [
        "Q4: What is the difference between AI, ML, DL, and DS?"
      ],
      "metadata": {
        "id": "n5ArB8pKj8iE"
      }
    },
    {
      "cell_type": "code",
      "source": [],
      "metadata": {
        "id": "hBQjVOqRj9AS"
      },
      "execution_count": null,
      "outputs": []
    },
    {
      "cell_type": "markdown",
      "source": [
        "AI (Artificial Intelligence) is the broad field focused on creating machines that can perform tasks typically requiring human intelligence.\n",
        "\n",
        "ML (Machine Learning) is a subset of AI that uses data-driven models to enable machines to improve from experience.\n",
        "\n",
        "DL (Deep Learning) is a subfield of ML that uses neural networks with many layers for complex tasks.\n",
        "\n",
        "DS (Data Science) is the field of extracting insights from data using statistical methods, ML, and data visualization."
      ],
      "metadata": {
        "id": "8Wvbv2-jj_gc"
      }
    },
    {
      "cell_type": "code",
      "source": [],
      "metadata": {
        "id": "FhDWjlUXkBYT"
      },
      "execution_count": null,
      "outputs": []
    },
    {
      "cell_type": "markdown",
      "source": [
        "Q5: What are the main differences between supervised, unsupervised, and semi-supervised learning?"
      ],
      "metadata": {
        "id": "nEiVVMjukD54"
      }
    },
    {
      "cell_type": "code",
      "source": [],
      "metadata": {
        "id": "rUIQTZetkEJx"
      },
      "execution_count": null,
      "outputs": []
    },
    {
      "cell_type": "markdown",
      "source": [
        "Supervised Learning: Requires labeled data, and the model learns to predict outputs based on input-output pairs.\n",
        "\n",
        "Unsupervised Learning: Uses unlabeled data to discover hidden patterns or groupings.\n",
        "\n",
        "Semi-supervised Learning: Uses a small amount of labeled data and a large amount of unlabeled data to train the model, leveraging both.\n"
      ],
      "metadata": {
        "id": "nruuli40kGUp"
      }
    },
    {
      "cell_type": "code",
      "source": [],
      "metadata": {
        "id": "MpeMhb62kHtV"
      },
      "execution_count": null,
      "outputs": []
    },
    {
      "cell_type": "markdown",
      "source": [
        "Q6: What is train, test and validation split? Explain the importance of each term."
      ],
      "metadata": {
        "id": "IgoAMUbpkJx7"
      }
    },
    {
      "cell_type": "code",
      "source": [],
      "metadata": {
        "id": "2BUK0UC3kKAF"
      },
      "execution_count": null,
      "outputs": []
    },
    {
      "cell_type": "markdown",
      "source": [
        "Training Set: Used to train the model.\n",
        "\n",
        "Validation Set: Used during training to tune the model's hyperparameters and avoid overfitting.\n",
        "\n",
        "Test Set: Used after training to evaluate the final model's performance on unseen data.\n",
        "\n",
        "Importance: This split ensures that the model generalizes well and is not overfitting or underfitting the data."
      ],
      "metadata": {
        "id": "AikAqRSFkMJx"
      }
    },
    {
      "cell_type": "code",
      "source": [],
      "metadata": {
        "id": "kqcTXZZwkN_r"
      },
      "execution_count": null,
      "outputs": []
    },
    {
      "cell_type": "markdown",
      "source": [
        "Q7: How can unsupervised learning be used in anomaly detection?"
      ],
      "metadata": {
        "id": "yZi4vm87kPop"
      }
    },
    {
      "cell_type": "code",
      "source": [],
      "metadata": {
        "id": "WdvT4QqWkP3G"
      },
      "execution_count": null,
      "outputs": []
    },
    {
      "cell_type": "markdown",
      "source": [
        "In unsupervised learning, anomaly detection can be done by identifying data points that deviate significantly from the normal patterns in the data. Algorithms like clustering (K-means) or density estimation (DBSCAN) are used to detect outliers or rare events.\n",
        "\n"
      ],
      "metadata": {
        "id": "XQvkylnokR0y"
      }
    },
    {
      "cell_type": "code",
      "source": [],
      "metadata": {
        "id": "cZU0J8l3kSDf"
      },
      "execution_count": null,
      "outputs": []
    },
    {
      "cell_type": "markdown",
      "source": [
        "Q8: List down some commonly used supervised learning algorithms and unsupervised learning\n",
        "algorithms."
      ],
      "metadata": {
        "id": "bBK5niockUDg"
      }
    },
    {
      "cell_type": "code",
      "source": [],
      "metadata": {
        "id": "zdieIyPokUYN"
      },
      "execution_count": null,
      "outputs": []
    },
    {
      "cell_type": "markdown",
      "source": [
        "Supervised Learning Algorithms:\n",
        "\n",
        "Linear Regression\n",
        "\n",
        "Decision Trees\n",
        "\n",
        "Support Vector Machines (SVM)\n",
        "\n",
        "K-Nearest Neighbors (KNN)\n",
        "\n",
        "Random Forests\n",
        "\n",
        "\n",
        "Unsupervised Learning Algorithms:\n",
        "\n",
        "K-Means Clustering\n",
        "\n",
        "Hierarchical Clustering\n",
        "\n",
        "Principal Component Analysis (PCA)\n",
        "\n",
        "DBSCAN"
      ],
      "metadata": {
        "id": "AbGK71T9kWrk"
      }
    },
    {
      "cell_type": "code",
      "source": [],
      "metadata": {
        "id": "WalNG0ZYkaJw"
      },
      "execution_count": null,
      "outputs": []
    }
  ]
}