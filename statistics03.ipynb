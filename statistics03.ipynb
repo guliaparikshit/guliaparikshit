{
  "nbformat": 4,
  "nbformat_minor": 0,
  "metadata": {
    "colab": {
      "provenance": []
    },
    "kernelspec": {
      "name": "python3",
      "display_name": "Python 3"
    },
    "language_info": {
      "name": "python"
    }
  },
  "cells": [
    {
      "cell_type": "code",
      "source": [],
      "metadata": {
        "id": "0_tNAfAg0ws2"
      },
      "execution_count": null,
      "outputs": []
    },
    {
      "cell_type": "markdown",
      "source": [
        "Q1. What is the Probability density function?"
      ],
      "metadata": {
        "id": "sJfT8QhA1VUy"
      }
    },
    {
      "cell_type": "code",
      "source": [],
      "metadata": {
        "id": "6eh-C5ae1VrW"
      },
      "execution_count": null,
      "outputs": []
    },
    {
      "cell_type": "markdown",
      "source": [
        "A Probability Density Function (PDF) is a statistical function that describes the likelihood of a continuous random variable taking on a particular value. The area under the curve of the PDF over an interval represents the probability that the random variable falls within that interval. The total area under the PDF curve is always equal to 1."
      ],
      "metadata": {
        "id": "IRFXBG641X_n"
      }
    },
    {
      "cell_type": "code",
      "source": [],
      "metadata": {
        "id": "yJjFt19Z1YWo"
      },
      "execution_count": null,
      "outputs": []
    },
    {
      "cell_type": "markdown",
      "source": [
        "Q2. What are the types of Probability distribution?"
      ],
      "metadata": {
        "id": "IxZk9Cma1Z-H"
      }
    },
    {
      "cell_type": "code",
      "source": [],
      "metadata": {
        "id": "_z5ezLB41aVg"
      },
      "execution_count": null,
      "outputs": []
    },
    {
      "cell_type": "markdown",
      "source": [
        "There are two main types of probability distributions:\n",
        "\n",
        "Discrete Probability Distributions: These apply to discrete random variables, where the possible outcomes can be counted.\n",
        "Examples: Binomial distribution, Poisson distribution, Geometric distribution.\n",
        "\n",
        "Continuous Probability Distributions: These apply to continuous random variables, where the outcomes form a continuous range.\n",
        "Examples: Normal distribution, Exponential distribution, Uniform distribution.\n",
        "\n"
      ],
      "metadata": {
        "id": "VFCmE4tA1cnH"
      }
    },
    {
      "cell_type": "code",
      "source": [],
      "metadata": {
        "id": "gEx4j1TK1dIc"
      },
      "execution_count": null,
      "outputs": []
    },
    {
      "cell_type": "markdown",
      "source": [
        "Q3. Write a Python function to calculate the probability density function of a normal distribution with\n",
        "given mean and standard deviation at a given point."
      ],
      "metadata": {
        "id": "F6l58-pu1fFq"
      }
    },
    {
      "cell_type": "code",
      "source": [
        "import numpy as np\n",
        "import scipy.stats as stats\n",
        "\n",
        "def normal_pdf(x, mean, std_dev):\n",
        "    return stats.norm.pdf(x, mean, std_dev)\n",
        "\n",
        "# Example usage:\n",
        "mean = 0\n",
        "std_dev = 1\n",
        "x = 1\n",
        "pdf_value = normal_pdf(x, mean, std_dev)\n",
        "print(f\"PDF at x={x}: {pdf_value}\")\n"
      ],
      "metadata": {
        "colab": {
          "base_uri": "https://localhost:8080/"
        },
        "id": "gEzs9riK1fne",
        "outputId": "f2f9a229-eec0-486a-c625-f4bd0ea33a5b"
      },
      "execution_count": 1,
      "outputs": [
        {
          "output_type": "stream",
          "name": "stdout",
          "text": [
            "PDF at x=1: 0.24197072451914337\n"
          ]
        }
      ]
    },
    {
      "cell_type": "code",
      "source": [],
      "metadata": {
        "id": "tVxe5xtO1h9K"
      },
      "execution_count": null,
      "outputs": []
    },
    {
      "cell_type": "markdown",
      "source": [
        "Q4. What are the properties of Binomial distribution? Give two examples of events where binomial\n",
        "distribution can be applied."
      ],
      "metadata": {
        "id": "SzL24Jrl1r70"
      }
    },
    {
      "cell_type": "code",
      "source": [],
      "metadata": {
        "id": "Hbs1DUWj1saz"
      },
      "execution_count": null,
      "outputs": []
    },
    {
      "cell_type": "markdown",
      "source": [
        "Properties of Binomial Distribution:\n",
        "\n",
        "Fixed number of trials (n).\n",
        "\n",
        "Two possible outcomes: success or failure.\n",
        "\n",
        "Constant probability of success (p) for each trial.\n",
        "\n",
        "Independent trials: the outcome of one trial does not affect others.\n",
        "\n",
        "\n",
        "Examples:\n",
        "\n",
        "Coin flipping: The probability of getting heads (success) in 10 flips of a fair coin.\n",
        "\n",
        "Quality control: The probability of finding exactly 3 defective items in a sample of 5 items, with a defect rate of 0.2."
      ],
      "metadata": {
        "id": "Z1uPt26z1vb-"
      }
    },
    {
      "cell_type": "code",
      "source": [],
      "metadata": {
        "id": "LP-DiEuX1v11"
      },
      "execution_count": null,
      "outputs": []
    },
    {
      "cell_type": "markdown",
      "source": [
        "Q5. Generate a random sample of size 1000 from a binomial distribution with probability of success 0.4\n",
        "and plot a histogram of the results using matplotlib."
      ],
      "metadata": {
        "id": "En-PvC3n12Hl"
      }
    },
    {
      "cell_type": "code",
      "source": [
        "import numpy as np\n",
        "import matplotlib.pyplot as plt\n",
        "\n",
        "# Parameters\n",
        "n = 10\n",
        "p = 0.4\n",
        "size = 1000\n",
        "sample = np.random.binomial(n, p, size)\n",
        "\n",
        "plt.hist(sample, bins=10, edgecolor='black', alpha=0.7)\n",
        "plt.title('Histogram of Binomial Distribution')\n",
        "plt.xlabel('Number of successes')\n",
        "plt.ylabel('Frequency')\n",
        "plt.show()\n"
      ],
      "metadata": {
        "colab": {
          "base_uri": "https://localhost:8080/",
          "height": 472
        },
        "id": "TSgZZSrH12j_",
        "outputId": "62ec3475-6420-41dd-b18c-e93525cb241e"
      },
      "execution_count": 3,
      "outputs": [
        {
          "output_type": "display_data",
          "data": {
            "text/plain": [
              "<Figure size 640x480 with 1 Axes>"
            ],
            "image/png": "[encoded data removed]"
          },
          "metadata": {}
        }
      ]
    },
    {
      "cell_type": "code",
      "source": [],
      "metadata": {
        "id": "hStgqPrZ15bR"
      },
      "execution_count": null,
      "outputs": []
    },
    {
      "cell_type": "markdown",
      "source": [
        "Q6. Write a Python function to calculate the cumulative distribution function of a Poisson distribution\n",
        "with given mean at a given point."
      ],
      "metadata": {
        "id": "wyeFdLMU2Cdm"
      }
    },
    {
      "cell_type": "code",
      "source": [
        "import scipy.stats as stats\n",
        "\n",
        "def poisson_cdf(x, mean):\n",
        "    return stats.poisson.cdf(x, mean)\n",
        "\n",
        "# Example usage:\n",
        "mean = 5\n",
        "x = 3\n",
        "cdf_value = poisson_cdf(x, mean)\n",
        "print(f\"CDF at x={x}: {cdf_value}\")\n"
      ],
      "metadata": {
        "colab": {
          "base_uri": "https://localhost:8080/"
        },
        "id": "vVh30uzN2CvU",
        "outputId": "582dfd77-c46a-4250-eee9-478a018682a4"
      },
      "execution_count": 4,
      "outputs": [
        {
          "output_type": "stream",
          "name": "stdout",
          "text": [
            "CDF at x=3: 0.2650259152973616\n"
          ]
        }
      ]
    },
    {
      "cell_type": "code",
      "source": [],
      "metadata": {
        "id": "F1jbkbKS2FAS"
      },
      "execution_count": null,
      "outputs": []
    },
    {
      "cell_type": "markdown",
      "source": [
        "Q7. How Binomial distribution different from Poisson distribution?"
      ],
      "metadata": {
        "id": "6RpvgXmt2HrM"
      }
    },
    {
      "cell_type": "code",
      "source": [],
      "metadata": {
        "id": "maBjkPUw2ICV"
      },
      "execution_count": null,
      "outputs": []
    },
    {
      "cell_type": "markdown",
      "source": [
        "Binomial Distribution: Deals with a fixed number of trials (n), where each trial has two outcomes (success or failure), and the probability of success is constant for each trial.\n",
        "\n",
        "Example: Number of heads in 10 coin flips.\n",
        "\n",
        "Poisson Distribution: Deals with the probability of a given number of events occurring within a fixed interval of time or space, when events occur independently and at a constant rate (λ). It is often used when the number of trials is very large, and the probability of success is small.\n",
        "\n",
        "Example: Number of phone calls received at a call center in an hour."
      ],
      "metadata": {
        "id": "lkiFp0tk2KKR"
      }
    },
    {
      "cell_type": "code",
      "source": [],
      "metadata": {
        "id": "GwA1eNY32L9b"
      },
      "execution_count": null,
      "outputs": []
    },
    {
      "cell_type": "markdown",
      "source": [
        "Q8. Generate a random sample of size 1000 from a Poisson distribution with mean 5 and calculate the\n",
        "sample mean and variance."
      ],
      "metadata": {
        "id": "1OC-vY1f2PCS"
      }
    },
    {
      "cell_type": "code",
      "source": [
        "# Parameters\n",
        "mean = 5\n",
        "size = 1000\n",
        "\n",
        "# Generate random sample\n",
        "sample_poisson = np.random.poisson(mean, size)\n",
        "\n",
        "# Calculate sample mean and variance\n",
        "sample_mean = np.mean(sample_poisson)\n",
        "sample_variance = np.var(sample_poisson)\n",
        "\n",
        "print(f\"Sample Mean: {sample_mean}\")\n",
        "print(f\"Sample Variance: {sample_variance}\")\n"
      ],
      "metadata": {
        "colab": {
          "base_uri": "https://localhost:8080/"
        },
        "id": "9Nb2WNgq2PYB",
        "outputId": "d9214833-087c-4cbd-cb7c-82af8412a158"
      },
      "execution_count": 5,
      "outputs": [
        {
          "output_type": "stream",
          "name": "stdout",
          "text": [
            "Sample Mean: 4.951\n",
            "Sample Variance: 5.166599\n"
          ]
        }
      ]
    },
    {
      "cell_type": "code",
      "source": [],
      "metadata": {
        "id": "qMKJmFzY2RaF"
      },
      "execution_count": null,
      "outputs": []
    },
    {
      "cell_type": "markdown",
      "source": [
        "Q9. How mean and variance are related in Binomial distribution and Poisson distribution?"
      ],
      "metadata": {
        "id": "prvjr1V02Tcy"
      }
    },
    {
      "cell_type": "code",
      "source": [],
      "metadata": {
        "id": "oBp8EtcC2Tze"
      },
      "execution_count": null,
      "outputs": []
    },
    {
      "cell_type": "code",
      "source": [],
      "metadata": {
        "id": "b2QIWQGK2WWa"
      },
      "execution_count": null,
      "outputs": []
    },
    {
      "cell_type": "markdown",
      "source": [
        "Q10. In normal distribution with respect to mean position, where does the least frequent data appear?"
      ],
      "metadata": {
        "id": "2B4V3tir2ZlV"
      }
    },
    {
      "cell_type": "code",
      "source": [],
      "metadata": {
        "id": "6wZkpOao2Z2G"
      },
      "execution_count": null,
      "outputs": []
    },
    {
      "cell_type": "markdown",
      "source": [
        "In a normal distribution, the least frequent data points appear at the extremes of the distribution (far from the mean). The frequency of data points decreases as you move further away from the mean in both directions (towards the tails)."
      ],
      "metadata": {
        "id": "shvOzi2-2czE"
      }
    },
    {
      "cell_type": "code",
      "source": [],
      "metadata": {
        "id": "eYDn7L8B2dLW"
      },
      "execution_count": null,
      "outputs": []
    }
  ]
}