{
  "nbformat": 4,
  "nbformat_minor": 0,
  "metadata": {
    "colab": {
      "provenance": []
    },
    "kernelspec": {
      "name": "python3",
      "display_name": "Python 3"
    },
    "language_info": {
      "name": "python"
    }
  },
  "cells": [
    {
      "cell_type": "markdown",
      "source": [
        "Q1. Write a python program to extract the video URL of the first five videos."
      ],
      "metadata": {
        "id": "73ilSwQ4pOWg"
      }
    },
    {
      "cell_type": "code",
      "source": [
        "import yt_dlp\n",
        "\n",
        "def get_video_urls(channel_url):\n",
        "    ydl_opts = {\n",
        "        'quiet': True,\n",
        "        'extract_flat': True,\n",
        "        'force_generic_extractor': True,\n",
        "    }\n",
        "\n",
        "    with yt_dlp.YoutubeDL(ydl_opts) as ydl:\n",
        "        result = ydl.extract_info(channel_url, download=False)\n",
        "\n",
        "        if 'entries' in result:\n",
        "            video_urls = []\n",
        "            for entry in result['entries'][:5]:\n",
        "                video_urls.append(entry['url'])\n",
        "            return video_urls\n",
        "        else:\n",
        "            return []\n",
        "\n",
        "\n",
        "if __name__ == \"__main__\":\n",
        "    channel_url = 'https://www.youtube.com/@PW-Foundation/videos'\n",
        "\n",
        "    video_urls = get_video_urls(channel_url)\n",
        "\n",
        "\n",
        "    for idx, url in enumerate(video_urls, start=1):\n",
        "        print(f\"Video {idx}: {url}\")\n"
      ],
      "metadata": {
        "colab": {
          "base_uri": "https://localhost:8080/"
        },
        "id": "8k0S-t7qoYbg",
        "outputId": "0b50574d-5690-4a15-81f7-dc551d7c5294"
      },
      "execution_count": 8,
      "outputs": [
        {
          "output_type": "stream",
          "name": "stdout",
          "text": [
            "Video 1: https://www.youtube.com/watch?v=rq8QIxQMVn4\n",
            "Video 2: https://www.youtube.com/watch?v=hc1PEXVlgMI\n",
            "Video 3: https://www.youtube.com/watch?v=SZhW3mygxVc\n",
            "Video 4: https://www.youtube.com/watch?v=AqZ1Qb7TiW8\n",
            "Video 5: https://www.youtube.com/watch?v=o4I9505br3M\n"
          ]
        }
      ]
    },
    {
      "cell_type": "code",
      "source": [],
      "metadata": {
        "id": "EoJCtIetpT6a"
      },
      "execution_count": 13,
      "outputs": []
    },
    {
      "cell_type": "markdown",
      "source": [
        "Q2. Write a python program to extract the URL of the video thumbnails of the first five videos."
      ],
      "metadata": {
        "id": "96sBf5yOpbfi"
      }
    },
    {
      "cell_type": "code",
      "source": [
        "import yt_dlp\n",
        "\n",
        "def get_video_thumbnails(channel_url):\n",
        "    ydl_opts = {\n",
        "        'quiet': True,\n",
        "        'extract_flat': True,\n",
        "        'force_generic_extractor': True,\n",
        "    }\n",
        "\n",
        "    with yt_dlp.YoutubeDL(ydl_opts) as ydl:\n",
        "        result = ydl.extract_info(channel_url, download=False)\n",
        "\n",
        "        if 'entries' in result:\n",
        "            thumbnails = []\n",
        "            for entry in result['entries'][:5]:\n",
        "                thumbnails.append(entry.get('thumbnail', 'No thumbnail available'))\n",
        "            return thumbnails\n",
        "        else:\n",
        "            return []\n",
        "\n",
        "\n",
        "if __name__ == \"__main__\":\n",
        "    channel_url = 'https://www.youtube.com/@PW-Foundation/videos'\n",
        "\n",
        "    thumbnails = get_video_thumbnails(channel_url)\n",
        "\n",
        "\n",
        "    for idx, thumbnail in enumerate(thumbnails, start=1):\n",
        "        print(f\"Video {idx} Thumbnail URL: {thumbnail}\")\n"
      ],
      "metadata": {
        "colab": {
          "base_uri": "https://localhost:8080/"
        },
        "id": "kII6tGuco1BT",
        "outputId": "97499f6d-df15-4236-ded5-c54f29a2267c"
      },
      "execution_count": 9,
      "outputs": [
        {
          "output_type": "stream",
          "name": "stdout",
          "text": [
            "Video 1 Thumbnail URL: No thumbnail available\n",
            "Video 2 Thumbnail URL: No thumbnail available\n",
            "Video 3 Thumbnail URL: No thumbnail available\n",
            "Video 4 Thumbnail URL: No thumbnail available\n",
            "Video 5 Thumbnail URL: No thumbnail available\n"
          ]
        }
      ]
    },
    {
      "cell_type": "code",
      "source": [],
      "metadata": {
        "id": "iYTBJKGQo9Kg"
      },
      "execution_count": null,
      "outputs": []
    },
    {
      "cell_type": "markdown",
      "source": [
        "Q3. Write a python program to extract the title of the first five videos."
      ],
      "metadata": {
        "id": "44vQILocpl1w"
      }
    },
    {
      "cell_type": "code",
      "source": [
        "import yt_dlp\n",
        "\n",
        "def get_video_titles(channel_url):\n",
        "    ydl_opts = {\n",
        "        'quiet': True,\n",
        "        'extract_flat': True,\n",
        "        'force_generic_extractor': True,\n",
        "    }\n",
        "\n",
        "    with yt_dlp.YoutubeDL(ydl_opts) as ydl:\n",
        "        result = ydl.extract_info(channel_url, download=False)\n",
        "\n",
        "        if 'entries' in result:\n",
        "            titles = []\n",
        "            for entry in result['entries'][:5]:\n",
        "                titles.append(entry.get('title', 'No title available'))\n",
        "            return titles\n",
        "        else:\n",
        "            return []\n",
        "\n",
        "\n",
        "if __name__ == \"__main__\":\n",
        "    channel_url = 'https://www.youtube.com/@PW-Foundation/videos'\n",
        "\n",
        "    titles = get_video_titles(channel_url)\n",
        "\n",
        "\n",
        "    for idx, title in enumerate(titles, start=1):\n",
        "        print(f\"Video {idx} Title: {title}\")\n"
      ],
      "metadata": {
        "colab": {
          "base_uri": "https://localhost:8080/"
        },
        "id": "Gz0_O7LRo3JI",
        "outputId": "f2450dfa-26da-4b72-ced4-468f24af64be"
      },
      "execution_count": 10,
      "outputs": [
        {
          "output_type": "stream",
          "name": "stdout",
          "text": [
            "Video 1 Title: Gender, Religion and Caste ONE SHOT | Full Chapter Line by Line | Class 10 Civics | Chapter 4\n",
            "Video 2 Title: 10 Deadly Mistakes Class 10 Students Make And How To Avoid Them\n",
            "Video 3 Title: Circles in 36 Minutes || Mind Map Series for Class 10th\n",
            "Video 4 Title: Acids, Bases And Salts in 71 Minutes | Mind Map Series for Class 10th\n",
            "Video 5 Title: Water Resources ONE SHOT | Full Chapter Line by Line | Class 10 Geography | Chapter 3\n"
          ]
        }
      ]
    },
    {
      "cell_type": "code",
      "source": [],
      "metadata": {
        "id": "QjuH7E-4psEN"
      },
      "execution_count": null,
      "outputs": []
    },
    {
      "cell_type": "markdown",
      "source": [
        "Q4. Write a python program to extract the number of views of the first five videos."
      ],
      "metadata": {
        "id": "lr8x6vZepxXQ"
      }
    },
    {
      "cell_type": "code",
      "source": [
        "import yt_dlp\n",
        "\n",
        "def get_video_views(channel_url):\n",
        "    ydl_opts = {\n",
        "        'quiet': True,\n",
        "        'extract_flat': True,\n",
        "        'force_generic_extractor': True,\n",
        "    }\n",
        "\n",
        "    with yt_dlp.YoutubeDL(ydl_opts) as ydl:\n",
        "        result = ydl.extract_info(channel_url, download=False)\n",
        "\n",
        "        if 'entries' in result:\n",
        "            views = []\n",
        "            for entry in result['entries'][:5]:\n",
        "                views.append(entry.get('view_count', 'No views available'))\n",
        "            return views\n",
        "        else:\n",
        "            return []\n",
        "\n",
        "\n",
        "if __name__ == \"__main__\":\n",
        "    channel_url = 'https://www.youtube.com/@PW-Foundation/videos'\n",
        "\n",
        "    views = get_video_views(channel_url)\n",
        "\n",
        "\n",
        "    for idx, view_count in enumerate(views, start=1):\n",
        "        print(f\"Video {idx} Views: {view_count}\")\n"
      ],
      "metadata": {
        "colab": {
          "base_uri": "https://localhost:8080/"
        },
        "id": "B3TD787Ko5Qn",
        "outputId": "609ae952-673d-4a16-8ae7-4cdf3f2ab3b4"
      },
      "execution_count": 11,
      "outputs": [
        {
          "output_type": "stream",
          "name": "stdout",
          "text": [
            "Video 1 Views: 8436\n",
            "Video 2 Views: 89274\n",
            "Video 3 Views: 15500\n",
            "Video 4 Views: 21483\n",
            "Video 5 Views: 10949\n"
          ]
        }
      ]
    },
    {
      "cell_type": "code",
      "source": [],
      "metadata": {
        "id": "J6z3epCepyqo"
      },
      "execution_count": null,
      "outputs": []
    },
    {
      "cell_type": "markdown",
      "source": [
        "Q5. Write a python program to extract the time of posting of video for the first five videos."
      ],
      "metadata": {
        "id": "QQHieCVCp1q8"
      }
    },
    {
      "cell_type": "code",
      "source": [
        "import yt_dlp\n",
        "\n",
        "def get_video_upload_time(channel_url):\n",
        "    ydl_opts = {\n",
        "        'quiet': True,\n",
        "        'extract_flat': True,\n",
        "        'force_generic_extractor': True,\n",
        "    }\n",
        "\n",
        "    with yt_dlp.YoutubeDL(ydl_opts) as ydl:\n",
        "        result = ydl.extract_info(channel_url, download=False)\n",
        "\n",
        "        if 'entries' in result:\n",
        "            upload_times = []\n",
        "            for entry in result['entries'][:5]:\n",
        "                upload_times.append(entry.get('upload_date', 'No upload date available'))\n",
        "            return upload_times\n",
        "        else:\n",
        "            return []\n",
        "\n",
        "\n",
        "if __name__ == \"__main__\":\n",
        "    channel_url = 'https://www.youtube.com/@PW-Foundation/videos'\n",
        "\n",
        "    upload_times = get_video_upload_time(channel_url)\n",
        "\n",
        "\n",
        "    for idx, upload_time in enumerate(upload_times, start=1):\n",
        "        print(f\"Video {idx} Upload Time: {upload_time}\")\n"
      ],
      "metadata": {
        "colab": {
          "base_uri": "https://localhost:8080/"
        },
        "id": "Ol53fS9Wo7Yi",
        "outputId": "30d07295-d9aa-4629-da9e-2e58748205d6"
      },
      "execution_count": 13,
      "outputs": [
        {
          "output_type": "stream",
          "name": "stdout",
          "text": [
            "Video 1 Upload Time: No upload date available\n",
            "Video 2 Upload Time: No upload date available\n",
            "Video 3 Upload Time: No upload date available\n",
            "Video 4 Upload Time: No upload date available\n",
            "Video 5 Upload Time: No upload date available\n"
          ]
        }
      ]
    }
  ]
}