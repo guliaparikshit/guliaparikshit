{
  "nbformat": 4,
  "nbformat_minor": 0,
  "metadata": {
    "colab": {
      "provenance": []
    },
    "kernelspec": {
      "name": "python3",
      "display_name": "Python 3"
    },
    "language_info": {
      "name": "python"
    }
  },
  "cells": [
    {
      "cell_type": "code",
      "source": [
        "pip install scikit-learn\n"
      ],
      "metadata": {
        "colab": {
          "base_uri": "https://localhost:8080/"
        },
        "id": "8Ho7ucvrq3wk",
        "outputId": "0477150b-1bef-4b6b-c1ac-f47d93618d1e"
      },
      "execution_count": 10,
      "outputs": [
        {
          "output_type": "stream",
          "name": "stdout",
          "text": [
            "Requirement already satisfied: scikit-learn in /usr/local/lib/python3.10/dist-packages (1.5.2)\n",
            "Requirement already satisfied: numpy>=1.19.5 in /usr/local/lib/python3.10/dist-packages (from scikit-learn) (1.26.4)\n",
            "Requirement already satisfied: scipy>=1.6.0 in /usr/local/lib/python3.10/dist-packages (from scikit-learn) (1.13.1)\n",
            "Requirement already satisfied: joblib>=1.2.0 in /usr/local/lib/python3.10/dist-packages (from scikit-learn) (1.4.2)\n",
            "Requirement already satisfied: threadpoolctl>=3.1.0 in /usr/local/lib/python3.10/dist-packages (from scikit-learn) (3.5.0)\n"
          ]
        }
      ]
    },
    {
      "cell_type": "code",
      "source": [
        "pip install numpy\n"
      ],
      "metadata": {
        "colab": {
          "base_uri": "https://localhost:8080/"
        },
        "id": "BmPKtjggsYB9",
        "outputId": "3bfc94ce-4532-4e56-f5f8-960a0138ec6c"
      },
      "execution_count": 11,
      "outputs": [
        {
          "output_type": "stream",
          "name": "stdout",
          "text": [
            "Requirement already satisfied: numpy in /usr/local/lib/python3.10/dist-packages (1.26.4)\n"
          ]
        }
      ]
    },
    {
      "cell_type": "code",
      "source": [
        "pip install pandas\n"
      ],
      "metadata": {
        "colab": {
          "base_uri": "https://localhost:8080/"
        },
        "id": "S3wMWRJosZYx",
        "outputId": "ba760449-c50c-4b01-8fe8-74f4a928a691"
      },
      "execution_count": 12,
      "outputs": [
        {
          "output_type": "stream",
          "name": "stdout",
          "text": [
            "Requirement already satisfied: pandas in /usr/local/lib/python3.10/dist-packages (2.2.2)\n",
            "Requirement already satisfied: numpy>=1.22.4 in /usr/local/lib/python3.10/dist-packages (from pandas) (1.26.4)\n",
            "Requirement already satisfied: python-dateutil>=2.8.2 in /usr/local/lib/python3.10/dist-packages (from pandas) (2.8.2)\n",
            "Requirement already satisfied: pytz>=2020.1 in /usr/local/lib/python3.10/dist-packages (from pandas) (2024.2)\n",
            "Requirement already satisfied: tzdata>=2022.7 in /usr/local/lib/python3.10/dist-packages (from pandas) (2024.2)\n",
            "Requirement already satisfied: six>=1.5 in /usr/local/lib/python3.10/dist-packages (from python-dateutil>=2.8.2->pandas) (1.16.0)\n"
          ]
        }
      ]
    },
    {
      "cell_type": "code",
      "source": [],
      "metadata": {
        "id": "t4nr2Uf3sasK"
      },
      "execution_count": null,
      "outputs": []
    },
    {
      "cell_type": "markdown",
      "source": [
        "Q1. Pearson correlation coefficient is a measure of the linear relationship between two variables. Suppose\n",
        "you have collected data on the amount of time students spend studying for an exam and their final exam\n",
        "scores. Calculate the Pearson correlation coefficient between these two variables and interpret the result."
      ],
      "metadata": {
        "id": "EDGFTt2Ptao4"
      }
    },
    {
      "cell_type": "code",
      "source": [
        "import numpy as np\n",
        "from scipy.stats import pearsonr\n",
        "\n",
        "# Sample data (hours spent studying, exam scores)\n",
        "study_hours = np.array([1, 2, 3, 4, 5])\n",
        "exam_scores = np.array([50, 60, 70, 80, 90])\n",
        "\n",
        "# Calculate Pearson correlation\n",
        "corr, _ = pearsonr(study_hours, exam_scores)\n",
        "print(f\"Pearson correlation coefficient: {corr}\")\n"
      ],
      "metadata": {
        "colab": {
          "base_uri": "https://localhost:8080/"
        },
        "id": "PNI7tt_qtbEQ",
        "outputId": "26518a06-e088-4e94-9a20-9277f22e0cd5"
      },
      "execution_count": 16,
      "outputs": [
        {
          "output_type": "stream",
          "name": "stdout",
          "text": [
            "Pearson correlation coefficient: 1.0\n"
          ]
        }
      ]
    },
    {
      "cell_type": "code",
      "source": [],
      "metadata": {
        "id": "ZCEndDvrtceY"
      },
      "execution_count": null,
      "outputs": []
    },
    {
      "cell_type": "markdown",
      "source": [
        "Q2. Spearman's rank correlation is a measure of the monotonic relationship between two variables.\n",
        "Suppose you have collected data on the amount of sleep individuals get each night and their overall job\n",
        "satisfaction level on a scale of 1 to 10. Calculate the Spearman's rank correlation between these two\n",
        "variables and interpret the result."
      ],
      "metadata": {
        "id": "dFNEBG_ItesK"
      }
    },
    {
      "cell_type": "code",
      "source": [
        "from scipy.stats import spearmanr\n",
        "\n",
        "# Sample data (hours of sleep, job satisfaction)\n",
        "sleep_hours = np.array([6, 7, 8, 5, 9])\n",
        "job_satisfaction = np.array([4, 6, 8, 5, 7])\n",
        "\n",
        "# Calculate Spearman's rank correlation\n",
        "corr, _ = spearmanr(sleep_hours, job_satisfaction)\n",
        "print(f\"Spearman's rank correlation: {corr}\")\n"
      ],
      "metadata": {
        "colab": {
          "base_uri": "https://localhost:8080/"
        },
        "id": "iblox4Mvte87",
        "outputId": "56824c7a-ce8c-4230-dc9c-e9eb0233d80f"
      },
      "execution_count": 17,
      "outputs": [
        {
          "output_type": "stream",
          "name": "stdout",
          "text": [
            "Spearman's rank correlation: 0.7999999999999999\n"
          ]
        }
      ]
    },
    {
      "cell_type": "code",
      "source": [],
      "metadata": {
        "id": "fdPUbBGRtg83"
      },
      "execution_count": null,
      "outputs": []
    },
    {
      "cell_type": "markdown",
      "source": [
        "Q3. Suppose you are conducting a study to examine the relationship between the number of hours of\n",
        "exercise per week and body mass index (BMI) in a sample of adults. You collected data on both variables\n",
        "for 50 participants. Calculate the Pearson correlation coefficient and the Spearman's rank correlation\n",
        "between these two variables and compare the results."
      ],
      "metadata": {
        "id": "N2hEAAGXtjNZ"
      }
    },
    {
      "cell_type": "code",
      "source": [
        "# Sample data (exercise hours per week, BMI)\n",
        "exercise_hours = np.random.normal(5, 2, 50)  # 50 participants, mean=5, std=2\n",
        "bmi = np.random.normal(25, 4, 50)  # BMI values for 50 participants\n",
        "\n",
        "# Calculate Pearson correlation\n",
        "pearson_corr, _ = pearsonr(exercise_hours, bmi)\n",
        "\n",
        "# Calculate Spearman's rank correlation\n",
        "spearman_corr, _ = spearmanr(exercise_hours, bmi)\n",
        "\n",
        "print(f\"Pearson correlation coefficient: {pearson_corr}\")\n",
        "print(f\"Spearman's rank correlation: {spearman_corr}\")\n"
      ],
      "metadata": {
        "colab": {
          "base_uri": "https://localhost:8080/"
        },
        "id": "Mcy9PI9xtjeM",
        "outputId": "4cf9aceb-e0bb-458e-ecf0-a1061c738f4b"
      },
      "execution_count": 18,
      "outputs": [
        {
          "output_type": "stream",
          "name": "stdout",
          "text": [
            "Pearson correlation coefficient: 0.005848477189317684\n",
            "Spearman's rank correlation: 0.04969987995198079\n"
          ]
        }
      ]
    },
    {
      "cell_type": "code",
      "source": [],
      "metadata": {
        "id": "t6bfjcC9tk3t"
      },
      "execution_count": null,
      "outputs": []
    },
    {
      "cell_type": "markdown",
      "source": [
        "Q4. A researcher is interested in examining the relationship between the number of hours individuals\n",
        "spend watching television per day and their level of physical activity. The researcher collected data on\n",
        "both variables from a sample of 50 participants. Calculate the Pearson correlation coefficient between\n",
        "these two variables."
      ],
      "metadata": {
        "id": "bMwbVMM-tpg6"
      }
    },
    {
      "cell_type": "code",
      "source": [
        "# Sample data (TV hours, physical activity level)\n",
        "tv_hours = np.random.normal(3, 1, 50)  # 50 participants, mean=3, std=1\n",
        "activity_level = np.random.normal(4, 2, 50)  # Physical activity levels (e.g., 1-10 scale)\n",
        "\n",
        "# Calculate Pearson correlation\n",
        "pearson_corr, _ = pearsonr(tv_hours, activity_level)\n",
        "print(f\"Pearson correlation coefficient: {pearson_corr}\")\n"
      ],
      "metadata": {
        "colab": {
          "base_uri": "https://localhost:8080/"
        },
        "id": "8R1bnZ2Gtpwb",
        "outputId": "8657415d-4be9-4750-f1e6-efa8af4ed7e8"
      },
      "execution_count": 19,
      "outputs": [
        {
          "output_type": "stream",
          "name": "stdout",
          "text": [
            "Pearson correlation coefficient: -0.022557118870922935\n"
          ]
        }
      ]
    },
    {
      "cell_type": "code",
      "source": [],
      "metadata": {
        "id": "h9KSbpjEtrKN"
      },
      "execution_count": null,
      "outputs": []
    },
    {
      "cell_type": "markdown",
      "source": [
        "Q6. A company is interested in examining the relationship between the number of sales calls made per day\n",
        "and the number of sales made per week. The company collected data on both variables from a sample of\n",
        "30 sales representatives. Calculate the Pearson correlation coefficient between these two variables."
      ],
      "metadata": {
        "id": "KRWyEXiptto5"
      }
    },
    {
      "cell_type": "code",
      "source": [
        "import numpy as np\n",
        "from scipy.stats import pearsonr\n",
        "\n",
        "# Sample data (sales calls per day and sales per week for 30 sales reps)\n",
        "sales_calls_per_day = np.array([30, 35, 40, 45, 50, 55, 60, 65, 70, 75,\n",
        "                               80, 85, 90, 95, 100, 105, 110, 115, 120, 125,\n",
        "                               130, 135, 140, 145, 150, 155, 160, 165, 170, 175])\n",
        "\n",
        "sales_per_week = np.array([5, 7, 8, 10, 11, 12, 14, 15, 16, 17,\n",
        "                          18, 19, 20, 21, 23, 24, 25, 26, 28, 29,\n",
        "                          30, 32, 33, 34, 36, 37, 39, 40, 42, 43])\n",
        "\n",
        "# Calculate Pearson correlation coefficient\n",
        "corr, _ = pearsonr(sales_calls_per_day, sales_per_week)\n",
        "\n",
        "# Print the result\n",
        "print(f\"Pearson correlation coefficient: {corr}\")\n"
      ],
      "metadata": {
        "colab": {
          "base_uri": "https://localhost:8080/"
        },
        "id": "D8Oe9cVEtv98",
        "outputId": "1e92ad6a-538c-4315-adec-cd586b115cfb"
      },
      "execution_count": 20,
      "outputs": [
        {
          "output_type": "stream",
          "name": "stdout",
          "text": [
            "Pearson correlation coefficient: 0.9986697232954794\n"
          ]
        }
      ]
    },
    {
      "cell_type": "code",
      "source": [],
      "metadata": {
        "id": "8Ffj0jRFtzYz"
      },
      "execution_count": null,
      "outputs": []
    },
    {
      "cell_type": "markdown",
      "source": [
        "Q5. A survey was conducted to examine the relationship between age and preference for a particular\n",
        "brand of soft drink. The survey results are shown below:"
      ],
      "metadata": {
        "id": "V3BIjCBat2Mg"
      }
    },
    {
      "cell_type": "code",
      "source": [
        "import numpy as np\n",
        "from scipy.stats import spearmanr\n",
        "\n",
        "# Given data: Age and Soft Drink Preference\n",
        "ages = np.array([25, 42, 37, 19, 31, 28])\n",
        "preferences = ['Coke', 'Pepsi', 'Mountain Dew', 'Coke', 'Pepsi', 'Coke']\n",
        "\n",
        "# Encode drink preferences: Coke=1, Pepsi=2, Mountain Dew=3\n",
        "encoded_preferences = {'Coke': 1, 'Pepsi': 2, 'Mountain Dew': 3}\n",
        "preferences_encoded = np.array([encoded_preferences[drink] for drink in preferences])\n",
        "\n",
        "# Calculate Spearman's rank correlation\n",
        "corr, _ = spearmanr(ages, preferences_encoded)\n",
        "\n",
        "# Print the result\n",
        "print(f\"Spearman's rank correlation coefficient: {corr}\")\n"
      ],
      "metadata": {
        "colab": {
          "base_uri": "https://localhost:8080/"
        },
        "id": "7YwS2FrVt2bX",
        "outputId": "0978234a-c287-4ca9-dfb8-d3bc300ee5c3"
      },
      "execution_count": 21,
      "outputs": [
        {
          "output_type": "stream",
          "name": "stdout",
          "text": [
            "Spearman's rank correlation coefficient: 0.8332380897952965\n"
          ]
        }
      ]
    },
    {
      "cell_type": "code",
      "source": [],
      "metadata": {
        "id": "vF6i-HH_t88N"
      },
      "execution_count": null,
      "outputs": []
    }
  ]
}