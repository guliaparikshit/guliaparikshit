{
  "nbformat": 4,
  "nbformat_minor": 0,
  "metadata": {
    "colab": {
      "provenance": []
    },
    "kernelspec": {
      "name": "python3",
      "display_name": "Python 3"
    },
    "language_info": {
      "name": "python"
    }
  },
  "cells": [
    {
      "cell_type": "code",
      "source": [],
      "metadata": {
        "id": "neFKi77J8dO5"
      },
      "execution_count": null,
      "outputs": []
    },
    {
      "cell_type": "markdown",
      "source": [
        "Q1: What is the difference between a t-test and a z-test? Provide an example scenario where you would\n",
        "use each type of test."
      ],
      "metadata": {
        "id": "G0pmHXPbBQ23"
      }
    },
    {
      "cell_type": "code",
      "source": [],
      "metadata": {
        "id": "xxWQQpjUBRJg"
      },
      "execution_count": null,
      "outputs": []
    },
    {
      "cell_type": "markdown",
      "source": [
        "T-test: A t-test is used when the sample size is small (typically less than 30) and/or when the population standard deviation is unknown. It uses the t-distribution.\n",
        "\n",
        "Example: Testing whether the average score of 20 students on a test is different from the population mean score when the population standard deviation is unknown.\n",
        "\n",
        "Z-test: A z-test is used when the sample size is large (typically greater than 30) or when the population standard deviation is known. It uses the z-distribution.\n",
        "\n",
        "Example: Testing whether the mean weight of a sample of 1000 people is different from the known population mean weight when the population standard deviation is known."
      ],
      "metadata": {
        "id": "gAmNWF8KBTAf"
      }
    },
    {
      "cell_type": "code",
      "source": [],
      "metadata": {
        "id": "tIglwkaQBT8f"
      },
      "execution_count": null,
      "outputs": []
    },
    {
      "cell_type": "markdown",
      "source": [
        "Q2: Differentiate between one-tailed and two-tailed tests."
      ],
      "metadata": {
        "id": "GvTfbFcQBWYk"
      }
    },
    {
      "cell_type": "code",
      "source": [],
      "metadata": {
        "id": "Y9OmCuVVBWvH"
      },
      "execution_count": null,
      "outputs": []
    },
    {
      "cell_type": "markdown",
      "source": [
        "One-tailed Test: A hypothesis test where the alternative hypothesis is directional (e.g., greater than or less than). It tests for the possibility of an effect in one direction only.\n",
        "\n",
        "Example: Testing if a drug decreases blood pressure (i.e., looking for a decrease only).\n",
        "\n",
        "Two-tailed Test: A hypothesis test where the alternative hypothesis is non-directional (e.g., different from). It tests for the possibility of an effect in both directions.\n",
        "\n",
        "Example: Testing if a drug has an effect on blood pressure (either increase or decrease)."
      ],
      "metadata": {
        "id": "ormmsFfMBa31"
      }
    },
    {
      "cell_type": "code",
      "source": [],
      "metadata": {
        "id": "7PtMgK4hBcr1"
      },
      "execution_count": null,
      "outputs": []
    },
    {
      "cell_type": "markdown",
      "source": [
        "Q3: Explain the concept of Type 1 and Type 2 errors in hypothesis testing. Provide an example scenario for\n",
        "each type of error."
      ],
      "metadata": {
        "id": "VEevUT-mBe4v"
      }
    },
    {
      "cell_type": "code",
      "source": [],
      "metadata": {
        "id": "sK9-dL93BfQe"
      },
      "execution_count": null,
      "outputs": []
    },
    {
      "cell_type": "markdown",
      "source": [
        "Type 1 Error (False Positive): Rejecting the null hypothesis when it is actually true.\n",
        "\n",
        "Example: Concluding that a new drug works (it decreases blood pressure) when in reality, it does not.\n",
        "\n",
        "Type 2 Error (False Negative): Failing to reject the null hypothesis when it is actually false.\n",
        "\n",
        "Example: Concluding that a new drug has no effect when in reality, it does.\n"
      ],
      "metadata": {
        "id": "rJawRdQZBiU1"
      }
    },
    {
      "cell_type": "code",
      "source": [],
      "metadata": {
        "id": "sZBF6WXbBj3K"
      },
      "execution_count": null,
      "outputs": []
    },
    {
      "cell_type": "markdown",
      "source": [
        "Q4: Explain Bayes's theorem with an example."
      ],
      "metadata": {
        "id": "_OK44_VKBmyI"
      }
    },
    {
      "cell_type": "code",
      "source": [
        "\n",
        "P_A = 0.01\n",
        "P_B_given_A = 0.95\n",
        "P_B_given_not_A = 0.10\n",
        "P_not_A = 0.99\n",
        "\n",
        "P_B = (P_B_given_A * P_A) + (P_B_given_not_A * P_not_A)\n",
        "\n",
        "# Applying Bayes's Theorem\n",
        "P_A_given_B = (P_B_given_A * P_A) / P_B\n",
        "\n",
        "print(f\"Probability of having the disease given a positive test: {P_A_given_B:.4f}\")\n"
      ],
      "metadata": {
        "colab": {
          "base_uri": "https://localhost:8080/"
        },
        "id": "Q2dV8QVUBnGd",
        "outputId": "a880232e-ce23-4e38-de32-5c42415f4107"
      },
      "execution_count": 16,
      "outputs": [
        {
          "output_type": "stream",
          "name": "stdout",
          "text": [
            "Probability of having the disease given a positive test: 0.0876\n"
          ]
        }
      ]
    },
    {
      "cell_type": "code",
      "source": [],
      "metadata": {
        "id": "f5JXlMsTBpnZ"
      },
      "execution_count": null,
      "outputs": []
    },
    {
      "cell_type": "markdown",
      "source": [
        "Q5: What is a confidence interval? How to calculate the confidence interval, explain with an example."
      ],
      "metadata": {
        "id": "6K3QN7p1Bs2B"
      }
    },
    {
      "cell_type": "code",
      "source": [
        "sample_mean = 50\n",
        "sample_std = 5\n",
        "sample_size = 30\n",
        "confidence_level = 0.95\n",
        "\n",
        "\n",
        "se = sample_std / np.sqrt(sample_size)\n",
        "\n",
        "\n",
        "z_score = stats.norm.ppf(1 - (1 - confidence_level) / 2)\n",
        "\n",
        "margin_of_error = z_score * se\n",
        "\n",
        "\n",
        "lower_bound = sample_mean - margin_of_error\n",
        "upper_bound = sample_mean + margin_of_error\n",
        "\n",
        "print(f\"95% Confidence Interval: ({lower_bound}, {upper_bound})\")\n"
      ],
      "metadata": {
        "colab": {
          "base_uri": "https://localhost:8080/"
        },
        "id": "8XTLRmyVBtR3",
        "outputId": "b122ab53-86c8-4afe-c62c-9c8918f41d9c"
      },
      "execution_count": 17,
      "outputs": [
        {
          "output_type": "stream",
          "name": "stdout",
          "text": [
            "95% Confidence Interval: (48.210805856282846, 51.789194143717154)\n"
          ]
        }
      ]
    },
    {
      "cell_type": "code",
      "source": [],
      "metadata": {
        "id": "nFDDWe11BvVo"
      },
      "execution_count": null,
      "outputs": []
    },
    {
      "cell_type": "markdown",
      "source": [
        "Q7. Calculate the 95% confidence interval for a sample of data with a mean of 50 and a standard deviation\n",
        "of 5. Interpret the results."
      ],
      "metadata": {
        "id": "JWkGFiDEBxzX"
      }
    },
    {
      "cell_type": "code",
      "source": [
        "sample_mean = 50\n",
        "sample_std = 5\n",
        "sample_size = 30\n",
        "confidence_level = 0.95\n",
        "\n",
        "\n",
        "se = sample_std / np.sqrt(sample_size)\n",
        "\n",
        "\n",
        "z_score = stats.norm.ppf(1 - (1 - confidence_level) / 2)\n",
        "\n",
        "\n",
        "margin_of_error = z_score * se\n",
        "\n",
        "\n",
        "lower_bound = sample_mean - margin_of_error\n",
        "upper_bound = sample_mean + margin_of_error\n",
        "\n",
        "print(f\"95% Confidence Interval: ({lower_bound}, {upper_bound})\")\n"
      ],
      "metadata": {
        "colab": {
          "base_uri": "https://localhost:8080/"
        },
        "id": "YW4jz9UAByFV",
        "outputId": "69189baf-6066-4983-91af-d84c05196b92"
      },
      "execution_count": 18,
      "outputs": [
        {
          "output_type": "stream",
          "name": "stdout",
          "text": [
            "95% Confidence Interval: (48.210805856282846, 51.789194143717154)\n"
          ]
        }
      ]
    },
    {
      "cell_type": "code",
      "source": [],
      "metadata": {
        "id": "hOlSy3PgB0j6"
      },
      "execution_count": null,
      "outputs": []
    },
    {
      "cell_type": "markdown",
      "source": [
        "Q8. What is the margin of error in a confidence interval? How does sample size affect the margin of error?\n",
        "Provide an example of a scenario where a larger sample size would result in a smaller margin of error."
      ],
      "metadata": {
        "id": "z1XKTbXpB3zY"
      }
    },
    {
      "cell_type": "code",
      "source": [],
      "metadata": {
        "id": "G96lDlkHB4FE"
      },
      "execution_count": null,
      "outputs": []
    },
    {
      "cell_type": "markdown",
      "source": [
        "Margin of Error is the range above and below the sample estimate that we are confident contains the true population parameter.\n",
        "\n",
        "Effect of Sample Size: Increasing the sample size reduces the margin of error, making the estimate more precise.\n",
        "\n",
        "Example: If you have a sample size of 100 versus 1000, the larger sample size would give a smaller margin of error, resulting in a more accurate estimate of the population mean."
      ],
      "metadata": {
        "id": "0W--bdYtB666"
      }
    },
    {
      "cell_type": "code",
      "source": [],
      "metadata": {
        "id": "uTXsvcyEB9tc"
      },
      "execution_count": null,
      "outputs": []
    },
    {
      "cell_type": "markdown",
      "source": [
        "Q9. Calculate the z-score for a data point with a value of 75, a population mean of 70, and a population\n",
        "standard deviation of 5. Interpret the results."
      ],
      "metadata": {
        "id": "2mRqScxkCADO"
      }
    },
    {
      "cell_type": "code",
      "source": [
        "value = 75\n",
        "mean = 70\n",
        "std_dev = 5\n",
        "\n",
        "\n",
        "z_score = (value - mean) / std_dev\n",
        "print(f\"Z-score: {z_score}\")\n"
      ],
      "metadata": {
        "colab": {
          "base_uri": "https://localhost:8080/"
        },
        "id": "U6jFptoOCAcE",
        "outputId": "1e59343d-5591-48af-d9be-080a0600f0fe"
      },
      "execution_count": 19,
      "outputs": [
        {
          "output_type": "stream",
          "name": "stdout",
          "text": [
            "Z-score: 1.0\n"
          ]
        }
      ]
    },
    {
      "cell_type": "code",
      "source": [],
      "metadata": {
        "id": "qNotV7KQCB5n"
      },
      "execution_count": null,
      "outputs": []
    },
    {
      "cell_type": "markdown",
      "source": [
        "Q10. In a study of the effectiveness of a new weight loss drug, a sample of 50 participants lost an average\n",
        "of 6 pounds with a standard deviation of 2.5 pounds. Conduct a hypothesis test to determine if the drug is\n",
        "significantly effective at a 95% confidence level using a t-test."
      ],
      "metadata": {
        "id": "n5NIvY01CD1V"
      }
    },
    {
      "cell_type": "code",
      "source": [
        "\n",
        "sample_mean = 6\n",
        "population_mean = 0\n",
        "sample_std = 2.5\n",
        "sample_size = 50\n",
        "alpha = 0.05\n",
        "\n",
        "\n",
        "se = sample_std / np.sqrt(sample_size)\n",
        "\n",
        "t_stat = (sample_mean - population_mean) / se\n",
        "\n",
        "\n",
        "df = sample_size - 1\n",
        "\n",
        "\n",
        "p_value = stats.t.cdf(t_stat, df)\n",
        "\n",
        "\n",
        "if p_value < alpha:\n",
        "    result = \"Reject the null hypothesis\"\n",
        "else:\n",
        "    result = \"Fail to reject the null hypothesis\"\n",
        "\n",
        "print(f\"t-statistic: {t_stat}, p-value: {p_value}\")\n",
        "print(result)\n"
      ],
      "metadata": {
        "colab": {
          "base_uri": "https://localhost:8080/"
        },
        "id": "TTH96-hBCEIS",
        "outputId": "08ad3ec3-fb2b-4d33-a06d-df395ae30799"
      },
      "execution_count": 20,
      "outputs": [
        {
          "output_type": "stream",
          "name": "stdout",
          "text": [
            "t-statistic: 16.970562748477143, p-value: 1.0\n",
            "Fail to reject the null hypothesis\n"
          ]
        }
      ]
    },
    {
      "cell_type": "code",
      "source": [],
      "metadata": {
        "id": "BbBJt2uYCFre"
      },
      "execution_count": null,
      "outputs": []
    },
    {
      "cell_type": "markdown",
      "source": [
        "Q11. In a survey of 500 people, 65% reported being satisfied with their current job. Calculate the 95%\n",
        "confidence interval for the true proportion of people who are satisfied with their job."
      ],
      "metadata": {
        "id": "tHE8vkf3CISy"
      }
    },
    {
      "cell_type": "code",
      "source": [
        "\n",
        "sample_proportion = 0.65\n",
        "sample_size = 500\n",
        "confidence_level = 0.95\n",
        "\n",
        "\n",
        "se_proportion = np.sqrt((sample_proportion * (1 - sample_proportion)) / sample_size)\n",
        "\n",
        "\n",
        "z_score = stats.norm.ppf(1 - (1 - confidence_level) / 2)\n",
        "\n",
        "\n",
        "margin_of_error = z_score * se_proportion\n",
        "\n",
        "\n",
        "lower_bound = sample_proportion - margin_of_error\n",
        "upper_bound = sample_proportion + margin_of_error\n",
        "\n",
        "print(f\"95% Confidence Interval for the true proportion: ({lower_bound:.4f}, {upper_bound:.4f})\")\n"
      ],
      "metadata": {
        "colab": {
          "base_uri": "https://localhost:8080/"
        },
        "id": "kTOOI8z4CIr9",
        "outputId": "62f94651-2a31-4e51-adbd-2e2713c3c249"
      },
      "execution_count": 21,
      "outputs": [
        {
          "output_type": "stream",
          "name": "stdout",
          "text": [
            "95% Confidence Interval for the true proportion: (0.6082, 0.6918)\n"
          ]
        }
      ]
    },
    {
      "cell_type": "code",
      "source": [],
      "metadata": {
        "id": "prq0WrmPCPzS"
      },
      "execution_count": null,
      "outputs": []
    },
    {
      "cell_type": "markdown",
      "source": [
        "Q12. A researcher is testing the effectiveness of two different teaching methods on student performance.\n",
        "Sample A has a mean score of 85 with a standard deviation of 6, while sample B has a mean score of 82\n",
        "with a standard deviation of 5. Conduct a hypothesis test to determine if the two teaching methods have a\n",
        "significant difference in student performance using a t-test with a significance level of 0.01."
      ],
      "metadata": {
        "id": "4707t5o3CSFI"
      }
    },
    {
      "cell_type": "code",
      "source": [
        "\n",
        "mean_A = 85\n",
        "std_A = 6\n",
        "n_A = 30\n",
        "\n",
        "mean_B = 82\n",
        "std_B = 5\n",
        "n_B = 40\n",
        "\n",
        "\n",
        "alpha = 0.01\n",
        "\n",
        "\n",
        "se = np.sqrt((std_A**2 / n_A) + (std_B**2 / n_B))\n",
        "\n",
        "t_stat = (mean_A - mean_B) / se\n",
        "\n",
        "\n",
        "df = ((std_A**2 / n_A + std_B**2 / n_B)**2) / (((std_A**2 / n_A)**2 / (n_A - 1)) + ((std_B**2 / n_B)**2 / (n_B - 1)))\n",
        "\n",
        "\n",
        "p_value = 2 * (1 - stats.t.cdf(abs(t_stat), df))\n",
        "\n",
        "\n",
        "if p_value < alpha:\n",
        "    result = \"Reject the null hypothesis\"\n",
        "else:\n",
        "    result = \"Fail to reject the null hypothesis\"\n",
        "\n",
        "print(f\"t-statistic: {t_stat:.4f}, p-value: {p_value:.4f}\")\n",
        "print(result)\n"
      ],
      "metadata": {
        "colab": {
          "base_uri": "https://localhost:8080/"
        },
        "id": "hnT6lecoCSXZ",
        "outputId": "be0a2dd7-6f40-44e9-abb9-7946a3250d5f"
      },
      "execution_count": 22,
      "outputs": [
        {
          "output_type": "stream",
          "name": "stdout",
          "text": [
            "t-statistic: 2.2207, p-value: 0.0304\n",
            "Fail to reject the null hypothesis\n"
          ]
        }
      ]
    },
    {
      "cell_type": "code",
      "source": [],
      "metadata": {
        "id": "uWpluAupCU2G"
      },
      "execution_count": null,
      "outputs": []
    },
    {
      "cell_type": "markdown",
      "source": [
        "Q13. A population has a mean of 60 and a standard deviation of 8. A sample of 50 observations has a mean\n",
        "of 65. Calculate the 90% confidence interval for the true population mean."
      ],
      "metadata": {
        "id": "KZvS3adNCWzk"
      }
    },
    {
      "cell_type": "code",
      "source": [
        "\n",
        "sample_mean = 65\n",
        "pop_mean = 60  # Not used directly here, just to know\n",
        "pop_std = 8\n",
        "sample_size = 50\n",
        "confidence_level = 0.90\n",
        "\n",
        "\n",
        "se = pop_std / np.sqrt(sample_size)\n",
        "\n",
        "\n",
        "z_score = stats.norm.ppf(1 - (1 - confidence_level) / 2)\n",
        "\n",
        "\n",
        "margin_of_error = z_score * se\n",
        "\n",
        "\n",
        "lower_bound = sample_mean - margin_of_error\n",
        "upper_bound = sample_mean + margin_of_error\n",
        "\n",
        "print(f\"90% Confidence Interval: ({lower_bound:.2f}, {upper_bound:.2f})\")\n"
      ],
      "metadata": {
        "colab": {
          "base_uri": "https://localhost:8080/"
        },
        "id": "Iyb54pJdCXKJ",
        "outputId": "b3b1e92c-2117-48e4-8909-13a7e952a46c"
      },
      "execution_count": 23,
      "outputs": [
        {
          "output_type": "stream",
          "name": "stdout",
          "text": [
            "90% Confidence Interval: (63.14, 66.86)\n"
          ]
        }
      ]
    },
    {
      "cell_type": "code",
      "source": [],
      "metadata": {
        "id": "eCZbHNRMCZMw"
      },
      "execution_count": null,
      "outputs": []
    },
    {
      "cell_type": "markdown",
      "source": [
        "Q14. In a study of the effects of caffeine on reaction time, a sample of 30 participants had an average\n",
        "reaction time of 0.25 seconds with a standard deviation of 0.05 seconds. Conduct a hypothesis test to\n",
        "determine if the caffeine has a significant effect on reaction time at a 90% confidence level using a t-test."
      ],
      "metadata": {
        "id": "xNfQ4ZQjCb9l"
      }
    },
    {
      "cell_type": "code",
      "source": [
        "\n",
        "sample_mean = 0.25\n",
        "population_mean = 0.30\n",
        "sample_std = 0.05\n",
        "sample_size = 30\n",
        "alpha = 0.10\n",
        "\n",
        "\n",
        "se = sample_std / np.sqrt(sample_size)\n",
        "\n",
        "t_stat = (sample_mean - population_mean) / se\n",
        "\n",
        "\n",
        "df = sample_size - 1\n",
        "\n",
        "p_value = 2 * (1 - stats.t.cdf(abs(t_stat), df))\n",
        "\n",
        "\n",
        "if p_value < alpha:\n",
        "    result = \"Reject the null hypothesis\"\n",
        "else:\n",
        "    result = \"Fail to reject the null hypothesis\"\n",
        "\n",
        "print(f\"t-statistic: {t_stat:.4f}, p-value: {p_value:.4f}\")\n",
        "print(result)\n"
      ],
      "metadata": {
        "colab": {
          "base_uri": "https://localhost:8080/"
        },
        "id": "whL-su9fCca1",
        "outputId": "eb92d9b4-133b-4a97-b5c2-bfb848d67876"
      },
      "execution_count": 24,
      "outputs": [
        {
          "output_type": "stream",
          "name": "stdout",
          "text": [
            "t-statistic: -5.4772, p-value: 0.0000\n",
            "Reject the null hypothesis\n"
          ]
        }
      ]
    },
    {
      "cell_type": "code",
      "source": [],
      "metadata": {
        "id": "u6EN3VKgCeHe"
      },
      "execution_count": null,
      "outputs": []
    }
  ]
}