{
  "nbformat": 4,
  "nbformat_minor": 0,
  "metadata": {
    "colab": {
      "provenance": []
    },
    "kernelspec": {
      "name": "python3",
      "display_name": "Python 3"
    },
    "language_info": {
      "name": "python"
    }
  },
  "cells": [
    {
      "cell_type": "code",
      "source": [
        "pip install scikit-learn\n"
      ],
      "metadata": {
        "colab": {
          "base_uri": "https://localhost:8080/"
        },
        "id": "8Ho7ucvrq3wk",
        "outputId": "0477150b-1bef-4b6b-c1ac-f47d93618d1e"
      },
      "execution_count": 10,
      "outputs": [
        {
          "output_type": "stream",
          "name": "stdout",
          "text": [
            "Requirement already satisfied: scikit-learn in /usr/local/lib/python3.10/dist-packages (1.5.2)\n",
            "Requirement already satisfied: numpy>=1.19.5 in /usr/local/lib/python3.10/dist-packages (from scikit-learn) (1.26.4)\n",
            "Requirement already satisfied: scipy>=1.6.0 in /usr/local/lib/python3.10/dist-packages (from scikit-learn) (1.13.1)\n",
            "Requirement already satisfied: joblib>=1.2.0 in /usr/local/lib/python3.10/dist-packages (from scikit-learn) (1.4.2)\n",
            "Requirement already satisfied: threadpoolctl>=3.1.0 in /usr/local/lib/python3.10/dist-packages (from scikit-learn) (3.5.0)\n"
          ]
        }
      ]
    },
    {
      "cell_type": "code",
      "source": [
        "pip install numpy\n"
      ],
      "metadata": {
        "colab": {
          "base_uri": "https://localhost:8080/"
        },
        "id": "BmPKtjggsYB9",
        "outputId": "3bfc94ce-4532-4e56-f5f8-960a0138ec6c"
      },
      "execution_count": 11,
      "outputs": [
        {
          "output_type": "stream",
          "name": "stdout",
          "text": [
            "Requirement already satisfied: numpy in /usr/local/lib/python3.10/dist-packages (1.26.4)\n"
          ]
        }
      ]
    },
    {
      "cell_type": "code",
      "source": [
        "pip install pandas\n"
      ],
      "metadata": {
        "colab": {
          "base_uri": "https://localhost:8080/"
        },
        "id": "S3wMWRJosZYx",
        "outputId": "ba760449-c50c-4b01-8fe8-74f4a928a691"
      },
      "execution_count": 12,
      "outputs": [
        {
          "output_type": "stream",
          "name": "stdout",
          "text": [
            "Requirement already satisfied: pandas in /usr/local/lib/python3.10/dist-packages (2.2.2)\n",
            "Requirement already satisfied: numpy>=1.22.4 in /usr/local/lib/python3.10/dist-packages (from pandas) (1.26.4)\n",
            "Requirement already satisfied: python-dateutil>=2.8.2 in /usr/local/lib/python3.10/dist-packages (from pandas) (2.8.2)\n",
            "Requirement already satisfied: pytz>=2020.1 in /usr/local/lib/python3.10/dist-packages (from pandas) (2024.2)\n",
            "Requirement already satisfied: tzdata>=2022.7 in /usr/local/lib/python3.10/dist-packages (from pandas) (2024.2)\n",
            "Requirement already satisfied: six>=1.5 in /usr/local/lib/python3.10/dist-packages (from python-dateutil>=2.8.2->pandas) (1.16.0)\n"
          ]
        }
      ]
    },
    {
      "cell_type": "code",
      "source": [],
      "metadata": {
        "id": "t4nr2Uf3sasK"
      },
      "execution_count": null,
      "outputs": []
    },
    {
      "cell_type": "markdown",
      "source": [
        "Q1. What is the difference between Ordinal Encoding and Label Encoding? Provide an example of when you\n",
        "might choose one over the other."
      ],
      "metadata": {
        "id": "eOD0F1tosee3"
      }
    },
    {
      "cell_type": "code",
      "source": [],
      "metadata": {
        "id": "HgAl1Bj0setd"
      },
      "execution_count": null,
      "outputs": []
    },
    {
      "cell_type": "markdown",
      "source": [
        "Ordinal Encoding is used when the categorical data has a natural order (e.g., \"Low\", \"Medium\", \"High\"). It assigns integer values based on the order.\n",
        "\n",
        "Label Encoding is used when categories don't have a natural order, and simply assigns an integer value to each category."
      ],
      "metadata": {
        "id": "ITMPmcEXsguK"
      }
    },
    {
      "cell_type": "code",
      "source": [],
      "metadata": {
        "id": "HSTddgYbshtP"
      },
      "execution_count": null,
      "outputs": []
    },
    {
      "cell_type": "markdown",
      "source": [
        "Q2. Explain how Target Guided Ordinal Encoding works and provide an example of when you might use it in\n",
        "a machine learning project."
      ],
      "metadata": {
        "id": "YR9usC78sjzA"
      }
    },
    {
      "cell_type": "code",
      "source": [],
      "metadata": {
        "id": "71PfifKdskGA"
      },
      "execution_count": null,
      "outputs": []
    },
    {
      "cell_type": "markdown",
      "source": [
        "Target Guided Ordinal Encoding assigns integer values to categories based on their mean target value. This technique is useful when you want to encode categorical features based on how they correlate with the target variable.\n",
        "\n",
        "How it works:\n",
        "\n",
        "For each category in a feature, calculate the average target value.\n",
        "\n",
        "Sort the categories by their mean target value.\n",
        "\n",
        "Assign integers based on the sorted order."
      ],
      "metadata": {
        "id": "NuJV5SgWsnze"
      }
    },
    {
      "cell_type": "code",
      "source": [],
      "metadata": {
        "id": "4BONra7DspNF"
      },
      "execution_count": null,
      "outputs": []
    },
    {
      "cell_type": "markdown",
      "source": [
        "Q3. Define covariance and explain why it is important in statistical analysis. How is covariance calculated?"
      ],
      "metadata": {
        "id": "GzDn_9KlsrYb"
      }
    },
    {
      "cell_type": "code",
      "source": [],
      "metadata": {
        "id": "lfjAnyu8srqq"
      },
      "execution_count": null,
      "outputs": []
    },
    {
      "cell_type": "markdown",
      "source": [
        "Covariance measures the relationship between two variables. It indicates whether the variables tend to increase/decrease together (positive covariance) or if one increases while the other decreases (negative covariance).\n",
        "\n",
        "Importance: Covariance helps understand how two variables are related and is used in portfolio management, feature selection, and principal component analysis"
      ],
      "metadata": {
        "id": "Buw5cYBYsuJE"
      }
    },
    {
      "cell_type": "code",
      "source": [],
      "metadata": {
        "id": "GUu7uutTsu4m"
      },
      "execution_count": null,
      "outputs": []
    },
    {
      "cell_type": "markdown",
      "source": [
        "Q4. For a dataset with the following categorical variables: Color (red, green, blue), Size (small, medium,\n",
        "large), and Material (wood, metal, plastic), perform label encoding using Python's scikit-learn library.\n",
        "Show your code and explain the output."
      ],
      "metadata": {
        "id": "us7dSj6-swy4"
      }
    },
    {
      "cell_type": "code",
      "source": [
        "from sklearn.preprocessing import LabelEncoder\n",
        "\n",
        "# Categorical data\n",
        "color = ['red', 'green', 'blue']\n",
        "size = ['small', 'medium', 'large']\n",
        "material = ['wood', 'metal', 'plastic']\n",
        "\n",
        "# Initialize the LabelEncoder\n",
        "encoder = LabelEncoder()\n",
        "\n",
        "# Perform label encoding\n",
        "color_encoded = encoder.fit_transform(color)\n",
        "size_encoded = encoder.fit_transform(size)\n",
        "material_encoded = encoder.fit_transform(material)\n",
        "\n",
        "print(f\"Encoded color: {color_encoded}\")\n",
        "print(f\"Encoded size: {size_encoded}\")\n",
        "print(f\"Encoded material: {material_encoded}\")\n"
      ],
      "metadata": {
        "colab": {
          "base_uri": "https://localhost:8080/"
        },
        "id": "TEkWbV__sxFe",
        "outputId": "5e5286ef-869c-492c-cc92-ff2780bdee4c"
      },
      "execution_count": 13,
      "outputs": [
        {
          "output_type": "stream",
          "name": "stdout",
          "text": [
            "Encoded color: [2 1 0]\n",
            "Encoded size: [2 1 0]\n",
            "Encoded material: [2 0 1]\n"
          ]
        }
      ]
    },
    {
      "cell_type": "code",
      "source": [],
      "metadata": {
        "id": "le-6gdSDsy7J"
      },
      "execution_count": null,
      "outputs": []
    },
    {
      "cell_type": "markdown",
      "source": [
        "Q5. Calculate the covariance matrix for the following variables in a dataset: Age, Income, and Education\n",
        "level. Interpret the results."
      ],
      "metadata": {
        "id": "PB1Mo5SGs1Ot"
      }
    },
    {
      "cell_type": "code",
      "source": [
        "import numpy as np\n",
        "\n",
        "# Sample data\n",
        "age = np.array([25, 30, 35, 40, 45])\n",
        "income = np.array([30, 40, 50, 60, 70])\n",
        "education = np.array([1, 2, 2, 3, 3])  # 1 = High School, 2 = Bachelor, 3 = Master\n",
        "\n",
        "# Stack variables into a matrix\n",
        "data = np.column_stack((age, income, education))\n",
        "\n",
        "# Covariance matrix\n",
        "cov_matrix = np.cov(data, rowvar=False)\n",
        "print(cov_matrix)\n"
      ],
      "metadata": {
        "colab": {
          "base_uri": "https://localhost:8080/"
        },
        "id": "lYcemFY6s1d5",
        "outputId": "7fd142c1-577d-46e8-ce54-b203513d048a"
      },
      "execution_count": 14,
      "outputs": [
        {
          "output_type": "stream",
          "name": "stdout",
          "text": [
            "[[ 62.5  125.     6.25]\n",
            " [125.   250.    12.5 ]\n",
            " [  6.25  12.5    0.7 ]]\n"
          ]
        }
      ]
    },
    {
      "cell_type": "code",
      "source": [],
      "metadata": {
        "id": "1UWOTBmos3ON"
      },
      "execution_count": null,
      "outputs": []
    },
    {
      "cell_type": "markdown",
      "source": [
        "Q6. You are working on a machine learning project with a dataset containing several categorical\n",
        "variables, including \"Gender\" (Male/Female), \"Education Level\" (High School/Bachelor's/Master's/PhD),\n",
        "and \"Employment Status\" (Unemployed/Part-Time/Full-Time). Which encoding method would you use for\n",
        "each variable, and why?"
      ],
      "metadata": {
        "id": "7dgKwzyms6IJ"
      }
    },
    {
      "cell_type": "code",
      "source": [],
      "metadata": {
        "id": "dkCuQ0cps6WS"
      },
      "execution_count": null,
      "outputs": []
    },
    {
      "cell_type": "markdown",
      "source": [
        "Gender (Male/Female): Label Encoding — Only two categories with no inherent order, so label encoding works fine.\n",
        "\n",
        "Education Level (High School/Bachelor's/Master's/PhD): Ordinal Encoding — This has an inherent order (High School < Bachelor's < Master's < PhD).\n",
        "\n",
        "Employment Status (Unemployed/Part-Time/Full-Time): Label Encoding or One-Hot Encoding — If there’s no order, use one-hot encoding. If there’s a natural order, use ordinal encoding.\n"
      ],
      "metadata": {
        "id": "F0MjEvQRs9Nh"
      }
    },
    {
      "cell_type": "code",
      "source": [],
      "metadata": {
        "id": "Pl_KIjWfs-uE"
      },
      "execution_count": null,
      "outputs": []
    },
    {
      "cell_type": "markdown",
      "source": [
        "Q7. You are analyzing a dataset with two continuous variables, \"Temperature\" and \"Humidity\", and two\n",
        "categorical variables, \"Weather Condition\" (Sunny/Cloudy/Rainy) and \"Wind Direction\" (North/South/\n",
        "East/West). Calculate the covariance between each pair of variables and interpret the results."
      ],
      "metadata": {
        "id": "_814GcWBtA5A"
      }
    },
    {
      "cell_type": "code",
      "source": [
        "import pandas as pd\n",
        "\n",
        "# Sample data\n",
        "data = {\n",
        "    'Temperature': [30, 32, 35, 28, 25],\n",
        "    'Humidity': [70, 60, 55, 80, 85],\n",
        "    'Weather Condition': ['Sunny', 'Cloudy', 'Rainy', 'Sunny', 'Rainy'],\n",
        "    'Wind Direction': ['North', 'East', 'West', 'South', 'North']\n",
        "}\n",
        "\n",
        "df = pd.DataFrame(data)\n",
        "\n",
        "# Convert categorical variables to numeric using label encoding\n",
        "df['Weather Condition'] = df['Weather Condition'].astype('category').cat.codes\n",
        "df['Wind Direction'] = df['Wind Direction'].astype('category').cat.codes\n",
        "\n",
        "# Calculate the covariance matrix\n",
        "cov_matrix = df.cov()\n",
        "print(cov_matrix)\n"
      ],
      "metadata": {
        "id": "bYer4XNKtBMR",
        "outputId": "3dd241be-6c10-46de-b552-80459a6d7c96",
        "colab": {
          "base_uri": "https://localhost:8080/"
        }
      },
      "execution_count": 15,
      "outputs": [
        {
          "output_type": "stream",
          "name": "stdout",
          "text": [
            "                   Temperature  Humidity  Weather Condition  Wind Direction\n",
            "Temperature               14.5     -47.5               -1.0             1.5\n",
            "Humidity                 -47.5     162.5                5.0            -2.5\n",
            "Weather Condition         -1.0       5.0                0.7             0.4\n",
            "Wind Direction             1.5      -2.5                0.4             1.3\n"
          ]
        }
      ]
    },
    {
      "cell_type": "code",
      "source": [],
      "metadata": {
        "id": "VYXkkVOXtCm4"
      },
      "execution_count": null,
      "outputs": []
    },
    {
      "cell_type": "code",
      "source": [],
      "metadata": {
        "id": "_Grijbs8tErY"
      },
      "execution_count": null,
      "outputs": []
    }
  ]
}