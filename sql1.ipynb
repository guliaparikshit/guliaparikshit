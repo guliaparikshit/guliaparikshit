{
  "nbformat": 4,
  "nbformat_minor": 0,
  "metadata": {
    "colab": {
      "provenance": []
    },
    "kernelspec": {
      "name": "python3",
      "display_name": "Python 3"
    },
    "language_info": {
      "name": "python"
    }
  },
  "cells": [
    {
      "cell_type": "code",
      "source": [],
      "metadata": {
        "id": "2TuFiVgjYEYY"
      },
      "execution_count": null,
      "outputs": []
    },
    {
      "cell_type": "markdown",
      "source": [
        "Q1. What is a database? Differentiate between SQL and NoSQL databases."
      ],
      "metadata": {
        "id": "lxbK6VZSbdNB"
      }
    },
    {
      "cell_type": "code",
      "source": [],
      "metadata": {
        "id": "zGIlTYE4bdfT"
      },
      "execution_count": null,
      "outputs": []
    },
    {
      "cell_type": "markdown",
      "source": [
        "A database is an organized collection of data, typically stored electronically in a computer system. Databases are used to store, retrieve, manage, and manipulate data.\n",
        "\n",
        "SQL (Structured Query Language) databases are relational, meaning they store data in tables with predefined schemas. They are well-suited for structured data and support complex queries.\n",
        "\n",
        "Examples: MySQL, PostgreSQL, Oracle.\n",
        "NoSQL (Not Only SQL) databases are non-relational and are designed for unstructured or semi-structured data. They provide flexibility in data modeling and scalability.\n",
        "\n",
        "Examples: MongoDB, Cassandra, Redis."
      ],
      "metadata": {
        "id": "FPik-roJbf4d"
      }
    },
    {
      "cell_type": "code",
      "source": [],
      "metadata": {
        "id": "ci9d45IlbgMh"
      },
      "execution_count": null,
      "outputs": []
    },
    {
      "cell_type": "markdown",
      "source": [
        "Q2. What is DDL? Explain why CREATE, DROP, ALTER, and TRUNCATE are used with an example."
      ],
      "metadata": {
        "id": "mp-hMc0Zbj93"
      }
    },
    {
      "cell_type": "code",
      "source": [],
      "metadata": {
        "id": "-uGA3Bu4bkP2"
      },
      "execution_count": null,
      "outputs": []
    },
    {
      "cell_type": "markdown",
      "source": [
        "CREATE: Used to create a new table, database, or index.\n",
        "\n",
        "CREATE TABLE Students (ID INT, Name VARCHAR(100));\n",
        "\n",
        "\n",
        "DROP: Used to delete a table or database.\n",
        "\n",
        "DROP TABLE Students;\n",
        "\n",
        "\n",
        "ALTER: Used to modify an existing table (e.g., add columns).\n",
        "\n",
        "ALTER TABLE Students ADD COLUMN Age INT;\n",
        "\n",
        "\n",
        "TRUNCATE: Used to remove all rows from a table but keep its structure.\n",
        "\n",
        "TRUNCATE TABLE Students;\n",
        "\n"
      ],
      "metadata": {
        "id": "Qr9WVS0Cbsrj"
      }
    },
    {
      "cell_type": "code",
      "source": [],
      "metadata": {
        "id": "wap0_En-bzns"
      },
      "execution_count": null,
      "outputs": []
    },
    {
      "cell_type": "markdown",
      "source": [
        "Q3. What is DML? Explain INSERT, UPDATE, and DELETE with an example."
      ],
      "metadata": {
        "id": "HsXTcw1JcCow"
      }
    },
    {
      "cell_type": "code",
      "source": [],
      "metadata": {
        "id": "ABjutoAgcDHE"
      },
      "execution_count": null,
      "outputs": []
    },
    {
      "cell_type": "markdown",
      "source": [
        "DML (Data Manipulation Language) refers to SQL commands that manipulate data within a table.\n",
        "\n",
        "INSERT: Adds new rows to a table.\n",
        "\n",
        "Example: INSERT INTO Students (ID, Name) VALUES (1, 'John');\n",
        "\n",
        "UPDATE: Modifies existing data in a table.\n",
        "\n",
        "\n",
        "Example: UPDATE Students SET Name = 'Jane' WHERE ID = 1;\n",
        "\n",
        "DELETE: Removes data from a table.\n",
        "\n",
        "Example: DELETE FROM Students WHERE ID = 1;"
      ],
      "metadata": {
        "id": "9JtIT-ifcGLS"
      }
    },
    {
      "cell_type": "code",
      "source": [],
      "metadata": {
        "id": "abQY3eWmcGyC"
      },
      "execution_count": null,
      "outputs": []
    },
    {
      "cell_type": "markdown",
      "source": [
        "Q4. What is DQL? Explain SELECT with an example."
      ],
      "metadata": {
        "id": "6dk2ZvEUcNFr"
      }
    },
    {
      "cell_type": "code",
      "source": [],
      "metadata": {
        "id": "GHopCr8ZcNdC"
      },
      "execution_count": null,
      "outputs": []
    },
    {
      "cell_type": "markdown",
      "source": [
        "DQL (Data Query Language) refers to SQL commands used to query the database and retrieve data.\n",
        "\n",
        "SELECT: Retrieves data from a table.\n",
        "\n",
        "Example: SELECT * FROM Students; (This selects all rows from the \"Students\" table.)"
      ],
      "metadata": {
        "id": "U9ysj5tscQI5"
      }
    },
    {
      "cell_type": "code",
      "source": [],
      "metadata": {
        "id": "abSQLMXwcRS-"
      },
      "execution_count": null,
      "outputs": []
    },
    {
      "cell_type": "markdown",
      "source": [
        "Q5. Explain Primary Key and Foreign Key."
      ],
      "metadata": {
        "id": "ZBhAc9g-cTX9"
      }
    },
    {
      "cell_type": "code",
      "source": [],
      "metadata": {
        "id": "c_6ZCUjUcTw9"
      },
      "execution_count": null,
      "outputs": []
    },
    {
      "cell_type": "markdown",
      "source": [
        "Primary Key: A unique identifier for each record in a table. It cannot have NULL values.\n",
        "\n",
        "Example: In a \"Students\" table, ID could be the primary key.\n",
        "Foreign Key: A field in a table that creates a link between two tables. It references the primary key in another table.\n",
        "\n",
        "Example: In an \"Orders\" table, Student_ID could be a foreign key referring to ID in the \"Students\" table."
      ],
      "metadata": {
        "id": "8mCiRmWOcWT0"
      }
    },
    {
      "cell_type": "code",
      "source": [],
      "metadata": {
        "id": "7xXzCrVicWox"
      },
      "execution_count": null,
      "outputs": []
    },
    {
      "cell_type": "markdown",
      "source": [
        "Q6. Write a python code to connect MySQL to python. Explain the cursor() and execute() method."
      ],
      "metadata": {
        "id": "5K4hKyr7cYwC"
      }
    },
    {
      "cell_type": "code",
      "source": [
        "pip install mysql-connector-python\n"
      ],
      "metadata": {
        "colab": {
          "base_uri": "https://localhost:8080/"
        },
        "id": "_PexW_ITcZAd",
        "outputId": "6e95cb15-b84b-48c1-edbb-1ae635e4d5e7"
      },
      "execution_count": 3,
      "outputs": [
        {
          "output_type": "stream",
          "name": "stdout",
          "text": [
            "Collecting mysql-connector-python\n",
            "  Downloading mysql_connector_python-9.1.0-cp310-cp310-manylinux_2_28_x86_64.whl.metadata (6.0 kB)\n",
            "Downloading mysql_connector_python-9.1.0-cp310-cp310-manylinux_2_28_x86_64.whl (34.4 MB)\n",
            "\u001b[2K   \u001b[90m━━━━━━━━━━━━━━━━━━━━━━━━━━━━━━━━━━━━━━━━\u001b[0m \u001b[32m34.4/34.4 MB\u001b[0m \u001b[31m31.0 MB/s\u001b[0m eta \u001b[36m0:00:00\u001b[0m\n",
            "\u001b[?25hInstalling collected packages: mysql-connector-python\n",
            "Successfully installed mysql-connector-python-9.1.0\n"
          ]
        }
      ]
    },
    {
      "cell_type": "code",
      "source": [
        "import mysql.connector\n",
        "from mysql.connector import Error\n",
        "\n",
        "conn = None\n",
        "\n",
        "try:\n",
        "\n",
        "    conn = mysql.connector.connect(\n",
        "        host=\"localhost\",\n",
        "        user=\"root\",\n",
        "        password=\"yourpassword\",\n",
        "        database=\"school_db\"\n",
        "    )\n",
        "\n",
        "\n",
        "    if conn.is_connected():\n",
        "        print(\"Connected to MySQL database\")\n",
        "\n",
        "\n",
        "    cursor = conn.cursor()\n",
        "\n",
        "\n",
        "    cursor.execute(\"SELECT * FROM Students\")\n",
        "\n",
        "\n",
        "    rows = cursor.fetchall()\n",
        "    for row in rows:\n",
        "        print(row)\n",
        "\n",
        "except Error as err:\n",
        "    print(f\"Error: {err}\")\n",
        "\n",
        "finally:\n",
        "\n",
        "    if conn and conn.is_connected():\n",
        "        cursor.close()\n",
        "        conn.close()\n",
        "        print(\"Connection closed\")\n"
      ],
      "metadata": {
        "colab": {
          "base_uri": "https://localhost:8080/"
        },
        "id": "qB93xePhcxz9",
        "outputId": "0d0b6e30-1071-482f-da7c-2da3c6f60c8c"
      },
      "execution_count": 5,
      "outputs": [
        {
          "output_type": "stream",
          "name": "stdout",
          "text": [
            "Error: 2003 (HY000): Can't connect to MySQL server on 'localhost:3306' (99)\n"
          ]
        }
      ]
    },
    {
      "cell_type": "markdown",
      "source": [
        "cursor(): Creates a cursor object that allows interaction with the database (e.g., executing SQL queries).\n",
        "\n",
        "execute(): Executes a SQL query or command on the database.\n"
      ],
      "metadata": {
        "id": "yakuan8jccG2"
      }
    },
    {
      "cell_type": "markdown",
      "source": [
        "Q7. Give the order of execution of SQL clauses in an SQL query."
      ],
      "metadata": {
        "id": "erL98HEecmhl"
      }
    },
    {
      "cell_type": "code",
      "source": [],
      "metadata": {
        "id": "8mPpqHeAcgNX"
      },
      "execution_count": null,
      "outputs": []
    },
    {
      "cell_type": "markdown",
      "source": [
        "The order of SQL clauses execution (from first to last):\n",
        "\n",
        "FROM: Specifies the tables to query.\n",
        "\n",
        "WHERE: Filters records based on conditions.\n",
        "\n",
        "GROUP BY: Groups rows with common values.\n",
        "\n",
        "HAVING: Filters groups based on conditions.\n",
        "\n",
        "SELECT: Specifies the columns to retrieve.\n",
        "\n",
        "ORDER BY: Sorts the result set."
      ],
      "metadata": {
        "id": "gJzaOsLSco4X"
      }
    },
    {
      "cell_type": "code",
      "source": [],
      "metadata": {
        "id": "S_hKRqpPcuWA"
      },
      "execution_count": null,
      "outputs": []
    },
    {
      "cell_type": "markdown",
      "source": [
        "**sql code**\n",
        "\n",
        "\n",
        "SELECT Name, COUNT(*)\n",
        "\n",
        "FROM Students\n",
        "\n",
        "WHERE Age > 18\n",
        "\n",
        "GROUP BY Name\n",
        "\n",
        "HAVING COUNT(*) > 1\n",
        "\n",
        "ORDER BY Name;\n"
      ],
      "metadata": {
        "id": "izowCU-UcxML"
      }
    }
  ]
}