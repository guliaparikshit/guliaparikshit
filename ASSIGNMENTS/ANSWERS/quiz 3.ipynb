{
 "cells": [
  {
   "cell_type": "markdown",
   "id": "0d40791b-0aee-44ab-a4bb-4fd65d0bc31f",
   "metadata": {},
   "source": [
    "Q1. Which keyword is used to create a function? Create a function to return a list of odd numbers in the\n",
    "range of 1 to 25."
   ]
  },
  {
   "cell_type": "code",
   "execution_count": 1,
   "id": "d725ad98-b12a-44e3-8ad9-1e21dc033181",
   "metadata": {},
   "outputs": [],
   "source": [
    "# def keyword is used to create a function"
   ]
  },
  {
   "cell_type": "code",
   "execution_count": 60,
   "id": "b42a51f6-6e86-45af-a0b9-a594f0b36220",
   "metadata": {},
   "outputs": [],
   "source": [
    "def function01(a):\n",
    "    for i in range (1,25):\n",
    "        if i%2!=0:\n",
    "            print(i , end=' ')\n",
    "        \n",
    "        \n",
    "    \n",
    "    "
   ]
  },
  {
   "cell_type": "code",
   "execution_count": 78,
   "id": "7e7cc1db-74f0-4583-9935-2985bf658931",
   "metadata": {},
   "outputs": [
    {
     "name": "stdout",
     "output_type": "stream",
     "text": [
      "1 3 5 7 9 11 13 15 17 19 21 23 "
     ]
    }
   ],
   "source": [
    "function01(a)"
   ]
  },
  {
   "cell_type": "code",
   "execution_count": null,
   "id": "f07cebdb-b5cf-4230-a196-c43b0a01dc7c",
   "metadata": {},
   "outputs": [],
   "source": []
  },
  {
   "cell_type": "markdown",
   "id": "8a724796-7b62-4a9d-8c66-d5a2b4bdf0a0",
   "metadata": {},
   "source": [
    "Q2. Why *args and **kwargs is used in some functions? Create a function each for *args and **kwargs to\n",
    "demonstrate their use."
   ]
  },
  {
   "cell_type": "code",
   "execution_count": 62,
   "id": "eeabe86d-aef4-4cdb-b7f3-839441a2aa24",
   "metadata": {},
   "outputs": [],
   "source": [
    "#args and kwargs are used to add more arguments to the data basically in args we can save any no of arguments in tuples.\n",
    "#kwargs will use dict function means will recxord data in key and value pair."
   ]
  },
  {
   "cell_type": "code",
   "execution_count": 63,
   "id": "593d9ace-785c-403c-9c51-bc7989bc1302",
   "metadata": {},
   "outputs": [],
   "source": [
    "def function02(*args):\n",
    "    return args"
   ]
  },
  {
   "cell_type": "code",
   "execution_count": 64,
   "id": "9e3349f1-5c74-4a8b-b628-ffaab0827344",
   "metadata": {},
   "outputs": [
    {
     "data": {
      "text/plain": [
       "(1, 2, 3, 4, 5)"
      ]
     },
     "execution_count": 64,
     "metadata": {},
     "output_type": "execute_result"
    }
   ],
   "source": [
    "function02(1,2,3,4,5)"
   ]
  },
  {
   "cell_type": "code",
   "execution_count": 65,
   "id": "00715e4c-4324-4001-b7db-6bc28d8c8aa1",
   "metadata": {},
   "outputs": [
    {
     "data": {
      "text/plain": [
       "(3, 9, 0, 0, 0, 0, 9, 8, 9)"
      ]
     },
     "execution_count": 65,
     "metadata": {},
     "output_type": "execute_result"
    }
   ],
   "source": [
    "function02(3,9,0,0,0,0,9,8,9)"
   ]
  },
  {
   "cell_type": "code",
   "execution_count": 72,
   "id": "73f60fae-178e-462f-ab57-f3d07e65ba23",
   "metadata": {},
   "outputs": [],
   "source": [
    "def function03(**kwargs):\n",
    "    return kwargs\n"
   ]
  },
  {
   "cell_type": "code",
   "execution_count": 76,
   "id": "fbae684d-cbfa-4147-a52a-b4962aab15f6",
   "metadata": {},
   "outputs": [
    {
     "data": {
      "text/plain": [
       "{}"
      ]
     },
     "execution_count": 76,
     "metadata": {},
     "output_type": "execute_result"
    }
   ],
   "source": [
    "function03()"
   ]
  },
  {
   "cell_type": "code",
   "execution_count": 77,
   "id": "598998d0-7426-4b4c-82b5-c39946961a9e",
   "metadata": {},
   "outputs": [
    {
     "data": {
      "text/plain": [
       "{'a': 3, 'b': 7, 'c': 78}"
      ]
     },
     "execution_count": 77,
     "metadata": {},
     "output_type": "execute_result"
    }
   ],
   "source": [
    "function03(a=3,b=7,c=78)"
   ]
  },
  {
   "cell_type": "code",
   "execution_count": null,
   "id": "0d730600-bc67-41be-beae-eea36b1d19ef",
   "metadata": {},
   "outputs": [],
   "source": []
  },
  {
   "cell_type": "markdown",
   "id": "fdf93da8-ce54-4615-a244-18e6c81d1ad2",
   "metadata": {},
   "source": [
    "Q3. What is an iterator in python? Name the method used to initialise the iterator object and the method\n",
    "used for iteration. Use these methods to print the first five elements of the given list [2, 4, 6, 8, 10, 12, 14, 16,\n",
    "18, 20]."
   ]
  },
  {
   "cell_type": "code",
   "execution_count": 82,
   "id": "e56564e5-83ef-43e0-89ba-ec4407d766af",
   "metadata": {},
   "outputs": [
    {
     "name": "stdout",
     "output_type": "stream",
     "text": [
      "2 4 6 8 10 "
     ]
    }
   ],
   "source": [
    "l=[2,4,6,8,10,12,14,16,18,20]\n",
    "n=0\n",
    "for i in l:\n",
    "    if n<5:\n",
    "        print(i , end=' ')\n",
    "    n+=1\n",
    "\n",
    "    "
   ]
  },
  {
   "cell_type": "code",
   "execution_count": null,
   "id": "ddec8911-9392-4016-bc1e-224dfbbbba98",
   "metadata": {},
   "outputs": [],
   "source": []
  },
  {
   "cell_type": "markdown",
   "id": "cfee89ce-5886-4015-9c49-af46a7d253b8",
   "metadata": {},
   "source": [
    "Q4. What is a generator function in python? Why yield keyword is used? Give an example of a generator\n",
    "function."
   ]
  },
  {
   "cell_type": "code",
   "execution_count": 83,
   "id": "dc6b19c2-6657-4a22-ab9d-63c080cc481a",
   "metadata": {},
   "outputs": [],
   "source": [
    "#generator function will only generate when we use for , range is a generator function.\n",
    "#key word used for range is range itself it will generate data one by one it doesnt remeber all data"
   ]
  },
  {
   "cell_type": "code",
   "execution_count": 91,
   "id": "964268d1-3eb4-4cd7-b304-ec0c821ce707",
   "metadata": {},
   "outputs": [
    {
     "name": "stdout",
     "output_type": "stream",
     "text": [
      "1\n",
      "2\n",
      "3\n",
      "4\n",
      "5\n",
      "6\n",
      "7\n",
      "8\n",
      "9\n",
      "10\n",
      "11\n"
     ]
    }
   ],
   "source": [
    "for i in range(1,12):\n",
    "    print(i)"
   ]
  },
  {
   "cell_type": "code",
   "execution_count": null,
   "id": "715e5b3b-9c90-4ae0-a1cd-fc9129486557",
   "metadata": {},
   "outputs": [],
   "source": []
  },
  {
   "cell_type": "markdown",
   "id": "96874ae4-c195-46fe-9787-b71804ea2e2b",
   "metadata": {},
   "source": [
    "Q5. Create a generator function for prime numbers less than 1000. Use the next() method to print the\n",
    "first 20 prime numbers."
   ]
  },
  {
   "cell_type": "code",
   "execution_count": 105,
   "id": "4dbfabb6-faca-4164-af63-db92ba6341e6",
   "metadata": {},
   "outputs": [],
   "source": [
    "def function04(a):\n",
    "    num=[2]\n",
    "    for i in range(2,1000):\n",
    "        if num%i!=0:\n",
    "            print(i)"
   ]
  },
  {
   "cell_type": "code",
   "execution_count": 106,
   "id": "8b009889-1e43-4b92-abde-d11c8e7db878",
   "metadata": {},
   "outputs": [
    {
     "ename": "TypeError",
     "evalue": "unsupported operand type(s) for %: 'list' and 'int'",
     "output_type": "error",
     "traceback": [
      "\u001b[0;31m---------------------------------------------------------------------------\u001b[0m",
      "\u001b[0;31mTypeError\u001b[0m                                 Traceback (most recent call last)",
      "Cell \u001b[0;32mIn[106], line 1\u001b[0m\n\u001b[0;32m----> 1\u001b[0m \u001b[43mfunction04\u001b[49m\u001b[43m(\u001b[49m\u001b[43ma\u001b[49m\u001b[43m)\u001b[49m\n",
      "Cell \u001b[0;32mIn[105], line 4\u001b[0m, in \u001b[0;36mfunction04\u001b[0;34m(a)\u001b[0m\n\u001b[1;32m      2\u001b[0m num\u001b[38;5;241m=\u001b[39m[\u001b[38;5;241m2\u001b[39m]\n\u001b[1;32m      3\u001b[0m \u001b[38;5;28;01mfor\u001b[39;00m i \u001b[38;5;129;01min\u001b[39;00m \u001b[38;5;28mrange\u001b[39m(\u001b[38;5;241m2\u001b[39m,\u001b[38;5;241m1000\u001b[39m):\n\u001b[0;32m----> 4\u001b[0m     \u001b[38;5;28;01mif\u001b[39;00m \u001b[43mnum\u001b[49m\u001b[38;5;241;43m%\u001b[39;49m\u001b[43mi\u001b[49m\u001b[38;5;241m!=\u001b[39m\u001b[38;5;241m0\u001b[39m:\n\u001b[1;32m      5\u001b[0m         \u001b[38;5;28mprint\u001b[39m(i)\n",
      "\u001b[0;31mTypeError\u001b[0m: unsupported operand type(s) for %: 'list' and 'int'"
     ]
    }
   ],
   "source": [
    "function04(a)"
   ]
  },
  {
   "cell_type": "code",
   "execution_count": null,
   "id": "62dffe81-be9f-49f6-b69d-4a9de3b477d5",
   "metadata": {},
   "outputs": [],
   "source": []
  }
 ],
 "metadata": {
  "kernelspec": {
   "display_name": "Python 3 (ipykernel)",
   "language": "python",
   "name": "python3"
  },
  "language_info": {
   "codemirror_mode": {
    "name": "ipython",
    "version": 3
   },
   "file_extension": ".py",
   "mimetype": "text/x-python",
   "name": "python",
   "nbconvert_exporter": "python",
   "pygments_lexer": "ipython3",
   "version": "3.10.8"
  }
 },
 "nbformat": 4,
 "nbformat_minor": 5
}
